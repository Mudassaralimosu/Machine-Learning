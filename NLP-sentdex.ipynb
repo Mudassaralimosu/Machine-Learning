{
 "cells": [
  {
   "cell_type": "raw",
   "metadata": {},
   "source": [
    "                                   Tokenizing words and sentences (Part-1)                                     "
   ]
  },
  {
   "cell_type": "code",
   "execution_count": 4,
   "metadata": {},
   "outputs": [],
   "source": [
    "from nltk.tokenize import sent_tokenize, word_tokenize"
   ]
  },
  {
   "cell_type": "code",
   "execution_count": 5,
   "metadata": {},
   "outputs": [],
   "source": [
    "example_text=\"Hello MR. Smith, how r u doing? The weather is great and python is awesome. The sky is pinkish-blue. you should not eat cardboard\""
   ]
  },
  {
   "cell_type": "code",
   "execution_count": 6,
   "metadata": {},
   "outputs": [
    {
     "name": "stdout",
     "output_type": "stream",
     "text": [
      "['Hello MR. Smith, how r u doing?', 'The weather is great and python is awesome.', 'The sky is pinkish-blue.', 'you should not eat cardboard']\n"
     ]
    }
   ],
   "source": [
    "print(sent_tokenize(example_text))"
   ]
  },
  {
   "cell_type": "code",
   "execution_count": 7,
   "metadata": {
    "scrolled": true
   },
   "outputs": [
    {
     "name": "stdout",
     "output_type": "stream",
     "text": [
      "['Hello', 'MR.', 'Smith', ',', 'how', 'r', 'u', 'doing', '?', 'The', 'weather', 'is', 'great', 'and', 'python', 'is', 'awesome', '.', 'The', 'sky', 'is', 'pinkish-blue', '.', 'you', 'should', 'not', 'eat', 'cardboard']\n"
     ]
    }
   ],
   "source": [
    "print(word_tokenize(example_text))"
   ]
  },
  {
   "cell_type": "code",
   "execution_count": 8,
   "metadata": {},
   "outputs": [
    {
     "name": "stdout",
     "output_type": "stream",
     "text": [
      "Hello\n",
      "MR.\n",
      "Smith\n",
      ",\n",
      "how\n",
      "r\n",
      "u\n",
      "doing\n",
      "?\n",
      "The\n",
      "weather\n",
      "is\n",
      "great\n",
      "and\n",
      "python\n",
      "is\n",
      "awesome\n",
      ".\n",
      "The\n",
      "sky\n",
      "is\n",
      "pinkish-blue\n",
      ".\n",
      "you\n",
      "should\n",
      "not\n",
      "eat\n",
      "cardboard\n"
     ]
    }
   ],
   "source": [
    "for i in word_tokenize(example_text):\n",
    "    print(i)"
   ]
  },
  {
   "cell_type": "raw",
   "metadata": {},
   "source": [
    "                                               PART-2(STOP WORDS)"
   ]
  },
  {
   "cell_type": "code",
   "execution_count": 9,
   "metadata": {},
   "outputs": [],
   "source": [
    "from nltk.corpus import stopwords"
   ]
  },
  {
   "cell_type": "code",
   "execution_count": 10,
   "metadata": {},
   "outputs": [],
   "source": [
    "from nltk.tokenize import word_tokenize"
   ]
  },
  {
   "cell_type": "code",
   "execution_count": 11,
   "metadata": {},
   "outputs": [],
   "source": [
    "example_sentence=\"This is an example showing off stop word filtration.\""
   ]
  },
  {
   "cell_type": "code",
   "execution_count": 12,
   "metadata": {},
   "outputs": [],
   "source": [
    "stop_words=set(stopwords.words(\"english\"))"
   ]
  },
  {
   "cell_type": "code",
   "execution_count": 13,
   "metadata": {},
   "outputs": [
    {
     "name": "stdout",
     "output_type": "stream",
     "text": [
      "{'you', 'that', 'me', 'had', 'does', 'own', 'against', 't', 'then', \"won't\", 'being', 'to', \"you'll\", 'through', \"doesn't\", 'from', 'same', 'our', 'will', 'isn', 'we', 'above', 'ourselves', 'over', 'an', 'themselves', 'did', 'whom', 'if', 'most', \"that'll\", \"weren't\", \"mightn't\", 'him', 'off', 'been', 'or', 'as', 'between', 'when', 'myself', 'too', \"needn't\", 'the', 'by', 'before', 'below', 'y', 'yourselves', 'down', 'don', 're', 'do', 'than', 'on', 'needn', 'i', 'his', 'won', 'about', 'couldn', \"aren't\", 'only', 'which', 'after', 'should', 'of', 'himself', 'once', \"you're\", 'not', \"shouldn't\", 's', 'herself', 'them', 'hadn', \"don't\", 'both', 'again', 'where', 'those', 'has', 'didn', 'yours', \"wouldn't\", 'who', \"she's\", 'it', 'this', 'have', 'during', 'wouldn', 'their', 'but', 'shan', 'was', 'having', 've', 'more', 'why', 'for', 'until', 'he', 'some', 'nor', 'itself', 'o', 'while', \"mustn't\", 'how', 'with', 'she', 'hers', 'her', 'aren', 'few', 'll', 'yourself', \"hasn't\", 'were', \"you've\", 'no', 'any', 'd', 'doing', 'm', 'haven', 'all', 'ma', \"isn't\", 'am', \"haven't\", 'other', 'mightn', 'and', 'can', 'each', \"didn't\", 'under', 'because', 'there', 'now', 'at', 'are', 'is', \"it's\", 'just', 'wasn', \"you'd\", 'what', 'further', 'doesn', 'out', \"should've\", 'ours', \"wasn't\", 'its', 'theirs', 'these', 'into', 'here', 'mustn', 'weren', 'your', 'up', \"couldn't\", 'hasn', 'my', 'be', 'very', 'a', 'they', \"shan't\", \"hadn't\", 'so', 'shouldn', 'in', 'ain', 'such'}\n"
     ]
    }
   ],
   "source": [
    "print(stop_words)"
   ]
  },
  {
   "cell_type": "code",
   "execution_count": 14,
   "metadata": {},
   "outputs": [],
   "source": [
    "words=word_tokenize(example_sentence)"
   ]
  },
  {
   "cell_type": "code",
   "execution_count": 15,
   "metadata": {},
   "outputs": [],
   "source": [
    "filtered_sentence = []"
   ]
  },
  {
   "cell_type": "code",
   "execution_count": 16,
   "metadata": {},
   "outputs": [],
   "source": [
    "for w in words:\n",
    "    if w not in stop_words:\n",
    "        filtered_sentence.append(w)"
   ]
  },
  {
   "cell_type": "code",
   "execution_count": 17,
   "metadata": {},
   "outputs": [
    {
     "name": "stdout",
     "output_type": "stream",
     "text": [
      "['This', 'example', 'showing', 'stop', 'word', 'filtration', '.']\n"
     ]
    }
   ],
   "source": [
    "print(filtered_sentence)"
   ]
  },
  {
   "cell_type": "code",
   "execution_count": 18,
   "metadata": {},
   "outputs": [],
   "source": [
    "filtered_sentence = [w for w in words if w not in stop_words]"
   ]
  },
  {
   "cell_type": "code",
   "execution_count": 19,
   "metadata": {},
   "outputs": [
    {
     "name": "stdout",
     "output_type": "stream",
     "text": [
      "['This', 'example', 'showing', 'stop', 'word', 'filtration', '.']\n"
     ]
    }
   ],
   "source": [
    "print(filtered_sentence)"
   ]
  },
  {
   "cell_type": "raw",
   "metadata": {},
   "source": [
    "                                          Stemming (Part-3)                                  "
   ]
  },
  {
   "cell_type": "code",
   "execution_count": 20,
   "metadata": {},
   "outputs": [],
   "source": [
    "from nltk.stem import PorterStemmer"
   ]
  },
  {
   "cell_type": "code",
   "execution_count": 21,
   "metadata": {},
   "outputs": [],
   "source": [
    "from nltk.tokenize import word_tokenize"
   ]
  },
  {
   "cell_type": "code",
   "execution_count": 22,
   "metadata": {},
   "outputs": [],
   "source": [
    "ps=PorterStemmer()"
   ]
  },
  {
   "cell_type": "code",
   "execution_count": 23,
   "metadata": {},
   "outputs": [],
   "source": [
    "example_words = [\"python\",\"pythoner\",\"pythoning\",\"pythoned\",\"pythonly\"]"
   ]
  },
  {
   "cell_type": "code",
   "execution_count": 24,
   "metadata": {},
   "outputs": [
    {
     "name": "stdout",
     "output_type": "stream",
     "text": [
      "python\n",
      "python\n",
      "python\n",
      "python\n",
      "pythonli\n"
     ]
    }
   ],
   "source": [
    "for w in example_words:\n",
    "    print(ps.stem(w))"
   ]
  },
  {
   "cell_type": "code",
   "execution_count": 25,
   "metadata": {},
   "outputs": [],
   "source": [
    "new_text=\"It is very important to be pythonly while you are pythoning with python. All pythoners have pythoned poorly at least once\""
   ]
  },
  {
   "cell_type": "code",
   "execution_count": 26,
   "metadata": {},
   "outputs": [],
   "source": [
    "words = word_tokenize(new_text)"
   ]
  },
  {
   "cell_type": "code",
   "execution_count": 27,
   "metadata": {},
   "outputs": [
    {
     "name": "stdout",
     "output_type": "stream",
     "text": [
      "It\n",
      "is\n",
      "veri\n",
      "import\n",
      "to\n",
      "be\n",
      "pythonli\n",
      "while\n",
      "you\n",
      "are\n",
      "python\n",
      "with\n",
      "python\n",
      ".\n",
      "all\n",
      "python\n",
      "have\n",
      "python\n",
      "poorli\n",
      "at\n",
      "least\n",
      "onc\n"
     ]
    }
   ],
   "source": [
    "for w in words:\n",
    "    print(ps.stem(w))"
   ]
  },
  {
   "cell_type": "raw",
   "metadata": {},
   "source": [
    "                                             Parts of Speech Tagging"
   ]
  },
  {
   "cell_type": "code",
   "execution_count": 28,
   "metadata": {},
   "outputs": [],
   "source": [
    "import nltk"
   ]
  },
  {
   "cell_type": "code",
   "execution_count": 29,
   "metadata": {},
   "outputs": [],
   "source": [
    "from nltk.corpus import state_union"
   ]
  },
  {
   "cell_type": "code",
   "execution_count": 30,
   "metadata": {},
   "outputs": [],
   "source": [
    "from nltk.tokenize import PunktSentenceTokenizer"
   ]
  },
  {
   "cell_type": "code",
   "execution_count": 31,
   "metadata": {},
   "outputs": [],
   "source": [
    "train_text=state_union.raw('2005-GWBush.txt')"
   ]
  },
  {
   "cell_type": "code",
   "execution_count": 32,
   "metadata": {},
   "outputs": [],
   "source": [
    "sample_text=state_union.raw('2005-GWBush.txt')"
   ]
  },
  {
   "cell_type": "code",
   "execution_count": 33,
   "metadata": {},
   "outputs": [],
   "source": [
    "custom_sent_tokenizer =PunktSentenceTokenizer(train_text)"
   ]
  },
  {
   "cell_type": "code",
   "execution_count": 34,
   "metadata": {},
   "outputs": [],
   "source": [
    "tokenized = custom_sent_tokenizer.tokenize(sample_text)"
   ]
  },
  {
   "cell_type": "code",
   "execution_count": 35,
   "metadata": {},
   "outputs": [
    {
     "name": "stdout",
     "output_type": "stream",
     "text": [
      "[('PRESIDENT', 'NNP'), ('GEORGE', 'NNP'), ('W.', 'NNP'), ('BUSH', 'NNP'), (\"'S\", 'POS'), ('ADDRESS', 'NNP'), ('BEFORE', 'IN'), ('A', 'NNP'), ('JOINT', 'NNP'), ('SESSION', 'NNP'), ('OF', 'IN'), ('THE', 'NNP'), ('CONGRESS', 'NNP'), ('ON', 'NNP'), ('THE', 'NNP'), ('STATE', 'NNP'), ('OF', 'IN'), ('THE', 'NNP'), ('UNION', 'NNP'), ('February', 'NNP'), ('2', 'CD'), (',', ','), ('2005', 'CD'), ('9:10', 'CD'), ('P.M.', 'NNP'), ('EST', 'NNP'), ('THE', 'NNP'), ('PRESIDENT', 'NNP'), (':', ':'), ('Mr.', 'NNP'), ('Speaker', 'NNP'), (',', ','), ('Vice', 'NNP'), ('President', 'NNP'), ('Cheney', 'NNP'), (',', ','), ('members', 'NNS'), ('of', 'IN'), ('Congress', 'NNP'), (',', ','), ('fellow', 'JJ'), ('citizens', 'NNS'), (':', ':'), ('As', 'IN'), ('a', 'DT'), ('new', 'JJ'), ('Congress', 'NNP'), ('gathers', 'NNS'), (',', ','), ('all', 'DT'), ('of', 'IN'), ('us', 'PRP'), ('in', 'IN'), ('the', 'DT'), ('elected', 'JJ'), ('branches', 'NNS'), ('of', 'IN'), ('government', 'NN'), ('share', 'NN'), ('a', 'DT'), ('great', 'JJ'), ('privilege', 'NN'), (':', ':'), ('We', 'PRP'), (\"'ve\", 'VBP'), ('been', 'VBN'), ('placed', 'VBN'), ('in', 'IN'), ('office', 'NN'), ('by', 'IN'), ('the', 'DT'), ('votes', 'NNS'), ('of', 'IN'), ('the', 'DT'), ('people', 'NNS'), ('we', 'PRP'), ('serve', 'VBP'), ('.', '.')]\n",
      "[('And', 'CC'), ('tonight', 'NN'), ('that', 'WDT'), ('is', 'VBZ'), ('a', 'DT'), ('privilege', 'NN'), ('we', 'PRP'), ('share', 'NN'), ('with', 'IN'), ('newly-elected', 'JJ'), ('leaders', 'NNS'), ('of', 'IN'), ('Afghanistan', 'NNP'), (',', ','), ('the', 'DT'), ('Palestinian', 'JJ'), ('Territories', 'NNP'), (',', ','), ('Ukraine', 'NNP'), (',', ','), ('and', 'CC'), ('a', 'DT'), ('free', 'JJ'), ('and', 'CC'), ('sovereign', 'JJ'), ('Iraq', 'NNP'), ('.', '.')]\n",
      "[('(', '('), ('Applause', 'NNP'), ('.', '.'), (')', ')')]\n",
      "[('Two', 'CD'), ('weeks', 'NNS'), ('ago', 'RB'), (',', ','), ('I', 'PRP'), ('stood', 'VBD'), ('on', 'IN'), ('the', 'DT'), ('steps', 'NNS'), ('of', 'IN'), ('this', 'DT'), ('Capitol', 'NNP'), ('and', 'CC'), ('renewed', 'VBN'), ('the', 'DT'), ('commitment', 'NN'), ('of', 'IN'), ('our', 'PRP$'), ('nation', 'NN'), ('to', 'TO'), ('the', 'DT'), ('guiding', 'VBG'), ('ideal', 'NN'), ('of', 'IN'), ('liberty', 'NN'), ('for', 'IN'), ('all', 'DT'), ('.', '.')]\n",
      "[('This', 'DT'), ('evening', 'NN'), ('I', 'PRP'), ('will', 'MD'), ('set', 'VB'), ('forth', 'JJ'), ('policies', 'NNS'), ('to', 'TO'), ('advance', 'VB'), ('that', 'DT'), ('ideal', 'NN'), ('at', 'IN'), ('home', 'NN'), ('and', 'CC'), ('around', 'IN'), ('the', 'DT'), ('world', 'NN'), ('.', '.')]\n",
      "[('Tonight', 'NNP'), (',', ','), ('with', 'IN'), ('a', 'DT'), ('healthy', 'JJ'), (',', ','), ('growing', 'VBG'), ('economy', 'NN'), (',', ','), ('with', 'IN'), ('more', 'JJR'), ('Americans', 'NNS'), ('going', 'VBG'), ('back', 'RB'), ('to', 'TO'), ('work', 'NN'), (',', ','), ('with', 'IN'), ('our', 'PRP$'), ('nation', 'NN'), ('an', 'DT'), ('active', 'JJ'), ('force', 'NN'), ('for', 'IN'), ('good', 'JJ'), ('in', 'IN'), ('the', 'DT'), ('world', 'NN'), ('--', ':'), ('the', 'DT'), ('state', 'NN'), ('of', 'IN'), ('our', 'PRP$'), ('union', 'NN'), ('is', 'VBZ'), ('confident', 'JJ'), ('and', 'CC'), ('strong', 'JJ'), ('.', '.')]\n",
      "[('(', '('), ('Applause', 'NNP'), ('.', '.'), (')', ')')]\n",
      "[('Our', 'PRP$'), ('generation', 'NN'), ('has', 'VBZ'), ('been', 'VBN'), ('blessed', 'VBN'), ('--', ':'), ('by', 'IN'), ('the', 'DT'), ('expansion', 'NN'), ('of', 'IN'), ('opportunity', 'NN'), (',', ','), ('by', 'IN'), ('advances', 'NNS'), ('in', 'IN'), ('medicine', 'NN'), (',', ','), ('by', 'IN'), ('the', 'DT'), ('security', 'NN'), ('purchased', 'VBN'), ('by', 'IN'), ('our', 'PRP$'), ('parents', 'NNS'), (\"'\", 'POS'), ('sacrifice', 'NN'), ('.', '.')]\n",
      "[('Now', 'RB'), (',', ','), ('as', 'IN'), ('we', 'PRP'), ('see', 'VBP'), ('a', 'DT'), ('little', 'JJ'), ('gray', 'NN'), ('in', 'IN'), ('the', 'DT'), ('mirror', 'NN'), ('--', ':'), ('or', 'CC'), ('a', 'DT'), ('lot', 'NN'), ('of', 'IN'), ('gray', 'NN'), ('--', ':'), ('(', '('), ('laughter', 'NN'), (')', ')'), ('--', ':'), ('and', 'CC'), ('we', 'PRP'), ('watch', 'VBP'), ('our', 'PRP$'), ('children', 'NNS'), ('moving', 'VBG'), ('into', 'IN'), ('adulthood', 'NN'), (',', ','), ('we', 'PRP'), ('ask', 'VBP'), ('the', 'DT'), ('question', 'NN'), (':', ':'), ('What', 'WP'), ('will', 'MD'), ('be', 'VB'), ('the', 'DT'), ('state', 'NN'), ('of', 'IN'), ('their', 'PRP$'), ('union', 'NN'), ('?', '.')]\n",
      "[('Members', 'NNS'), ('of', 'IN'), ('Congress', 'NNP'), (',', ','), ('the', 'DT'), ('choices', 'NNS'), ('we', 'PRP'), ('make', 'VBP'), ('together', 'RB'), ('will', 'MD'), ('answer', 'VB'), ('that', 'DT'), ('question', 'NN'), ('.', '.')]\n",
      "[('Over', 'IN'), ('the', 'DT'), ('next', 'JJ'), ('several', 'JJ'), ('months', 'NNS'), (',', ','), ('on', 'IN'), ('issue', 'NN'), ('after', 'IN'), ('issue', 'NN'), (',', ','), ('let', 'VB'), ('us', 'PRP'), ('do', 'VB'), ('what', 'WP'), ('Americans', 'NNPS'), ('have', 'VBP'), ('always', 'RB'), ('done', 'VBN'), (',', ','), ('and', 'CC'), ('build', 'VB'), ('a', 'DT'), ('better', 'JJR'), ('world', 'NN'), ('for', 'IN'), ('our', 'PRP$'), ('children', 'NNS'), ('and', 'CC'), ('our', 'PRP$'), ('grandchildren', 'NNS'), ('.', '.')]\n",
      "[('(', '('), ('Applause', 'NNP'), ('.', '.'), (')', ')')]\n",
      "[('First', 'RB'), (',', ','), ('we', 'PRP'), ('must', 'MD'), ('be', 'VB'), ('good', 'JJ'), ('stewards', 'NNS'), ('of', 'IN'), ('this', 'DT'), ('economy', 'NN'), (',', ','), ('and', 'CC'), ('renew', 'VB'), ('the', 'DT'), ('great', 'JJ'), ('institutions', 'NNS'), ('on', 'IN'), ('which', 'WDT'), ('millions', 'NNS'), ('of', 'IN'), ('our', 'PRP$'), ('fellow', 'JJ'), ('citizens', 'NNS'), ('rely', 'RB'), ('.', '.')]\n",
      "[('America', 'NNP'), (\"'s\", 'POS'), ('economy', 'NN'), ('is', 'VBZ'), ('the', 'DT'), ('fastest', 'JJS'), ('growing', 'NN'), ('of', 'IN'), ('any', 'DT'), ('major', 'JJ'), ('industrialized', 'VBN'), ('nation', 'NN'), ('.', '.')]\n",
      "[('In', 'IN'), ('the', 'DT'), ('past', 'JJ'), ('four', 'CD'), ('years', 'NNS'), (',', ','), ('we', 'PRP'), ('provided', 'VBD'), ('tax', 'NN'), ('relief', 'NN'), ('to', 'TO'), ('every', 'DT'), ('person', 'NN'), ('who', 'WP'), ('pays', 'VBZ'), ('income', 'NN'), ('taxes', 'NNS'), (',', ','), ('overcome', 'VBP'), ('a', 'DT'), ('recession', 'NN'), (',', ','), ('opened', 'VBD'), ('up', 'RP'), ('new', 'JJ'), ('markets', 'NNS'), ('abroad', 'RB'), (',', ','), ('prosecuted', 'JJ'), ('corporate', 'JJ'), ('criminals', 'NNS'), (',', ','), ('raised', 'VBD'), ('homeownership', 'NN'), ('to', 'TO'), ('its', 'PRP$'), ('highest', 'JJS'), ('level', 'NN'), ('in', 'IN'), ('history', 'NN'), (',', ','), ('and', 'CC'), ('in', 'IN'), ('the', 'DT'), ('last', 'JJ'), ('year', 'NN'), ('alone', 'RB'), (',', ','), ('the', 'DT'), ('United', 'NNP'), ('States', 'NNPS'), ('has', 'VBZ'), ('added', 'VBN'), ('2.3', 'CD'), ('million', 'CD'), ('new', 'JJ'), ('jobs', 'NNS'), ('.', '.')]\n",
      "[('(', '('), ('Applause', 'NNP'), ('.', '.'), (')', ')')]\n",
      "[('When', 'WRB'), ('action', 'NN'), ('was', 'VBD'), ('needed', 'VBN'), (',', ','), ('the', 'DT'), ('Congress', 'NNP'), ('delivered', 'VBN'), ('--', ':'), ('and', 'CC'), ('the', 'DT'), ('nation', 'NN'), ('is', 'VBZ'), ('grateful', 'JJ'), ('.', '.')]\n",
      "[('Now', 'RB'), ('we', 'PRP'), ('must', 'MD'), ('add', 'VB'), ('to', 'TO'), ('these', 'DT'), ('achievements', 'NNS'), ('.', '.')]\n",
      "[('By', 'IN'), ('making', 'VBG'), ('our', 'PRP$'), ('economy', 'NN'), ('more', 'RBR'), ('flexible', 'JJ'), (',', ','), ('more', 'RBR'), ('innovative', 'JJ'), (',', ','), ('and', 'CC'), ('more', 'RBR'), ('competitive', 'JJ'), (',', ','), ('we', 'PRP'), ('will', 'MD'), ('keep', 'VB'), ('America', 'NNP'), ('the', 'DT'), ('economic', 'JJ'), ('leader', 'NN'), ('of', 'IN'), ('the', 'DT'), ('world', 'NN'), ('.', '.')]\n",
      "[('(', '('), ('Applause', 'NNP'), ('.', '.'), (')', ')')]\n",
      "[('America', 'NNP'), (\"'s\", 'POS'), ('prosperity', 'NN'), ('requires', 'VBZ'), ('restraining', 'VBG'), ('the', 'DT'), ('spending', 'NN'), ('appetite', 'NN'), ('of', 'IN'), ('the', 'DT'), ('federal', 'JJ'), ('government', 'NN'), ('.', '.')]\n",
      "[('I', 'PRP'), ('welcome', 'VBP'), ('the', 'DT'), ('bipartisan', 'JJ'), ('enthusiasm', 'NN'), ('for', 'IN'), ('spending', 'NN'), ('discipline', 'NN'), ('.', '.')]\n",
      "[('I', 'PRP'), ('will', 'MD'), ('send', 'VB'), ('you', 'PRP'), ('a', 'DT'), ('budget', 'NN'), ('that', 'WDT'), ('holds', 'VBZ'), ('the', 'DT'), ('growth', 'NN'), ('of', 'IN'), ('discretionary', 'JJ'), ('spending', 'NN'), ('below', 'IN'), ('inflation', 'NN'), (',', ','), ('makes', 'VBZ'), ('tax', 'NN'), ('relief', 'NN'), ('permanent', 'NN'), (',', ','), ('and', 'CC'), ('stays', 'NNS'), ('on', 'IN'), ('track', 'NN'), ('to', 'TO'), ('cut', 'VB'), ('the', 'DT'), ('deficit', 'NN'), ('in', 'IN'), ('half', 'NN'), ('by', 'IN'), ('2009', 'CD'), ('.', '.')]\n",
      "[('(', '('), ('Applause', 'NNP'), ('.', '.'), (')', ')')]\n",
      "[('My', 'PRP$'), ('budget', 'NN'), ('substantially', 'RB'), ('reduces', 'VBZ'), ('or', 'CC'), ('eliminates', 'VBZ'), ('more', 'JJR'), ('than', 'IN'), ('150', 'CD'), ('government', 'NN'), ('programs', 'NNS'), ('that', 'WDT'), ('are', 'VBP'), ('not', 'RB'), ('getting', 'VBG'), ('results', 'NNS'), (',', ','), ('or', 'CC'), ('duplicate', 'VB'), ('current', 'JJ'), ('efforts', 'NNS'), (',', ','), ('or', 'CC'), ('do', 'VBP'), ('not', 'RB'), ('fulfill', 'VB'), ('essential', 'JJ'), ('priorities', 'NNS'), ('.', '.')]\n",
      "[('The', 'DT'), ('principle', 'NN'), ('here', 'RB'), ('is', 'VBZ'), ('clear', 'JJ'), (':', ':'), ('Taxpayer', 'NN'), ('dollars', 'NNS'), ('must', 'MD'), ('be', 'VB'), ('spent', 'VBN'), ('wisely', 'RB'), (',', ','), ('or', 'CC'), ('not', 'RB'), ('at', 'IN'), ('all', 'DT'), ('.', '.')]\n",
      "[('(', '('), ('Applause', 'NNP'), ('.', '.'), (')', ')')]\n",
      "[('To', 'TO'), ('make', 'VB'), ('our', 'PRP$'), ('economy', 'NN'), ('stronger', 'JJR'), ('and', 'CC'), ('more', 'RBR'), ('dynamic', 'JJ'), (',', ','), ('we', 'PRP'), ('must', 'MD'), ('prepare', 'VB'), ('a', 'DT'), ('rising', 'VBG'), ('generation', 'NN'), ('to', 'TO'), ('fill', 'VB'), ('the', 'DT'), ('jobs', 'NNS'), ('of', 'IN'), ('the', 'DT'), ('21st', 'JJ'), ('century', 'NN'), ('.', '.')]\n",
      "[('Under', 'IN'), ('the', 'DT'), ('No', 'NNP'), ('Child', 'NNP'), ('Left', 'NNP'), ('Behind', 'NNP'), ('Act', 'NNP'), (',', ','), ('standards', 'NNS'), ('are', 'VBP'), ('higher', 'JJR'), (',', ','), ('test', 'NN'), ('scores', 'NNS'), ('are', 'VBP'), ('on', 'IN'), ('the', 'DT'), ('rise', 'NN'), (',', ','), ('and', 'CC'), ('we', 'PRP'), (\"'re\", 'VBP'), ('closing', 'VBG'), ('the', 'DT'), ('achievement', 'NN'), ('gap', 'NN'), ('for', 'IN'), ('minority', 'NN'), ('students', 'NNS'), ('.', '.')]\n",
      "[('Now', 'RB'), ('we', 'PRP'), ('must', 'MD'), ('demand', 'VB'), ('better', 'JJR'), ('results', 'NNS'), ('from', 'IN'), ('our', 'PRP$'), ('high', 'JJ'), ('schools', 'NNS'), (',', ','), ('so', 'RB'), ('every', 'DT'), ('high', 'JJ'), ('school', 'NN'), ('diploma', 'NN'), ('is', 'VBZ'), ('a', 'DT'), ('ticket', 'NN'), ('to', 'TO'), ('success', 'NN'), ('.', '.')]\n",
      "[('We', 'PRP'), ('will', 'MD'), ('help', 'VB'), ('an', 'DT'), ('additional', 'JJ'), ('200,000', 'CD'), ('workers', 'NNS'), ('to', 'TO'), ('get', 'VB'), ('training', 'NN'), ('for', 'IN'), ('a', 'DT'), ('better', 'JJR'), ('career', 'NN'), (',', ','), ('by', 'IN'), ('reforming', 'VBG'), ('our', 'PRP$'), ('job', 'NN'), ('training', 'NN'), ('system', 'NN'), ('and', 'CC'), ('strengthening', 'VBG'), ('America', 'NNP'), (\"'s\", 'POS'), ('community', 'NN'), ('colleges', 'NNS'), ('.', '.')]\n",
      "[('And', 'CC'), ('we', 'PRP'), (\"'ll\", 'MD'), ('make', 'VB'), ('it', 'PRP'), ('easier', 'JJR'), ('for', 'IN'), ('Americans', 'NNPS'), ('to', 'TO'), ('afford', 'VB'), ('a', 'DT'), ('college', 'NN'), ('education', 'NN'), (',', ','), ('by', 'IN'), ('increasing', 'VBG'), ('the', 'DT'), ('size', 'NN'), ('of', 'IN'), ('Pell', 'NNP'), ('Grants', 'NNP'), ('.', '.')]\n",
      "[('(', '('), ('Applause', 'NNP'), ('.', '.'), (')', ')')]\n",
      "[('To', 'TO'), ('make', 'VB'), ('our', 'PRP$'), ('economy', 'NN'), ('stronger', 'JJR'), ('and', 'CC'), ('more', 'RBR'), ('competitive', 'JJ'), (',', ','), ('America', 'NNP'), ('must', 'MD'), ('reward', 'VB'), (',', ','), ('not', 'RB'), ('punish', 'VB'), (',', ','), ('the', 'DT'), ('efforts', 'NNS'), ('and', 'CC'), ('dreams', 'NNS'), ('of', 'IN'), ('entrepreneurs', 'NNS'), ('.', '.')]\n",
      "[('Small', 'JJ'), ('business', 'NN'), ('is', 'VBZ'), ('the', 'DT'), ('path', 'NN'), ('of', 'IN'), ('advancement', 'NN'), (',', ','), ('especially', 'RB'), ('for', 'IN'), ('women', 'NNS'), ('and', 'CC'), ('minorities', 'NNS'), (',', ','), ('so', 'IN'), ('we', 'PRP'), ('must', 'MD'), ('free', 'VB'), ('small', 'JJ'), ('businesses', 'NNS'), ('from', 'IN'), ('needless', 'JJ'), ('regulation', 'NN'), ('and', 'CC'), ('protect', 'JJ'), ('honest', 'JJS'), ('job-creators', 'NNS'), ('from', 'IN'), ('junk', 'NN'), ('lawsuits', 'NNS'), ('.', '.')]\n",
      "[('(', '('), ('Applause', 'NNP'), ('.', '.'), (')', ')')]\n",
      "[('Justice', 'NNP'), ('is', 'VBZ'), ('distorted', 'VBN'), (',', ','), ('and', 'CC'), ('our', 'PRP$'), ('economy', 'NN'), ('is', 'VBZ'), ('held', 'VBN'), ('back', 'RB'), ('by', 'IN'), ('irresponsible', 'JJ'), ('class-actions', 'NNS'), ('and', 'CC'), ('frivolous', 'JJ'), ('asbestos', 'NN'), ('claims', 'NNS'), ('--', ':'), ('and', 'CC'), ('I', 'PRP'), ('urge', 'VBP'), ('Congress', 'NNP'), ('to', 'TO'), ('pass', 'VB'), ('legal', 'JJ'), ('reforms', 'NNS'), ('this', 'DT'), ('year', 'NN'), ('.', '.')]\n",
      "[('(', '('), ('Applause', 'NNP'), ('.', '.'), (')', ')')]\n",
      "[('To', 'TO'), ('make', 'VB'), ('our', 'PRP$'), ('economy', 'NN'), ('stronger', 'JJR'), ('and', 'CC'), ('more', 'RBR'), ('productive', 'JJ'), (',', ','), ('we', 'PRP'), ('must', 'MD'), ('make', 'VB'), ('health', 'NN'), ('care', 'NN'), ('more', 'RBR'), ('affordable', 'JJ'), (',', ','), ('and', 'CC'), ('give', 'VB'), ('families', 'NNS'), ('greater', 'JJR'), ('access', 'NN'), ('to', 'TO'), ('good', 'JJ'), ('coverage', 'NN'), ('--', ':'), ('(', '('), ('applause', 'NN'), (')', ')'), ('--', ':'), ('and', 'CC'), ('more', 'JJR'), ('control', 'NN'), ('over', 'IN'), ('their', 'PRP$'), ('health', 'NN'), ('decisions', 'NNS'), ('.', '.')]\n",
      "[('(', '('), ('Applause', 'NNP'), ('.', '.'), (')', ')')]\n",
      "[('I', 'PRP'), ('ask', 'VBP'), ('Congress', 'NNP'), ('to', 'TO'), ('move', 'VB'), ('forward', 'RB'), ('on', 'IN'), ('a', 'DT'), ('comprehensive', 'JJ'), ('health', 'NN'), ('care', 'NN'), ('agenda', 'NN'), ('with', 'IN'), ('tax', 'NN'), ('credits', 'NNS'), ('to', 'TO'), ('help', 'VB'), ('low-income', 'JJ'), ('workers', 'NNS'), ('buy', 'VBP'), ('insurance', 'NN'), (',', ','), ('a', 'DT'), ('community', 'NN'), ('health', 'NN'), ('center', 'NN'), ('in', 'IN'), ('every', 'DT'), ('poor', 'JJ'), ('country', 'NN'), (',', ','), ('improved', 'VBN'), ('information', 'NN'), ('technology', 'NN'), ('to', 'TO'), ('prevent', 'VB'), ('medical', 'JJ'), ('error', 'NN'), ('and', 'CC'), ('needless', 'NN'), ('costs', 'NNS'), (',', ','), ('association', 'NN'), ('health', 'NN'), ('plans', 'NNS'), ('for', 'IN'), ('small', 'JJ'), ('businesses', 'NNS'), ('and', 'CC'), ('their', 'PRP$'), ('employees', 'NNS'), ('--', ':'), ('(', '('), ('applause', 'NN'), (')', ')'), ('--', ':'), ('expanded', 'VBD'), ('health', 'NN'), ('savings', 'NNS'), ('accounts', 'NNS'), ('--', ':'), ('(', '('), ('applause', 'NN'), (')', ')'), ('--', ':'), ('and', 'CC'), ('medical', 'JJ'), ('liability', 'NN'), ('reform', 'NN'), ('that', 'WDT'), ('will', 'MD'), ('reduce', 'VB'), ('health', 'NN'), ('care', 'NN'), ('costs', 'NNS'), ('and', 'CC'), ('make', 'VB'), ('sure', 'JJ'), ('patients', 'NNS'), ('have', 'VBP'), ('the', 'DT'), ('doctors', 'NNS'), ('and', 'CC'), ('care', 'NN'), ('they', 'PRP'), ('need', 'VBP'), ('.', '.')]\n",
      "[('(', '('), ('Applause', 'NNP'), ('.', '.'), (')', ')')]\n",
      "[('To', 'TO'), ('keep', 'VB'), ('our', 'PRP$'), ('economy', 'NN'), ('growing', 'VBG'), (',', ','), ('we', 'PRP'), ('also', 'RB'), ('need', 'VBP'), ('reliable', 'JJ'), ('supplies', 'NNS'), ('of', 'IN'), ('affordable', 'JJ'), (',', ','), ('environmentally', 'RB'), ('responsible', 'JJ'), ('energy', 'NN'), ('.', '.')]\n",
      "[('(', '('), ('Applause', 'NNP'), ('.', '.'), (')', ')')]\n",
      "[('Nearly', 'RB'), ('four', 'CD'), ('years', 'NNS'), ('ago', 'RB'), (',', ','), ('I', 'PRP'), ('submitted', 'VBD'), ('a', 'DT'), ('comprehensive', 'JJ'), ('energy', 'NN'), ('strategy', 'NN'), ('that', 'WDT'), ('encourages', 'VBZ'), ('conservation', 'NN'), (',', ','), ('alternative', 'JJ'), ('sources', 'NNS'), (',', ','), ('a', 'DT'), ('modernized', 'JJ'), ('electricity', 'NN'), ('grid', 'NN'), (',', ','), ('and', 'CC'), ('more', 'JJR'), ('production', 'NN'), ('here', 'RB'), ('at', 'IN'), ('home', 'NN'), ('--', ':'), ('including', 'VBG'), ('safe', 'JJ'), (',', ','), ('clean', 'JJ'), ('nuclear', 'JJ'), ('energy', 'NN'), ('.', '.')]\n",
      "[('(', '('), ('Applause', 'NNP'), ('.', '.'), (')', ')')]\n",
      "[('My', 'PRP$'), ('Clear', 'JJ'), ('Skies', 'NNPS'), ('legislation', 'NN'), ('will', 'MD'), ('cut', 'VB'), ('power', 'NN'), ('plant', 'NN'), ('pollution', 'NN'), ('and', 'CC'), ('improve', 'VB'), ('the', 'DT'), ('health', 'NN'), ('of', 'IN'), ('our', 'PRP$'), ('citizens', 'NNS'), ('.', '.')]\n",
      "[('(', '('), ('Applause', 'NNP'), ('.', '.'), (')', ')')]\n",
      "[('And', 'CC'), ('my', 'PRP$'), ('budget', 'NN'), ('provides', 'VBZ'), ('strong', 'JJ'), ('funding', 'NN'), ('for', 'IN'), ('leading-edge', 'JJ'), ('technology', 'NN'), ('--', ':'), ('from', 'IN'), ('hydrogen-fueled', 'JJ'), ('cars', 'NNS'), (',', ','), ('to', 'TO'), ('clean', 'VB'), ('coal', 'NN'), (',', ','), ('to', 'TO'), ('renewable', 'VB'), ('sources', 'NNS'), ('such', 'JJ'), ('as', 'IN'), ('ethanol', 'NN'), ('.', '.')]\n",
      "[('(', '('), ('Applause', 'NNP'), ('.', '.'), (')', ')')]\n",
      "[('Four', 'CD'), ('years', 'NNS'), ('of', 'IN'), ('debate', 'NN'), ('is', 'VBZ'), ('enough', 'JJ'), (':', ':'), ('I', 'PRP'), ('urge', 'VBP'), ('Congress', 'NNP'), ('to', 'TO'), ('pass', 'VB'), ('legislation', 'NN'), ('that', 'WDT'), ('makes', 'VBZ'), ('America', 'NNP'), ('more', 'JJR'), ('secure', 'NN'), ('and', 'CC'), ('less', 'RBR'), ('dependent', 'JJ'), ('on', 'IN'), ('foreign', 'JJ'), ('energy', 'NN'), ('.', '.')]\n",
      "[('(', '('), ('Applause', 'NNP'), ('.', '.'), (')', ')')]\n",
      "[('All', 'PDT'), ('these', 'DT'), ('proposals', 'NNS'), ('are', 'VBP'), ('essential', 'JJ'), ('to', 'TO'), ('expand', 'VB'), ('this', 'DT'), ('economy', 'NN'), ('and', 'CC'), ('add', 'VB'), ('new', 'JJ'), ('jobs', 'NNS'), ('--', ':'), ('but', 'CC'), ('they', 'PRP'), ('are', 'VBP'), ('just', 'RB'), ('the', 'DT'), ('beginning', 'NN'), ('of', 'IN'), ('our', 'PRP$'), ('duty', 'NN'), ('.', '.')]\n",
      "[('To', 'TO'), ('build', 'VB'), ('the', 'DT'), ('prosperity', 'NN'), ('of', 'IN'), ('future', 'JJ'), ('generations', 'NNS'), (',', ','), ('we', 'PRP'), ('must', 'MD'), ('update', 'VB'), ('institutions', 'NNS'), ('that', 'WDT'), ('were', 'VBD'), ('created', 'VBN'), ('to', 'TO'), ('meet', 'VB'), ('the', 'DT'), ('needs', 'NNS'), ('of', 'IN'), ('an', 'DT'), ('earlier', 'JJR'), ('time', 'NN'), ('.', '.')]\n",
      "[('Year', 'NN'), ('after', 'IN'), ('year', 'NN'), (',', ','), ('Americans', 'NNPS'), ('are', 'VBP'), ('burdened', 'VBN'), ('by', 'IN'), ('an', 'DT'), ('archaic', 'NN'), (',', ','), ('incoherent', 'JJ'), ('federal', 'JJ'), ('tax', 'NN'), ('code', 'NN'), ('.', '.')]\n",
      "[('I', 'PRP'), (\"'ve\", 'VBP'), ('appointed', 'VBN'), ('a', 'DT'), ('bipartisan', 'JJ'), ('panel', 'NN'), ('to', 'TO'), ('examine', 'VB'), ('the', 'DT'), ('tax', 'NN'), ('code', 'NN'), ('from', 'IN'), ('top', 'JJ'), ('to', 'TO'), ('bottom', 'VB'), ('.', '.')]\n",
      "[('And', 'CC'), ('when', 'WRB'), ('their', 'PRP$'), ('recommendations', 'NNS'), ('are', 'VBP'), ('delivered', 'VBN'), (',', ','), ('you', 'PRP'), ('and', 'CC'), ('I', 'PRP'), ('will', 'MD'), ('work', 'VB'), ('together', 'RB'), ('to', 'TO'), ('give', 'VB'), ('this', 'DT'), ('nation', 'NN'), ('a', 'DT'), ('tax', 'NN'), ('code', 'NN'), ('that', 'WDT'), ('is', 'VBZ'), ('pro-growth', 'JJ'), (',', ','), ('easy', 'JJ'), ('to', 'TO'), ('understand', 'VB'), (',', ','), ('and', 'CC'), ('fair', 'JJ'), ('to', 'TO'), ('all', 'DT'), ('.', '.')]\n",
      "[('(', '('), ('Applause', 'NNP'), ('.', '.'), (')', ')')]\n",
      "[('America', 'NNP'), (\"'s\", 'POS'), ('immigration', 'NN'), ('system', 'NN'), ('is', 'VBZ'), ('also', 'RB'), ('outdated', 'VBN'), ('--', ':'), ('unsuited', 'JJ'), ('to', 'TO'), ('the', 'DT'), ('needs', 'NNS'), ('of', 'IN'), ('our', 'PRP$'), ('economy', 'NN'), ('and', 'CC'), ('to', 'TO'), ('the', 'DT'), ('values', 'NNS'), ('of', 'IN'), ('our', 'PRP$'), ('country', 'NN'), ('.', '.')]\n",
      "[('We', 'PRP'), ('should', 'MD'), ('not', 'RB'), ('be', 'VB'), ('content', 'JJ'), ('with', 'IN'), ('laws', 'NNS'), ('that', 'WDT'), ('punish', 'VBP'), ('hardworking', 'VBG'), ('people', 'NNS'), ('who', 'WP'), ('want', 'VBP'), ('only', 'RB'), ('to', 'TO'), ('provide', 'VB'), ('for', 'IN'), ('their', 'PRP$'), ('families', 'NNS'), (',', ','), ('and', 'CC'), ('deny', 'JJ'), ('businesses', 'NNS'), ('willing', 'JJ'), ('workers', 'NNS'), (',', ','), ('and', 'CC'), ('invite', 'JJ'), ('chaos', 'NN'), ('at', 'IN'), ('our', 'PRP$'), ('border', 'NN'), ('.', '.')]\n",
      "[('It', 'PRP'), ('is', 'VBZ'), ('time', 'NN'), ('for', 'IN'), ('an', 'DT'), ('immigration', 'NN'), ('policy', 'NN'), ('that', 'IN'), ('permits', 'VBZ'), ('temporary', 'JJ'), ('guest', 'NN'), ('workers', 'NNS'), ('to', 'TO'), ('fill', 'VB'), ('jobs', 'NNS'), ('Americans', 'NNPS'), ('will', 'MD'), ('not', 'RB'), ('take', 'VB'), (',', ','), ('that', 'DT'), ('rejects', 'VBZ'), ('amnesty', 'JJ'), (',', ','), ('that', 'WDT'), ('tells', 'VBZ'), ('us', 'PRP'), ('who', 'WP'), ('is', 'VBZ'), ('entering', 'VBG'), ('and', 'CC'), ('leaving', 'VBG'), ('our', 'PRP$'), ('country', 'NN'), (',', ','), ('and', 'CC'), ('that', 'IN'), ('closes', 'VBZ'), ('the', 'DT'), ('border', 'NN'), ('to', 'TO'), ('drug', 'NN'), ('dealers', 'NNS'), ('and', 'CC'), ('terrorists', 'NNS'), ('.', '.')]\n",
      "[('(', '('), ('Applause', 'NNP'), ('.', '.'), (')', ')')]\n",
      "[('One', 'CD'), ('of', 'IN'), ('America', 'NNP'), (\"'s\", 'POS'), ('most', 'RBS'), ('important', 'JJ'), ('institutions', 'NNS'), ('--', ':'), ('a', 'DT'), ('symbol', 'NN'), ('of', 'IN'), ('the', 'DT'), ('trust', 'NN'), ('between', 'IN'), ('generations', 'NNS'), ('--', ':'), ('is', 'VBZ'), ('also', 'RB'), ('in', 'IN'), ('need', 'NN'), ('of', 'IN'), ('wise', 'NN'), ('and', 'CC'), ('effective', 'JJ'), ('reform', 'NN'), ('.', '.')]\n",
      "[('Social', 'NNP'), ('Security', 'NNP'), ('was', 'VBD'), ('a', 'DT'), ('great', 'JJ'), ('moral', 'JJ'), ('success', 'NN'), ('of', 'IN'), ('the', 'DT'), ('20th', 'JJ'), ('century', 'NN'), (',', ','), ('and', 'CC'), ('we', 'PRP'), ('must', 'MD'), ('honor', 'VB'), ('its', 'PRP$'), ('great', 'JJ'), ('purposes', 'NNS'), ('in', 'IN'), ('this', 'DT'), ('new', 'JJ'), ('century', 'NN'), ('.', '.')]\n",
      "[('(', '('), ('Applause', 'NNP'), ('.', '.'), (')', ')')]\n",
      "[('The', 'DT'), ('system', 'NN'), (',', ','), ('however', 'RB'), (',', ','), ('on', 'IN'), ('its', 'PRP$'), ('current', 'JJ'), ('path', 'NN'), (',', ','), ('is', 'VBZ'), ('headed', 'VBN'), ('toward', 'IN'), ('bankruptcy', 'NN'), ('.', '.')]\n",
      "[('And', 'CC'), ('so', 'IN'), ('we', 'PRP'), ('must', 'MD'), ('join', 'VB'), ('together', 'RB'), ('to', 'TO'), ('strengthen', 'VB'), ('and', 'CC'), ('save', 'VB'), ('Social', 'NNP'), ('Security', 'NNP'), ('.', '.')]\n",
      "[('(', '('), ('Applause', 'NNP'), ('.', '.'), (')', ')')]\n",
      "[('Today', 'NN'), (',', ','), ('more', 'JJR'), ('than', 'IN'), ('45', 'CD'), ('million', 'CD'), ('Americans', 'NNPS'), ('receive', 'VBP'), ('Social', 'NNP'), ('Security', 'NNP'), ('benefits', 'NNS'), (',', ','), ('and', 'CC'), ('millions', 'NNS'), ('more', 'JJR'), ('are', 'VBP'), ('nearing', 'JJ'), ('retirement', 'NN'), ('--', ':'), ('and', 'CC'), ('for', 'IN'), ('them', 'PRP'), ('the', 'DT'), ('system', 'NN'), ('is', 'VBZ'), ('sound', 'JJ'), ('and', 'CC'), ('fiscally', 'RB'), ('strong', 'JJ'), ('.', '.')]\n",
      "[('I', 'PRP'), ('have', 'VBP'), ('a', 'DT'), ('message', 'NN'), ('for', 'IN'), ('every', 'DT'), ('American', 'NNP'), ('who', 'WP'), ('is', 'VBZ'), ('55', 'CD'), ('or', 'CC'), ('older', 'JJR'), (':', ':'), ('Do', 'VB'), ('not', 'RB'), ('let', 'VB'), ('anyone', 'NN'), ('mislead', 'VB'), ('you', 'PRP'), (';', ':'), ('for', 'IN'), ('you', 'PRP'), (',', ','), ('the', 'DT'), ('Social', 'NNP'), ('Security', 'NNP'), ('system', 'NN'), ('will', 'MD'), ('not', 'RB'), ('change', 'VB'), ('in', 'IN'), ('any', 'DT'), ('way', 'NN'), ('.', '.')]\n",
      "[('(', '('), ('Applause', 'NNP'), ('.', '.'), (')', ')')]\n",
      "[('For', 'IN'), ('younger', 'JJR'), ('workers', 'NNS'), (',', ','), ('the', 'DT'), ('Social', 'NNP'), ('Security', 'NNP'), ('system', 'NN'), ('has', 'VBZ'), ('serious', 'JJ'), ('problems', 'NNS'), ('that', 'WDT'), ('will', 'MD'), ('grow', 'VB'), ('worse', 'JJR'), ('with', 'IN'), ('time', 'NN'), ('.', '.')]\n",
      "[('Social', 'NNP'), ('Security', 'NNP'), ('was', 'VBD'), ('created', 'VBN'), ('decades', 'NNS'), ('ago', 'RB'), (',', ','), ('for', 'IN'), ('a', 'DT'), ('very', 'RB'), ('different', 'JJ'), ('era', 'NN'), ('.', '.')]\n",
      "[('In', 'IN'), ('those', 'DT'), ('days', 'NNS'), (',', ','), ('people', 'NNS'), ('did', 'VBD'), ('not', 'RB'), ('live', 'VB'), ('as', 'IN'), ('long', 'RB'), ('.', '.')]\n",
      "[('Benefits', 'NNS'), ('were', 'VBD'), ('much', 'RB'), ('lower', 'JJR'), ('than', 'IN'), ('they', 'PRP'), ('are', 'VBP'), ('today', 'NN'), ('.', '.')]\n",
      "[('And', 'CC'), ('a', 'DT'), ('half-century', 'NN'), ('ago', 'RB'), (',', ','), ('about', 'IN'), ('sixteen', 'JJ'), ('workers', 'NNS'), ('paid', 'VBN'), ('into', 'IN'), ('the', 'DT'), ('system', 'NN'), ('for', 'IN'), ('each', 'DT'), ('person', 'NN'), ('drawing', 'VBG'), ('benefits', 'NNS'), ('.', '.')]\n",
      "[('Our', 'PRP$'), ('society', 'NN'), ('has', 'VBZ'), ('changed', 'VBN'), ('in', 'IN'), ('ways', 'NNS'), ('the', 'DT'), ('founders', 'NNS'), ('of', 'IN'), ('Social', 'NNP'), ('Security', 'NNP'), ('could', 'MD'), ('not', 'RB'), ('have', 'VB'), ('foreseen', 'NN'), ('.', '.')]\n",
      "[('In', 'IN'), ('today', 'NN'), (\"'s\", 'POS'), ('world', 'NN'), (',', ','), ('people', 'NNS'), ('are', 'VBP'), ('living', 'VBG'), ('longer', 'RBR'), ('and', 'CC'), (',', ','), ('therefore', 'RB'), (',', ','), ('drawing', 'VBG'), ('benefits', 'NNS'), ('longer', 'RBR'), ('.', '.')]\n",
      "[('And', 'CC'), ('those', 'DT'), ('benefits', 'NNS'), ('are', 'VBP'), ('scheduled', 'VBN'), ('to', 'TO'), ('rise', 'VB'), ('dramatically', 'RB'), ('over', 'IN'), ('the', 'DT'), ('next', 'JJ'), ('few', 'JJ'), ('decades', 'NNS'), ('.', '.')]\n",
      "[('And', 'CC'), ('instead', 'RB'), ('of', 'IN'), ('sixteen', 'JJ'), ('workers', 'NNS'), ('paying', 'VBG'), ('in', 'IN'), ('for', 'IN'), ('every', 'DT'), ('beneficiary', 'NN'), (',', ','), ('right', 'RB'), ('now', 'RB'), ('it', 'PRP'), (\"'s\", 'VBZ'), ('only', 'RB'), ('about', 'RB'), ('three', 'CD'), ('workers', 'NNS'), ('.', '.')]\n",
      "[('And', 'CC'), ('over', 'IN'), ('the', 'DT'), ('next', 'JJ'), ('few', 'JJ'), ('decades', 'NNS'), ('that', 'IN'), ('number', 'NN'), ('will', 'MD'), ('fall', 'VB'), ('to', 'TO'), ('just', 'RB'), ('two', 'CD'), ('workers', 'NNS'), ('per', 'IN'), ('beneficiary', 'NN'), ('.', '.')]\n",
      "[('With', 'IN'), ('each', 'DT'), ('passing', 'VBG'), ('year', 'NN'), (',', ','), ('fewer', 'JJR'), ('workers', 'NNS'), ('are', 'VBP'), ('paying', 'VBG'), ('ever-higher', 'JJ'), ('benefits', 'NNS'), ('to', 'TO'), ('an', 'DT'), ('ever-larger', 'JJ'), ('number', 'NN'), ('of', 'IN'), ('retirees', 'NNS'), ('.', '.')]\n",
      "[('So', 'RB'), ('here', 'RB'), ('is', 'VBZ'), ('the', 'DT'), ('result', 'NN'), (':', ':'), ('Thirteen', 'CD'), ('years', 'NNS'), ('from', 'IN'), ('now', 'RB'), (',', ','), ('in', 'IN'), ('2018', 'CD'), (',', ','), ('Social', 'NNP'), ('Security', 'NNP'), ('will', 'MD'), ('be', 'VB'), ('paying', 'VBG'), ('out', 'IN'), ('more', 'JJR'), ('than', 'IN'), ('it', 'PRP'), ('takes', 'VBZ'), ('in', 'IN'), ('.', '.')]\n",
      "[('And', 'CC'), ('every', 'DT'), ('year', 'NN'), ('afterward', 'RB'), ('will', 'MD'), ('bring', 'VB'), ('a', 'DT'), ('new', 'JJ'), ('shortfall', 'NN'), (',', ','), ('bigger', 'JJR'), ('than', 'IN'), ('the', 'DT'), ('year', 'NN'), ('before', 'RB'), ('.', '.')]\n",
      "[('For', 'IN'), ('example', 'NN'), (',', ','), ('in', 'IN'), ('the', 'DT'), ('year', 'NN'), ('2027', 'CD'), (',', ','), ('the', 'DT'), ('government', 'NN'), ('will', 'MD'), ('somehow', 'RB'), ('have', 'VB'), ('to', 'TO'), ('come', 'VB'), ('up', 'RP'), ('with', 'IN'), ('an', 'DT'), ('extra', 'JJ'), ('$', '$'), ('200', 'CD'), ('billion', 'CD'), ('to', 'TO'), ('keep', 'VB'), ('the', 'DT'), ('system', 'NN'), ('afloat', 'NN'), ('--', ':'), ('and', 'CC'), ('by', 'IN'), ('2033', 'CD'), (',', ','), ('the', 'DT'), ('annual', 'JJ'), ('shortfall', 'NN'), ('would', 'MD'), ('be', 'VB'), ('more', 'JJR'), ('than', 'IN'), ('$', '$'), ('300', 'CD'), ('billion', 'CD'), ('.', '.')]\n",
      "[('By', 'IN'), ('the', 'DT'), ('year', 'NN'), ('2042', 'CD'), (',', ','), ('the', 'DT'), ('entire', 'JJ'), ('system', 'NN'), ('would', 'MD'), ('be', 'VB'), ('exhausted', 'VBN'), ('and', 'CC'), ('bankrupt', 'JJ'), ('.', '.')]\n",
      "[('If', 'IN'), ('steps', 'NNS'), ('are', 'VBP'), ('not', 'RB'), ('taken', 'VBN'), ('to', 'TO'), ('avert', 'VB'), ('that', 'DT'), ('outcome', 'NN'), (',', ','), ('the', 'DT'), ('only', 'JJ'), ('solutions', 'NNS'), ('would', 'MD'), ('be', 'VB'), ('dramatically', 'RB'), ('higher', 'JJR'), ('taxes', 'NNS'), (',', ','), ('massive', 'JJ'), ('new', 'JJ'), ('borrowing', 'NN'), (',', ','), ('or', 'CC'), ('sudden', 'JJ'), ('and', 'CC'), ('severe', 'JJ'), ('cuts', 'NNS'), ('in', 'IN'), ('Social', 'NNP'), ('Security', 'NNP'), ('benefits', 'NNS'), ('or', 'CC'), ('other', 'JJ'), ('government', 'NN'), ('programs', 'NNS'), ('.', '.')]\n",
      "[('I', 'PRP'), ('recognize', 'VBP'), ('that', 'IN'), ('2018', 'CD'), ('and', 'CC'), ('2042', 'CD'), ('may', 'MD'), ('seem', 'VB'), ('a', 'DT'), ('long', 'JJ'), ('way', 'NN'), ('off', 'IN'), ('.', '.')]\n",
      "[('But', 'CC'), ('those', 'DT'), ('dates', 'NNS'), ('are', 'VBP'), ('not', 'RB'), ('so', 'RB'), ('distant', 'JJ'), (',', ','), ('as', 'IN'), ('any', 'DT'), ('parent', 'NN'), ('will', 'MD'), ('tell', 'VB'), ('you', 'PRP'), ('.', '.')]\n",
      "[('If', 'IN'), ('you', 'PRP'), ('have', 'VBP'), ('a', 'DT'), ('five-year-old', 'JJ'), (',', ','), ('you', 'PRP'), (\"'re\", 'VBP'), ('already', 'RB'), ('concerned', 'VBN'), ('about', 'IN'), ('how', 'WRB'), ('you', 'PRP'), (\"'ll\", 'MD'), ('pay', 'VB'), ('for', 'IN'), ('college', 'NN'), ('tuition', 'NN'), ('13', 'CD'), ('years', 'NNS'), ('down', 'IN'), ('the', 'DT'), ('road', 'NN'), ('.', '.')]\n",
      "[('If', 'IN'), ('you', 'PRP'), (\"'ve\", 'VBP'), ('got', 'VBN'), ('children', 'NNS'), ('in', 'IN'), ('their', 'PRP$'), ('20s', 'CD'), (',', ','), ('as', 'IN'), ('some', 'DT'), ('of', 'IN'), ('us', 'PRP'), ('do', 'VBP'), (',', ','), ('the', 'DT'), ('idea', 'NN'), ('of', 'IN'), ('Social', 'NNP'), ('Security', 'NNP'), ('collapsing', 'VBG'), ('before', 'IN'), ('they', 'PRP'), ('retire', 'VBP'), ('does', 'VBZ'), ('not', 'RB'), ('seem', 'VB'), ('like', 'IN'), ('a', 'DT'), ('small', 'JJ'), ('matter', 'NN'), ('.', '.')]\n",
      "[('And', 'CC'), ('it', 'PRP'), ('should', 'MD'), ('not', 'RB'), ('be', 'VB'), ('a', 'DT'), ('small', 'JJ'), ('matter', 'NN'), ('to', 'TO'), ('the', 'DT'), ('United', 'NNP'), ('States', 'NNPS'), ('Congress', 'NNP'), ('.', '.')]\n",
      "[('(', '('), ('Applause', 'NNP'), ('.', '.'), (')', ')')]\n",
      "[('You', 'PRP'), ('and', 'CC'), ('I', 'PRP'), ('share', 'NN'), ('a', 'DT'), ('responsibility', 'NN'), ('.', '.')]\n",
      "[('We', 'PRP'), ('must', 'MD'), ('pass', 'VB'), ('reforms', 'NNS'), ('that', 'WDT'), ('solve', 'VBP'), ('the', 'DT'), ('financial', 'JJ'), ('problems', 'NNS'), ('of', 'IN'), ('Social', 'NNP'), ('Security', 'NNP'), ('once', 'RB'), ('and', 'CC'), ('for', 'IN'), ('all', 'DT'), ('.', '.')]\n",
      "[('Fixing', 'VBG'), ('Social', 'NNP'), ('Security', 'NNP'), ('permanently', 'RB'), ('will', 'MD'), ('require', 'VB'), ('an', 'DT'), ('open', 'JJ'), (',', ','), ('candid', 'JJ'), ('review', 'NN'), ('of', 'IN'), ('the', 'DT'), ('options', 'NNS'), ('.', '.')]\n",
      "[('Some', 'DT'), ('have', 'VBP'), ('suggested', 'VBN'), ('limiting', 'JJ'), ('benefits', 'NNS'), ('for', 'IN'), ('wealthy', 'JJ'), ('retirees', 'NNS'), ('.', '.')]\n",
      "[('Former', 'NNP'), ('Congressman', 'NNP'), ('Tim', 'NNP'), ('Penny', 'NNP'), ('has', 'VBZ'), ('raised', 'VBN'), ('the', 'DT'), ('possibility', 'NN'), ('of', 'IN'), ('indexing', 'VBG'), ('benefits', 'NNS'), ('to', 'TO'), ('prices', 'NNS'), ('rather', 'RB'), ('than', 'IN'), ('wages', 'NNS'), ('.', '.')]\n",
      "[('During', 'IN'), ('the', 'DT'), ('1990s', 'CD'), (',', ','), ('my', 'PRP$'), ('predecessor', 'NN'), (',', ','), ('President', 'NNP'), ('Clinton', 'NNP'), (',', ','), ('spoke', 'NN'), ('of', 'IN'), ('increasing', 'VBG'), ('the', 'DT'), ('retirement', 'NN'), ('age', 'NN'), ('.', '.')]\n",
      "[('Former', 'NNP'), ('Senator', 'NNP'), ('John', 'NNP'), ('Breaux', 'NNP'), ('suggested', 'VBD'), ('discouraging', 'VBG'), ('early', 'JJ'), ('collection', 'NN'), ('of', 'IN'), ('Social', 'NNP'), ('Security', 'NNP'), ('benefits', 'NNS'), ('.', '.')]\n",
      "[('The', 'DT'), ('late', 'JJ'), ('Senator', 'NNP'), ('Daniel', 'NNP'), ('Patrick', 'NNP'), ('Moynihan', 'NNP'), ('recommended', 'VBD'), ('changing', 'VBG'), ('the', 'DT'), ('way', 'NN'), ('benefits', 'NNS'), ('are', 'VBP'), ('calculated', 'VBN'), ('.', '.')]\n",
      "[('All', 'PDT'), ('these', 'DT'), ('ideas', 'NNS'), ('are', 'VBP'), ('on', 'IN'), ('the', 'DT'), ('table', 'NN'), ('.', '.')]\n",
      "[('I', 'PRP'), ('know', 'VBP'), ('that', 'IN'), ('none', 'NN'), ('of', 'IN'), ('these', 'DT'), ('reforms', 'NNS'), ('would', 'MD'), ('be', 'VB'), ('easy', 'JJ'), ('.', '.')]\n",
      "[('But', 'CC'), ('we', 'PRP'), ('have', 'VBP'), ('to', 'TO'), ('move', 'VB'), ('ahead', 'RB'), ('with', 'IN'), ('courage', 'NN'), ('and', 'CC'), ('honesty', 'NN'), (',', ','), ('because', 'IN'), ('our', 'PRP$'), ('children', 'NNS'), (\"'s\", 'POS'), ('retirement', 'NN'), ('security', 'NN'), ('is', 'VBZ'), ('more', 'RBR'), ('important', 'JJ'), ('than', 'IN'), ('partisan', 'JJ'), ('politics', 'NNS'), ('.', '.')]\n",
      "[('(', '('), ('Applause', 'NNP'), ('.', '.'), (')', ')')]\n"
     ]
    },
    {
     "name": "stdout",
     "output_type": "stream",
     "text": [
      "[('I', 'PRP'), ('will', 'MD'), ('work', 'VB'), ('with', 'IN'), ('members', 'NNS'), ('of', 'IN'), ('Congress', 'NNP'), ('to', 'TO'), ('find', 'VB'), ('the', 'DT'), ('most', 'RBS'), ('effective', 'JJ'), ('combination', 'NN'), ('of', 'IN'), ('reforms', 'NNS'), ('.', '.')]\n",
      "[('I', 'PRP'), ('will', 'MD'), ('listen', 'VB'), ('to', 'TO'), ('anyone', 'NN'), ('who', 'WP'), ('has', 'VBZ'), ('a', 'DT'), ('good', 'JJ'), ('idea', 'NN'), ('to', 'TO'), ('offer', 'VB'), ('.', '.')]\n",
      "[('(', '('), ('Applause', 'NNP'), ('.', '.'), (')', ')')]\n",
      "[('We', 'PRP'), ('must', 'MD'), (',', ','), ('however', 'RB'), (',', ','), ('be', 'VB'), ('guided', 'VBN'), ('by', 'IN'), ('some', 'DT'), ('basic', 'JJ'), ('principles', 'NNS'), ('.', '.')]\n",
      "[('We', 'PRP'), ('must', 'MD'), ('make', 'VB'), ('Social', 'NNP'), ('Security', 'NNP'), ('permanently', 'RB'), ('sound', 'VBD'), (',', ','), ('not', 'RB'), ('leave', 'VB'), ('that', 'DT'), ('task', 'NN'), ('for', 'IN'), ('another', 'DT'), ('day', 'NN'), ('.', '.')]\n",
      "[('We', 'PRP'), ('must', 'MD'), ('not', 'RB'), ('jeopardize', 'VB'), ('our', 'PRP$'), ('economic', 'JJ'), ('strength', 'NN'), ('by', 'IN'), ('increasing', 'VBG'), ('payroll', 'NN'), ('taxes', 'NNS'), ('.', '.')]\n",
      "[('We', 'PRP'), ('must', 'MD'), ('ensure', 'VB'), ('that', 'IN'), ('lower-income', 'JJ'), ('Americans', 'NNPS'), ('get', 'VBP'), ('the', 'DT'), ('help', 'NN'), ('they', 'PRP'), ('need', 'VBP'), ('to', 'TO'), ('have', 'VB'), ('dignity', 'NN'), ('and', 'CC'), ('peace', 'NN'), ('of', 'IN'), ('mind', 'NN'), ('in', 'IN'), ('their', 'PRP$'), ('retirement', 'NN'), ('.', '.')]\n",
      "[('We', 'PRP'), ('must', 'MD'), ('guarantee', 'VB'), ('there', 'EX'), ('is', 'VBZ'), ('no', 'DT'), ('change', 'NN'), ('for', 'IN'), ('those', 'DT'), ('now', 'RB'), ('retired', 'JJ'), ('or', 'CC'), ('nearing', 'JJ'), ('retirement', 'NN'), ('.', '.')]\n",
      "[('And', 'CC'), ('we', 'PRP'), ('must', 'MD'), ('take', 'VB'), ('care', 'NN'), ('that', 'IN'), ('any', 'DT'), ('changes', 'NNS'), ('in', 'IN'), ('the', 'DT'), ('system', 'NN'), ('are', 'VBP'), ('gradual', 'JJ'), (',', ','), ('so', 'RB'), ('younger', 'JJR'), ('workers', 'NNS'), ('have', 'VBP'), ('years', 'NNS'), ('to', 'TO'), ('prepare', 'VB'), ('and', 'CC'), ('plan', 'VB'), ('for', 'IN'), ('their', 'PRP$'), ('future', 'NN'), ('.', '.')]\n",
      "[('As', 'IN'), ('we', 'PRP'), ('fix', 'VBP'), ('Social', 'JJ'), ('Security', 'NNP'), (',', ','), ('we', 'PRP'), ('also', 'RB'), ('have', 'VBP'), ('the', 'DT'), ('responsibility', 'NN'), ('to', 'TO'), ('make', 'VB'), ('the', 'DT'), ('system', 'NN'), ('a', 'DT'), ('better', 'JJR'), ('deal', 'NN'), ('for', 'IN'), ('younger', 'JJR'), ('workers', 'NNS'), ('.', '.')]\n",
      "[('And', 'CC'), ('the', 'DT'), ('best', 'JJS'), ('way', 'NN'), ('to', 'TO'), ('reach', 'VB'), ('that', 'DT'), ('goal', 'NN'), ('is', 'VBZ'), ('through', 'IN'), ('voluntary', 'JJ'), ('personal', 'JJ'), ('retirement', 'NN'), ('accounts', 'NNS'), ('.', '.')]\n",
      "[('(', '('), ('Applause', 'NNP'), ('.', '.'), (')', ')')]\n",
      "[('Here', 'RB'), ('is', 'VBZ'), ('how', 'WRB'), ('the', 'DT'), ('idea', 'NN'), ('works', 'VBZ'), ('.', '.')]\n",
      "[('Right', 'RB'), ('now', 'RB'), (',', ','), ('a', 'DT'), ('set', 'NN'), ('portion', 'NN'), ('of', 'IN'), ('the', 'DT'), ('money', 'NN'), ('you', 'PRP'), ('earn', 'VBP'), ('is', 'VBZ'), ('taken', 'VBN'), ('out', 'IN'), ('of', 'IN'), ('your', 'PRP$'), ('paycheck', 'NN'), ('to', 'TO'), ('pay', 'VB'), ('for', 'IN'), ('the', 'DT'), ('Social', 'NNP'), ('Security', 'NNP'), ('benefits', 'NNS'), ('of', 'IN'), ('today', 'NN'), (\"'s\", 'POS'), ('retirees', 'NNS'), ('.', '.')]\n",
      "[('If', 'IN'), ('you', 'PRP'), (\"'re\", 'VBP'), ('a', 'DT'), ('younger', 'JJR'), ('worker', 'NN'), (',', ','), ('I', 'PRP'), ('believe', 'VBP'), ('you', 'PRP'), ('should', 'MD'), ('be', 'VB'), ('able', 'JJ'), ('to', 'TO'), ('set', 'VB'), ('aside', 'RP'), ('part', 'NN'), ('of', 'IN'), ('that', 'DT'), ('money', 'NN'), ('in', 'IN'), ('your', 'PRP$'), ('own', 'JJ'), ('retirement', 'NN'), ('account', 'NN'), (',', ','), ('so', 'IN'), ('you', 'PRP'), ('can', 'MD'), ('build', 'VB'), ('a', 'DT'), ('nest', 'JJS'), ('egg', 'NN'), ('for', 'IN'), ('your', 'PRP$'), ('own', 'JJ'), ('future', 'NN'), ('.', '.')]\n",
      "[('Here', 'RB'), (\"'s\", 'VBZ'), ('why', 'WRB'), ('the', 'DT'), ('personal', 'JJ'), ('accounts', 'NNS'), ('are', 'VBP'), ('a', 'DT'), ('better', 'JJR'), ('deal', 'NN'), ('.', '.')]\n",
      "[('Your', 'PRP$'), ('money', 'NN'), ('will', 'MD'), ('grow', 'VB'), (',', ','), ('over', 'IN'), ('time', 'NN'), (',', ','), ('at', 'IN'), ('a', 'DT'), ('greater', 'JJR'), ('rate', 'NN'), ('than', 'IN'), ('anything', 'NN'), ('the', 'DT'), ('current', 'JJ'), ('system', 'NN'), ('can', 'MD'), ('deliver', 'VB'), ('--', ':'), ('and', 'CC'), ('your', 'PRP$'), ('account', 'NN'), ('will', 'MD'), ('provide', 'VB'), ('money', 'NN'), ('for', 'IN'), ('retirement', 'NN'), ('over', 'IN'), ('and', 'CC'), ('above', 'IN'), ('the', 'DT'), ('check', 'NN'), ('you', 'PRP'), ('will', 'MD'), ('receive', 'VB'), ('from', 'IN'), ('Social', 'NNP'), ('Security', 'NNP'), ('.', '.')]\n",
      "[('In', 'IN'), ('addition', 'NN'), (',', ','), ('you', 'PRP'), (\"'ll\", 'MD'), ('be', 'VB'), ('able', 'JJ'), ('to', 'TO'), ('pass', 'VB'), ('along', 'IN'), ('the', 'DT'), ('money', 'NN'), ('that', 'WDT'), ('accumulates', 'VBZ'), ('in', 'IN'), ('your', 'PRP$'), ('personal', 'JJ'), ('account', 'NN'), (',', ','), ('if', 'IN'), ('you', 'PRP'), ('wish', 'VBP'), (',', ','), ('to', 'TO'), ('your', 'PRP$'), ('children', 'NNS'), ('and', 'CC'), ('--', ':'), ('or', 'CC'), ('grandchildren', 'NNS'), ('.', '.')]\n",
      "[('And', 'CC'), ('best', 'JJS'), ('of', 'IN'), ('all', 'DT'), (',', ','), ('the', 'DT'), ('money', 'NN'), ('in', 'IN'), ('the', 'DT'), ('account', 'NN'), ('is', 'VBZ'), ('yours', 'RB'), (',', ','), ('and', 'CC'), ('the', 'DT'), ('government', 'NN'), ('can', 'MD'), ('never', 'RB'), ('take', 'VB'), ('it', 'PRP'), ('away', 'RB'), ('.', '.')]\n",
      "[('(', '('), ('Applause', 'NNP'), ('.', '.'), (')', ')')]\n",
      "[('The', 'DT'), ('goal', 'NN'), ('here', 'RB'), ('is', 'VBZ'), ('greater', 'JJR'), ('security', 'NN'), ('in', 'IN'), ('retirement', 'NN'), (',', ','), ('so', 'IN'), ('we', 'PRP'), ('will', 'MD'), ('set', 'VB'), ('careful', 'JJ'), ('guidelines', 'NNS'), ('for', 'IN'), ('personal', 'JJ'), ('accounts', 'NNS'), ('.', '.')]\n",
      "[('We', 'PRP'), (\"'ll\", 'MD'), ('make', 'VB'), ('sure', 'JJ'), ('the', 'DT'), ('money', 'NN'), ('can', 'MD'), ('only', 'RB'), ('go', 'VB'), ('into', 'IN'), ('a', 'DT'), ('conservative', 'JJ'), ('mix', 'NN'), ('of', 'IN'), ('bonds', 'NNS'), ('and', 'CC'), ('stock', 'NN'), ('funds', 'NNS'), ('.', '.')]\n",
      "[('We', 'PRP'), (\"'ll\", 'MD'), ('make', 'VB'), ('sure', 'JJ'), ('that', 'IN'), ('your', 'PRP$'), ('earnings', 'NNS'), ('are', 'VBP'), ('not', 'RB'), ('eaten', 'VBN'), ('up', 'RP'), ('by', 'IN'), ('hidden', 'NN'), ('Wall', 'NNP'), ('Street', 'NNP'), ('fees', 'NNS'), ('.', '.')]\n",
      "[('We', 'PRP'), (\"'ll\", 'MD'), ('make', 'VB'), ('sure', 'JJ'), ('there', 'EX'), ('are', 'VBP'), ('good', 'JJ'), ('options', 'NNS'), ('to', 'TO'), ('protect', 'VB'), ('your', 'PRP$'), ('investments', 'NNS'), ('from', 'IN'), ('sudden', 'JJ'), ('market', 'NN'), ('swings', 'NNS'), ('on', 'IN'), ('the', 'DT'), ('eve', 'NN'), ('of', 'IN'), ('your', 'PRP$'), ('retirement', 'NN'), ('.', '.')]\n",
      "[('We', 'PRP'), (\"'ll\", 'MD'), ('make', 'VB'), ('sure', 'JJ'), ('a', 'DT'), ('personal', 'JJ'), ('account', 'NN'), ('can', 'MD'), ('not', 'RB'), ('be', 'VB'), ('emptied', 'VBN'), ('out', 'IN'), ('all', 'DT'), ('at', 'IN'), ('once', 'RB'), (',', ','), ('but', 'CC'), ('rather', 'RB'), ('paid', 'VBD'), ('out', 'RP'), ('over', 'IN'), ('time', 'NN'), (',', ','), ('as', 'IN'), ('an', 'DT'), ('addition', 'NN'), ('to', 'TO'), ('traditional', 'JJ'), ('Social', 'NNP'), ('Security', 'NNP'), ('benefits', 'NNS'), ('.', '.')]\n",
      "[('And', 'CC'), ('we', 'PRP'), (\"'ll\", 'MD'), ('make', 'VB'), ('sure', 'JJ'), ('this', 'DT'), ('plan', 'NN'), ('is', 'VBZ'), ('fiscally', 'RB'), ('responsible', 'JJ'), (',', ','), ('by', 'IN'), ('starting', 'VBG'), ('personal', 'JJ'), ('retirement', 'NN'), ('accounts', 'NNS'), ('gradually', 'RB'), (',', ','), ('and', 'CC'), ('raising', 'VBG'), ('the', 'DT'), ('yearly', 'JJ'), ('limits', 'NNS'), ('on', 'IN'), ('contributions', 'NNS'), ('over', 'IN'), ('time', 'NN'), (',', ','), ('eventually', 'RB'), ('permitting', 'VBG'), ('all', 'DT'), ('workers', 'NNS'), ('to', 'TO'), ('set', 'VB'), ('aside', 'RB'), ('four', 'CD'), ('percentage', 'NN'), ('points', 'NNS'), ('of', 'IN'), ('their', 'PRP$'), ('payroll', 'NN'), ('taxes', 'NNS'), ('in', 'IN'), ('their', 'PRP$'), ('accounts', 'NNS'), ('.', '.')]\n",
      "[('Personal', 'JJ'), ('retirement', 'NN'), ('accounts', 'NNS'), ('should', 'MD'), ('be', 'VB'), ('familiar', 'JJ'), ('to', 'TO'), ('federal', 'JJ'), ('employees', 'NNS'), (',', ','), ('because', 'IN'), ('you', 'PRP'), ('already', 'RB'), ('have', 'VBP'), ('something', 'NN'), ('similar', 'JJ'), (',', ','), ('called', 'VBD'), ('the', 'DT'), ('Thrift', 'NNP'), ('Savings', 'NNPS'), ('Plan', 'NNP'), (',', ','), ('which', 'WDT'), ('lets', 'VBZ'), ('workers', 'NNS'), ('deposit', 'VB'), ('a', 'DT'), ('portion', 'NN'), ('of', 'IN'), ('their', 'PRP$'), ('paychecks', 'NNS'), ('into', 'IN'), ('any', 'DT'), ('of', 'IN'), ('five', 'CD'), ('different', 'JJ'), ('broadly-based', 'JJ'), ('investment', 'NN'), ('funds', 'NNS'), ('.', '.')]\n",
      "[('It', 'PRP'), (\"'s\", 'VBZ'), ('time', 'NN'), ('to', 'TO'), ('extend', 'VB'), ('the', 'DT'), ('same', 'JJ'), ('security', 'NN'), (',', ','), ('and', 'CC'), ('choice', 'NN'), (',', ','), ('and', 'CC'), ('ownership', 'NN'), ('to', 'TO'), ('young', 'JJ'), ('Americans', 'NNPS'), ('.', '.')]\n",
      "[('(', '('), ('Applause', 'NNP'), ('.', '.'), (')', ')')]\n",
      "[('Our', 'PRP$'), ('second', 'JJ'), ('great', 'JJ'), ('responsibility', 'NN'), ('to', 'TO'), ('our', 'PRP$'), ('children', 'NNS'), ('and', 'CC'), ('grandchildren', 'NN'), ('is', 'VBZ'), ('to', 'TO'), ('honor', 'VB'), ('and', 'CC'), ('to', 'TO'), ('pass', 'VB'), ('along', 'IN'), ('the', 'DT'), ('values', 'NNS'), ('that', 'WDT'), ('sustain', 'VBP'), ('a', 'DT'), ('free', 'JJ'), ('society', 'NN'), ('.', '.')]\n",
      "[('So', 'RB'), ('many', 'JJ'), ('of', 'IN'), ('my', 'PRP$'), ('generation', 'NN'), (',', ','), ('after', 'IN'), ('a', 'DT'), ('long', 'JJ'), ('journey', 'NN'), (',', ','), ('have', 'VBP'), ('come', 'VBN'), ('home', 'NN'), ('to', 'TO'), ('family', 'NN'), ('and', 'CC'), ('faith', 'NN'), (',', ','), ('and', 'CC'), ('are', 'VBP'), ('determined', 'VBN'), ('to', 'TO'), ('bring', 'VB'), ('up', 'RP'), ('responsible', 'JJ'), (',', ','), ('moral', 'JJ'), ('children', 'NNS'), ('.', '.')]\n",
      "[('Government', 'NNP'), ('is', 'VBZ'), ('not', 'RB'), ('the', 'DT'), ('source', 'NN'), ('of', 'IN'), ('these', 'DT'), ('values', 'NNS'), (',', ','), ('but', 'CC'), ('government', 'NN'), ('should', 'MD'), ('never', 'RB'), ('undermine', 'VB'), ('them', 'PRP'), ('.', '.')]\n",
      "[('Because', 'IN'), ('marriage', 'NN'), ('is', 'VBZ'), ('a', 'DT'), ('sacred', 'JJ'), ('institution', 'NN'), ('and', 'CC'), ('the', 'DT'), ('foundation', 'NN'), ('of', 'IN'), ('society', 'NN'), (',', ','), ('it', 'PRP'), ('should', 'MD'), ('not', 'RB'), ('be', 'VB'), ('re-defined', 'VBN'), ('by', 'IN'), ('activist', 'NN'), ('judges', 'NNS'), ('.', '.')]\n",
      "[('For', 'IN'), ('the', 'DT'), ('good', 'JJ'), ('of', 'IN'), ('families', 'NNS'), (',', ','), ('children', 'NNS'), (',', ','), ('and', 'CC'), ('society', 'NN'), (',', ','), ('I', 'PRP'), ('support', 'VBP'), ('a', 'DT'), ('constitutional', 'JJ'), ('amendment', 'NN'), ('to', 'TO'), ('protect', 'VB'), ('the', 'DT'), ('institution', 'NN'), ('of', 'IN'), ('marriage', 'NN'), ('.', '.')]\n",
      "[('(', '('), ('Applause', 'NNP'), ('.', '.'), (')', ')')]\n",
      "[('Because', 'IN'), ('a', 'DT'), ('society', 'NN'), ('is', 'VBZ'), ('measured', 'VBN'), ('by', 'IN'), ('how', 'WRB'), ('it', 'PRP'), ('treats', 'VBZ'), ('the', 'DT'), ('weak', 'JJ'), ('and', 'CC'), ('vulnerable', 'JJ'), (',', ','), ('we', 'PRP'), ('must', 'MD'), ('strive', 'VB'), ('to', 'TO'), ('build', 'VB'), ('a', 'DT'), ('culture', 'NN'), ('of', 'IN'), ('life', 'NN'), ('.', '.')]\n",
      "[('Medical', 'JJ'), ('research', 'NN'), ('can', 'MD'), ('help', 'VB'), ('us', 'PRP'), ('reach', 'VB'), ('that', 'DT'), ('goal', 'NN'), (',', ','), ('by', 'IN'), ('developing', 'VBG'), ('treatments', 'NNS'), ('and', 'CC'), ('cures', 'NNS'), ('that', 'WDT'), ('save', 'VBP'), ('lives', 'NNS'), ('and', 'CC'), ('help', 'NN'), ('people', 'NNS'), ('overcome', 'VBP'), ('disabilities', 'NNS'), ('--', ':'), ('and', 'CC'), ('I', 'PRP'), ('thank', 'VBP'), ('the', 'DT'), ('Congress', 'NNP'), ('for', 'IN'), ('doubling', 'VBG'), ('the', 'DT'), ('funding', 'NN'), ('of', 'IN'), ('the', 'DT'), ('National', 'NNP'), ('Institutes', 'NNPS'), ('of', 'IN'), ('Health', 'NNP'), ('.', '.')]\n",
      "[('(', '('), ('Applause', 'NNP'), ('.', '.'), (')', ')')]\n",
      "[('To', 'TO'), ('build', 'VB'), ('a', 'DT'), ('culture', 'NN'), ('of', 'IN'), ('life', 'NN'), (',', ','), ('we', 'PRP'), ('must', 'MD'), ('also', 'RB'), ('ensure', 'VB'), ('that', 'IN'), ('scientific', 'JJ'), ('advances', 'NNS'), ('always', 'RB'), ('serve', 'VBP'), ('human', 'JJ'), ('dignity', 'NN'), (',', ','), ('not', 'RB'), ('take', 'VB'), ('advantage', 'NN'), ('of', 'IN'), ('some', 'DT'), ('lives', 'NNS'), ('for', 'IN'), ('the', 'DT'), ('benefit', 'NN'), ('of', 'IN'), ('others', 'NNS'), ('.', '.')]\n",
      "[('We', 'PRP'), ('should', 'MD'), ('all', 'DT'), ('be', 'VB'), ('able', 'JJ'), ('to', 'TO'), ('agree', 'VB'), ('--', ':'), ('(', '('), ('applause', 'NN'), (')', ')'), ('--', ':'), ('we', 'PRP'), ('should', 'MD'), ('all', 'DT'), ('be', 'VB'), ('able', 'JJ'), ('to', 'TO'), ('agree', 'VB'), ('on', 'IN'), ('some', 'DT'), ('clear', 'JJ'), ('standards', 'NNS'), ('.', '.')]\n",
      "[('I', 'PRP'), ('will', 'MD'), ('work', 'VB'), ('with', 'IN'), ('Congress', 'NNP'), ('to', 'TO'), ('ensure', 'VB'), ('that', 'IN'), ('human', 'JJ'), ('embryos', 'NNS'), ('are', 'VBP'), ('not', 'RB'), ('created', 'VBN'), ('for', 'IN'), ('experimentation', 'NN'), ('or', 'CC'), ('grown', 'VBN'), ('for', 'IN'), ('body', 'NN'), ('parts', 'NNS'), (',', ','), ('and', 'CC'), ('that', 'IN'), ('human', 'JJ'), ('life', 'NN'), ('is', 'VBZ'), ('never', 'RB'), ('bought', 'VBN'), ('and', 'CC'), ('sold', 'VBN'), ('as', 'IN'), ('a', 'DT'), ('commodity', 'NN'), ('.', '.')]\n",
      "[('(', '('), ('Applause', 'NNP'), ('.', '.'), (')', ')')]\n",
      "[('America', 'NNP'), ('will', 'MD'), ('continue', 'VB'), ('to', 'TO'), ('lead', 'VB'), ('the', 'DT'), ('world', 'NN'), ('in', 'IN'), ('medical', 'JJ'), ('research', 'NN'), ('that', 'WDT'), ('is', 'VBZ'), ('ambitious', 'JJ'), (',', ','), ('aggressive', 'JJ'), (',', ','), ('and', 'CC'), ('always', 'RB'), ('ethical', 'JJ'), ('.', '.')]\n",
      "[('Because', 'IN'), ('courts', 'NNS'), ('must', 'MD'), ('always', 'RB'), ('deliver', 'VB'), ('impartial', 'JJ'), ('justice', 'NN'), (',', ','), ('judges', 'NNS'), ('have', 'VBP'), ('a', 'DT'), ('duty', 'NN'), ('to', 'TO'), ('faithfully', 'RB'), ('interpret', 'VB'), ('the', 'DT'), ('law', 'NN'), (',', ','), ('not', 'RB'), ('legislate', 'VB'), ('from', 'IN'), ('the', 'DT'), ('bench', 'NN'), ('.', '.')]\n",
      "[('(', '('), ('Applause', 'NNP'), ('.', '.'), (')', ')')]\n",
      "[('As', 'IN'), ('President', 'NNP'), (',', ','), ('I', 'PRP'), ('have', 'VBP'), ('a', 'DT'), ('constitutional', 'JJ'), ('responsibility', 'NN'), ('to', 'TO'), ('nominate', 'VB'), ('men', 'NNS'), ('and', 'CC'), ('women', 'NNS'), ('who', 'WP'), ('understand', 'VBP'), ('the', 'DT'), ('role', 'NN'), ('of', 'IN'), ('courts', 'NNS'), ('in', 'IN'), ('our', 'PRP$'), ('democracy', 'NN'), (',', ','), ('and', 'CC'), ('are', 'VBP'), ('well-qualified', 'JJ'), ('to', 'TO'), ('serve', 'VB'), ('on', 'IN'), ('the', 'DT'), ('bench', 'NN'), ('--', ':'), ('and', 'CC'), ('I', 'PRP'), ('have', 'VBP'), ('done', 'VBN'), ('so', 'RB'), ('.', '.')]\n",
      "[('(', '('), ('Applause', 'NNP'), ('.', '.'), (')', ')')]\n",
      "[('The', 'DT'), ('Constitution', 'NNP'), ('also', 'RB'), ('gives', 'VBZ'), ('the', 'DT'), ('Senate', 'NNP'), ('a', 'DT'), ('responsibility', 'NN'), (':', ':'), ('Every', 'DT'), ('judicial', 'JJ'), ('nominee', 'NN'), ('deserves', 'VBZ'), ('an', 'DT'), ('up', 'NN'), ('or', 'CC'), ('down', 'RB'), ('vote', 'NN'), ('.', '.')]\n",
      "[('(', '('), ('Applause', 'NNP'), ('.', '.'), (')', ')')]\n",
      "[('Because', 'IN'), ('one', 'CD'), ('of', 'IN'), ('the', 'DT'), ('deepest', 'JJS'), ('values', 'NNS'), ('of', 'IN'), ('our', 'PRP$'), ('country', 'NN'), ('is', 'VBZ'), ('compassion', 'JJ'), (',', ','), ('we', 'PRP'), ('must', 'MD'), ('never', 'RB'), ('turn', 'VB'), ('away', 'RP'), ('from', 'IN'), ('any', 'DT'), ('citizen', 'NN'), ('who', 'WP'), ('feels', 'VBZ'), ('isolated', 'VBN'), ('from', 'IN'), ('the', 'DT'), ('opportunities', 'NNS'), ('of', 'IN'), ('America', 'NNP'), ('.', '.')]\n",
      "[('Our', 'PRP$'), ('government', 'NN'), ('will', 'MD'), ('continue', 'VB'), ('to', 'TO'), ('support', 'VB'), ('faith-based', 'JJ'), ('and', 'CC'), ('community', 'NN'), ('groups', 'NNS'), ('that', 'IN'), ('bring', 'VBG'), ('hope', 'NN'), ('to', 'TO'), ('harsh', 'VB'), ('places', 'NNS'), ('.', '.')]\n",
      "[('Now', 'RB'), ('we', 'PRP'), ('need', 'VBP'), ('to', 'TO'), ('focus', 'VB'), ('on', 'IN'), ('giving', 'VBG'), ('young', 'JJ'), ('people', 'NNS'), (',', ','), ('especially', 'RB'), ('young', 'JJ'), ('men', 'NNS'), ('in', 'IN'), ('our', 'PRP$'), ('cities', 'NNS'), (',', ','), ('better', 'JJR'), ('options', 'NNS'), ('than', 'IN'), ('apathy', 'JJ'), (',', ','), ('or', 'CC'), ('gangs', 'NNS'), (',', ','), ('or', 'CC'), ('jail', 'NN'), ('.', '.')]\n",
      "[('Tonight', 'NNP'), ('I', 'PRP'), ('propose', 'VBP'), ('a', 'DT'), ('three-year', 'JJ'), ('initiative', 'NN'), ('to', 'TO'), ('help', 'VB'), ('organizations', 'NNS'), ('keep', 'VB'), ('young', 'JJ'), ('people', 'NNS'), ('out', 'IN'), ('of', 'IN'), ('gangs', 'NNS'), (',', ','), ('and', 'CC'), ('show', 'VB'), ('young', 'JJ'), ('men', 'NNS'), ('an', 'DT'), ('ideal', 'NN'), ('of', 'IN'), ('manhood', 'NN'), ('that', 'WDT'), ('respects', 'VBZ'), ('women', 'NNS'), ('and', 'CC'), ('rejects', 'NNS'), ('violence', 'NN'), ('.', '.')]\n",
      "[('(', '('), ('Applause', 'NNP'), ('.', '.'), (')', ')')]\n",
      "[('Taking', 'VBG'), ('on', 'IN'), ('gang', 'NN'), ('life', 'NN'), ('will', 'MD'), ('be', 'VB'), ('one', 'CD'), ('part', 'NN'), ('of', 'IN'), ('a', 'DT'), ('broader', 'JJR'), ('outreach', 'NN'), ('to', 'TO'), ('at-risk', 'JJ'), ('youth', 'NN'), (',', ','), ('which', 'WDT'), ('involves', 'VBZ'), ('parents', 'NNS'), ('and', 'CC'), ('pastors', 'NNS'), (',', ','), ('coaches', 'NNS'), ('and', 'CC'), ('community', 'NN'), ('leaders', 'NNS'), (',', ','), ('in', 'IN'), ('programs', 'NNS'), ('ranging', 'VBG'), ('from', 'IN'), ('literacy', 'NN'), ('to', 'TO'), ('sports', 'NNS'), ('.', '.')]\n",
      "[('And', 'CC'), ('I', 'PRP'), ('am', 'VBP'), ('proud', 'JJ'), ('that', 'IN'), ('the', 'DT'), ('leader', 'NN'), ('of', 'IN'), ('this', 'DT'), ('nationwide', 'JJ'), ('effort', 'NN'), ('will', 'MD'), ('be', 'VB'), ('our', 'PRP$'), ('First', 'NNP'), ('Lady', 'NNP'), (',', ','), ('Laura', 'NNP'), ('Bush', 'NNP'), ('.', '.')]\n",
      "[('(', '('), ('Applause', 'NNP'), ('.', '.'), (')', ')')]\n",
      "[('Because', 'IN'), ('HIV/AIDS', 'NNP'), ('brings', 'VBZ'), ('suffering', 'NN'), ('and', 'CC'), ('fear', 'NN'), ('into', 'IN'), ('so', 'RB'), ('many', 'JJ'), ('lives', 'NNS'), (',', ','), ('I', 'PRP'), ('ask', 'VBP'), ('you', 'PRP'), ('to', 'TO'), ('reauthorize', 'VB'), ('the', 'DT'), ('Ryan', 'NNP'), ('White', 'NNP'), ('Act', 'NNP'), ('to', 'TO'), ('encourage', 'VB'), ('prevention', 'NN'), (',', ','), ('and', 'CC'), ('provide', 'VB'), ('care', 'NN'), ('and', 'CC'), ('treatment', 'NN'), ('to', 'TO'), ('the', 'DT'), ('victims', 'NNS'), ('of', 'IN'), ('that', 'DT'), ('disease', 'NN'), ('.', '.')]\n",
      "[('(', '('), ('Applause', 'NNP'), ('.', '.'), (')', ')')]\n",
      "[('And', 'CC'), ('as', 'IN'), ('we', 'PRP'), ('update', 'VBP'), ('this', 'DT'), ('important', 'JJ'), ('law', 'NN'), (',', ','), ('we', 'PRP'), ('must', 'MD'), ('focus', 'VB'), ('our', 'PRP$'), ('efforts', 'NNS'), ('on', 'IN'), ('fellow', 'JJ'), ('citizens', 'NNS'), ('with', 'IN'), ('the', 'DT'), ('highest', 'JJS'), ('rates', 'NNS'), ('of', 'IN'), ('new', 'JJ'), ('cases', 'NNS'), (',', ','), ('African', 'JJ'), ('American', 'JJ'), ('men', 'NNS'), ('and', 'CC'), ('women', 'NNS'), ('.', '.')]\n",
      "[('(', '('), ('Applause', 'NNP'), ('.', '.'), (')', ')')]\n",
      "[('Because', 'IN'), ('one', 'CD'), ('of', 'IN'), ('the', 'DT'), ('main', 'JJ'), ('sources', 'NNS'), ('of', 'IN'), ('our', 'PRP$'), ('national', 'JJ'), ('unity', 'NN'), ('is', 'VBZ'), ('our', 'PRP$'), ('belief', 'NN'), ('in', 'IN'), ('equal', 'JJ'), ('justice', 'NN'), (',', ','), ('we', 'PRP'), ('need', 'VBP'), ('to', 'TO'), ('make', 'VB'), ('sure', 'JJ'), ('Americans', 'NNPS'), ('of', 'IN'), ('all', 'DT'), ('races', 'NNS'), ('and', 'CC'), ('backgrounds', 'NNS'), ('have', 'VBP'), ('confidence', 'NN'), ('in', 'IN'), ('the', 'DT'), ('system', 'NN'), ('that', 'WDT'), ('provides', 'VBZ'), ('justice', 'NN'), ('.', '.')]\n",
      "[('In', 'IN'), ('America', 'NNP'), ('we', 'PRP'), ('must', 'MD'), ('make', 'VB'), ('doubly', 'RB'), ('sure', 'JJ'), ('no', 'DT'), ('person', 'NN'), ('is', 'VBZ'), ('held', 'VBN'), ('to', 'TO'), ('account', 'VB'), ('for', 'IN'), ('a', 'DT'), ('crime', 'NN'), ('he', 'PRP'), ('or', 'CC'), ('she', 'PRP'), ('did', 'VBD'), ('not', 'RB'), ('commit', 'VB'), ('--', ':'), ('so', 'IN'), ('we', 'PRP'), ('are', 'VBP'), ('dramatically', 'RB'), ('expanding', 'VBG'), ('the', 'DT'), ('use', 'NN'), ('of', 'IN'), ('DNA', 'NNP'), ('evidence', 'NN'), ('to', 'TO'), ('prevent', 'VB'), ('wrongful', 'JJ'), ('conviction', 'NN'), ('.', '.')]\n",
      "[('(', '('), ('Applause', 'NNP'), ('.', '.'), (')', ')')]\n",
      "[('Soon', 'RB'), ('I', 'PRP'), ('will', 'MD'), ('send', 'VB'), ('to', 'TO'), ('Congress', 'NNP'), ('a', 'DT'), ('proposal', 'NN'), ('to', 'TO'), ('fund', 'VB'), ('special', 'JJ'), ('training', 'NN'), ('for', 'IN'), ('defense', 'NN'), ('counsel', 'NN'), ('in', 'IN'), ('capital', 'NN'), ('cases', 'NNS'), (',', ','), ('because', 'IN'), ('people', 'NNS'), ('on', 'IN'), ('trial', 'NN'), ('for', 'IN'), ('their', 'PRP$'), ('lives', 'NNS'), ('must', 'MD'), ('have', 'VB'), ('competent', 'NN'), ('lawyers', 'NNS'), ('by', 'IN'), ('their', 'PRP$'), ('side', 'NN'), ('.', '.')]\n",
      "[('(', '('), ('Applause', 'NNP'), ('.', '.'), (')', ')')]\n",
      "[('Our', 'PRP$'), ('third', 'JJ'), ('responsibility', 'NN'), ('to', 'TO'), ('future', 'JJ'), ('generations', 'NNS'), ('is', 'VBZ'), ('to', 'TO'), ('leave', 'VB'), ('them', 'PRP'), ('an', 'DT'), ('America', 'NNP'), ('that', 'WDT'), ('is', 'VBZ'), ('safe', 'JJ'), ('from', 'IN'), ('danger', 'NN'), (',', ','), ('and', 'CC'), ('protected', 'VBN'), ('by', 'IN'), ('peace', 'NN'), ('.', '.')]\n",
      "[('We', 'PRP'), ('will', 'MD'), ('pass', 'VB'), ('along', 'RB'), ('to', 'TO'), ('our', 'PRP$'), ('children', 'NNS'), ('all', 'PDT'), ('the', 'DT'), ('freedoms', 'NNS'), ('we', 'PRP'), ('enjoy', 'VBP'), ('--', ':'), ('and', 'CC'), ('chief', 'JJ'), ('among', 'IN'), ('them', 'PRP'), ('is', 'VBZ'), ('freedom', 'NN'), ('from', 'IN'), ('fear', 'NN'), ('.', '.')]\n",
      "[('In', 'IN'), ('the', 'DT'), ('three', 'CD'), ('and', 'CC'), ('a', 'DT'), ('half', 'NN'), ('years', 'NNS'), ('since', 'IN'), ('September', 'NNP'), ('the', 'DT'), ('11th', 'CD'), (',', ','), ('2001', 'CD'), (',', ','), ('we', 'PRP'), ('have', 'VBP'), ('taken', 'VBN'), ('unprecedented', 'JJ'), ('actions', 'NNS'), ('to', 'TO'), ('protect', 'VB'), ('Americans', 'NNPS'), ('.', '.')]\n",
      "[('We', 'PRP'), (\"'ve\", 'VBP'), ('created', 'VBN'), ('a', 'DT'), ('new', 'JJ'), ('department', 'NN'), ('of', 'IN'), ('government', 'NN'), ('to', 'TO'), ('defend', 'VB'), ('our', 'PRP$'), ('homeland', 'NN'), (',', ','), ('focused', 'VBD'), ('the', 'DT'), ('FBI', 'NNP'), ('on', 'IN'), ('preventing', 'VBG'), ('terrorism', 'NN'), (',', ','), ('begun', 'VBN'), ('to', 'TO'), ('reform', 'VB'), ('our', 'PRP$'), ('intelligence', 'NN'), ('agencies', 'NNS'), (',', ','), ('broken', 'VBD'), ('up', 'RP'), ('terror', 'NN'), ('cells', 'NNS'), ('across', 'IN'), ('the', 'DT'), ('country', 'NN'), (',', ','), ('expanded', 'VBN'), ('research', 'NN'), ('on', 'IN'), ('defenses', 'NNS'), ('against', 'IN'), ('biological', 'JJ'), ('and', 'CC'), ('chemical', 'JJ'), ('attack', 'NN'), (',', ','), ('improved', 'VBN'), ('border', 'NN'), ('security', 'NN'), (',', ','), ('and', 'CC'), ('trained', 'VBD'), ('more', 'JJR'), ('than', 'IN'), ('a', 'DT'), ('half-million', 'NN'), ('first', 'JJ'), ('responders', 'NNS'), ('.', '.')]\n",
      "[('Police', 'NNP'), ('and', 'CC'), ('firefighters', 'NNS'), (',', ','), ('air', 'NN'), ('marshals', 'NNS'), (',', ','), ('researchers', 'NNS'), (',', ','), ('and', 'CC'), ('so', 'RB'), ('many', 'JJ'), ('others', 'NNS'), ('are', 'VBP'), ('working', 'VBG'), ('every', 'DT'), ('day', 'NN'), ('to', 'TO'), ('make', 'VB'), ('our', 'PRP$'), ('homeland', 'NN'), ('safer', 'NN'), (',', ','), ('and', 'CC'), ('we', 'PRP'), ('thank', 'VBP'), ('them', 'PRP'), ('all', 'DT'), ('.', '.')]\n",
      "[('(', '('), ('Applause', 'NNP'), ('.', '.'), (')', ')')]\n",
      "[('Our', 'PRP$'), ('nation', 'NN'), (',', ','), ('working', 'VBG'), ('with', 'IN'), ('allies', 'NNS'), ('and', 'CC'), ('friends', 'NNS'), (',', ','), ('has', 'VBZ'), ('also', 'RB'), ('confronted', 'VBN'), ('the', 'DT'), ('enemy', 'NN'), ('abroad', 'RB'), (',', ','), ('with', 'IN'), ('measures', 'NNS'), ('that', 'WDT'), ('are', 'VBP'), ('determined', 'VBN'), (',', ','), ('successful', 'JJ'), (',', ','), ('and', 'CC'), ('continuing', 'VBG'), ('.', '.')]\n",
      "[('The', 'DT'), ('al', 'NN'), ('Qaeda', 'NNP'), ('terror', 'NN'), ('network', 'NN'), ('that', 'WDT'), ('attacked', 'VBD'), ('our', 'PRP$'), ('country', 'NN'), ('still', 'RB'), ('has', 'VBZ'), ('leaders', 'NNS'), ('--', ':'), ('but', 'CC'), ('many', 'JJ'), ('of', 'IN'), ('its', 'PRP$'), ('top', 'JJ'), ('commanders', 'NNS'), ('have', 'VBP'), ('been', 'VBN'), ('removed', 'VBN'), ('.', '.')]\n",
      "[('There', 'EX'), ('are', 'VBP'), ('still', 'RB'), ('governments', 'NNS'), ('that', 'IN'), ('sponsor', 'NN'), ('and', 'CC'), ('harbor', 'NN'), ('terrorists', 'NNS'), ('--', ':'), ('but', 'CC'), ('their', 'PRP$'), ('number', 'NN'), ('has', 'VBZ'), ('declined', 'VBN'), ('.', '.')]\n",
      "[('There', 'EX'), ('are', 'VBP'), ('still', 'RB'), ('regimes', 'NNS'), ('seeking', 'VBG'), ('weapons', 'NNS'), ('of', 'IN'), ('mass', 'NN'), ('destruction', 'NN'), ('--', ':'), ('but', 'CC'), ('no', 'DT'), ('longer', 'RB'), ('without', 'IN'), ('attention', 'NN'), ('and', 'CC'), ('without', 'IN'), ('consequence', 'NN'), ('.', '.')]\n",
      "[('Our', 'PRP$'), ('country', 'NN'), ('is', 'VBZ'), ('still', 'RB'), ('the', 'DT'), ('target', 'NN'), ('of', 'IN'), ('terrorists', 'NNS'), ('who', 'WP'), ('want', 'VBP'), ('to', 'TO'), ('kill', 'VB'), ('many', 'JJ'), (',', ','), ('and', 'CC'), ('intimidate', 'VB'), ('us', 'PRP'), ('all', 'DT'), ('--', ':'), ('and', 'CC'), ('we', 'PRP'), ('will', 'MD'), ('stay', 'VB'), ('on', 'IN'), ('the', 'DT'), ('offensive', 'JJ'), ('against', 'IN'), ('them', 'PRP'), (',', ','), ('until', 'IN'), ('the', 'DT'), ('fight', 'NN'), ('is', 'VBZ'), ('won', 'VBN'), ('.', '.')]\n",
      "[('(', '('), ('Applause', 'NNP'), ('.', '.'), (')', ')')]\n",
      "[('Pursuing', 'VBG'), ('our', 'PRP$'), ('enemies', 'NNS'), ('is', 'VBZ'), ('a', 'DT'), ('vital', 'JJ'), ('commitment', 'NN'), ('of', 'IN'), ('the', 'DT'), ('war', 'NN'), ('on', 'IN'), ('terror', 'NN'), ('--', ':'), ('and', 'CC'), ('I', 'PRP'), ('thank', 'VBP'), ('the', 'DT'), ('Congress', 'NNP'), ('for', 'IN'), ('providing', 'VBG'), ('our', 'PRP$'), ('servicemen', 'NNS'), ('and', 'CC'), ('women', 'NNS'), ('with', 'IN'), ('the', 'DT'), ('resources', 'NNS'), ('they', 'PRP'), ('have', 'VBP'), ('needed', 'VBN'), ('.', '.')]\n",
      "[('During', 'IN'), ('this', 'DT'), ('time', 'NN'), ('of', 'IN'), ('war', 'NN'), (',', ','), ('we', 'PRP'), ('must', 'MD'), ('continue', 'VB'), ('to', 'TO'), ('support', 'VB'), ('our', 'PRP$'), ('military', 'JJ'), ('and', 'CC'), ('give', 'VB'), ('them', 'PRP'), ('the', 'DT'), ('tools', 'NNS'), ('for', 'IN'), ('victory', 'NN'), ('.', '.')]\n",
      "[('(', '('), ('Applause', 'NNP'), ('.', '.'), (')', ')')]\n",
      "[('Other', 'JJ'), ('nations', 'NNS'), ('around', 'IN'), ('the', 'DT'), ('globe', 'NN'), ('have', 'VBP'), ('stood', 'VBN'), ('with', 'IN'), ('us', 'PRP'), ('.', '.')]\n",
      "[('In', 'IN'), ('Afghanistan', 'NNP'), (',', ','), ('an', 'DT'), ('international', 'JJ'), ('force', 'NN'), ('is', 'VBZ'), ('helping', 'VBG'), ('provide', 'JJ'), ('security', 'NN'), ('.', '.')]\n",
      "[('In', 'IN'), ('Iraq', 'NNP'), (',', ','), ('28', 'CD'), ('countries', 'NNS'), ('have', 'VBP'), ('troops', 'NNS'), ('on', 'IN'), ('the', 'DT'), ('ground', 'NN'), (',', ','), ('the', 'DT'), ('United', 'NNP'), ('Nations', 'NNPS'), ('and', 'CC'), ('the', 'DT'), ('European', 'NNP'), ('Union', 'NNP'), ('provided', 'VBD'), ('technical', 'JJ'), ('assistance', 'NN'), ('for', 'IN'), ('the', 'DT'), ('elections', 'NNS'), (',', ','), ('and', 'CC'), ('NATO', 'NNP'), ('is', 'VBZ'), ('leading', 'VBG'), ('a', 'DT'), ('mission', 'NN'), ('to', 'TO'), ('help', 'VB'), ('train', 'VB'), ('Iraqi', 'NNP'), ('officers', 'NNS'), ('.', '.')]\n",
      "[('We', 'PRP'), (\"'re\", 'VBP'), ('cooperating', 'VBG'), ('with', 'IN'), ('60', 'CD'), ('governments', 'NNS'), ('in', 'IN'), ('the', 'DT'), ('Proliferation', 'NNP'), ('Security', 'NNP'), ('Initiative', 'NNP'), (',', ','), ('to', 'TO'), ('detect', 'VB'), ('and', 'CC'), ('stop', 'VB'), ('the', 'DT'), ('transit', 'NN'), ('of', 'IN'), ('dangerous', 'JJ'), ('materials', 'NNS'), ('.', '.')]\n",
      "[('We', 'PRP'), (\"'re\", 'VBP'), ('working', 'VBG'), ('closely', 'RB'), ('with', 'IN'), ('the', 'DT'), ('governments', 'NNS'), ('in', 'IN'), ('Asia', 'NNP'), ('to', 'TO'), ('convince', 'VB'), ('North', 'NNP'), ('Korea', 'NNP'), ('to', 'TO'), ('abandon', 'VB'), ('its', 'PRP$'), ('nuclear', 'JJ'), ('ambitions', 'NNS'), ('.', '.')]\n",
      "[('Pakistan', 'NNP'), (',', ','), ('Saudi', 'NNP'), ('Arabia', 'NNP'), (',', ','), ('and', 'CC'), ('nine', 'CD'), ('other', 'JJ'), ('countries', 'NNS'), ('have', 'VBP'), ('captured', 'VBN'), ('or', 'CC'), ('detained', 'VBN'), ('al', 'RP'), ('Qaeda', 'NNP'), ('terrorists', 'NNS'), ('.', '.')]\n"
     ]
    },
    {
     "name": "stdout",
     "output_type": "stream",
     "text": [
      "[('In', 'IN'), ('the', 'DT'), ('next', 'JJ'), ('four', 'CD'), ('years', 'NNS'), (',', ','), ('my', 'PRP$'), ('administration', 'NN'), ('will', 'MD'), ('continue', 'VB'), ('to', 'TO'), ('build', 'VB'), ('the', 'DT'), ('coalitions', 'NNS'), ('that', 'WDT'), ('will', 'MD'), ('defeat', 'VB'), ('the', 'DT'), ('dangers', 'NNS'), ('of', 'IN'), ('our', 'PRP$'), ('time', 'NN'), ('.', '.')]\n",
      "[('(', '('), ('Applause', 'NNP'), ('.', '.'), (')', ')')]\n",
      "[('In', 'IN'), ('the', 'DT'), ('long-term', 'JJ'), (',', ','), ('the', 'DT'), ('peace', 'NN'), ('we', 'PRP'), ('seek', 'VBP'), ('will', 'MD'), ('only', 'RB'), ('be', 'VB'), ('achieved', 'VBN'), ('by', 'IN'), ('eliminating', 'VBG'), ('the', 'DT'), ('conditions', 'NNS'), ('that', 'WDT'), ('feed', 'VBP'), ('radicalism', 'NN'), ('and', 'CC'), ('ideologies', 'NNS'), ('of', 'IN'), ('murder', 'NN'), ('.', '.')]\n",
      "[('If', 'IN'), ('whole', 'JJ'), ('regions', 'NNS'), ('of', 'IN'), ('the', 'DT'), ('world', 'NN'), ('remain', 'NN'), ('in', 'IN'), ('despair', 'NN'), ('and', 'CC'), ('grow', 'NN'), ('in', 'IN'), ('hatred', 'VBN'), (',', ','), ('they', 'PRP'), ('will', 'MD'), ('be', 'VB'), ('the', 'DT'), ('recruiting', 'NN'), ('grounds', 'NNS'), ('for', 'IN'), ('terror', 'NN'), (',', ','), ('and', 'CC'), ('that', 'DT'), ('terror', 'NN'), ('will', 'MD'), ('stalk', 'VB'), ('America', 'NNP'), ('and', 'CC'), ('other', 'JJ'), ('free', 'JJ'), ('nations', 'NNS'), ('for', 'IN'), ('decades', 'NNS'), ('.', '.')]\n",
      "[('The', 'DT'), ('only', 'JJ'), ('force', 'NN'), ('powerful', 'JJ'), ('enough', 'RB'), ('to', 'TO'), ('stop', 'VB'), ('the', 'DT'), ('rise', 'NN'), ('of', 'IN'), ('tyranny', 'NN'), ('and', 'CC'), ('terror', 'NN'), (',', ','), ('and', 'CC'), ('replace', 'VB'), ('hatred', 'VBN'), ('with', 'IN'), ('hope', 'NN'), (',', ','), ('is', 'VBZ'), ('the', 'DT'), ('force', 'NN'), ('of', 'IN'), ('human', 'JJ'), ('freedom', 'NN'), ('.', '.')]\n",
      "[('(', '('), ('Applause', 'NNP'), ('.', '.'), (')', ')')]\n",
      "[('Our', 'PRP$'), ('enemies', 'NNS'), ('know', 'VBP'), ('this', 'DT'), (',', ','), ('and', 'CC'), ('that', 'DT'), ('is', 'VBZ'), ('why', 'WRB'), ('the', 'DT'), ('terrorist', 'NN'), ('Zarqawi', 'NNP'), ('recently', 'RB'), ('declared', 'VBD'), ('war', 'NN'), ('on', 'IN'), ('what', 'WP'), ('he', 'PRP'), ('called', 'VBD'), ('the', 'DT'), ('``', '``'), ('evil', 'JJ'), ('principle', 'NN'), (\"''\", \"''\"), ('of', 'IN'), ('democracy', 'NN'), ('.', '.')]\n",
      "[('And', 'CC'), ('we', 'PRP'), (\"'ve\", 'VBP'), ('declared', 'VBN'), ('our', 'PRP$'), ('own', 'JJ'), ('intention', 'NN'), (':', ':'), ('America', 'NNP'), ('will', 'MD'), ('stand', 'VB'), ('with', 'IN'), ('the', 'DT'), ('allies', 'NNS'), ('of', 'IN'), ('freedom', 'NN'), ('to', 'TO'), ('support', 'VB'), ('democratic', 'JJ'), ('movements', 'NNS'), ('in', 'IN'), ('the', 'DT'), ('Middle', 'NNP'), ('East', 'NNP'), ('and', 'CC'), ('beyond', 'IN'), (',', ','), ('with', 'IN'), ('the', 'DT'), ('ultimate', 'JJ'), ('goal', 'NN'), ('of', 'IN'), ('ending', 'VBG'), ('tyranny', 'NN'), ('in', 'IN'), ('our', 'PRP$'), ('world', 'NN'), ('.', '.')]\n",
      "[('(', '('), ('Applause', 'NNP'), ('.', '.'), (')', ')')]\n",
      "[('The', 'DT'), ('United', 'NNP'), ('States', 'NNPS'), ('has', 'VBZ'), ('no', 'DT'), ('right', 'NN'), (',', ','), ('no', 'DT'), ('desire', 'NN'), (',', ','), ('and', 'CC'), ('no', 'DT'), ('intention', 'NN'), ('to', 'TO'), ('impose', 'VB'), ('our', 'PRP$'), ('form', 'NN'), ('of', 'IN'), ('government', 'NN'), ('on', 'IN'), ('anyone', 'NN'), ('else', 'RB'), ('.', '.')]\n",
      "[('That', 'DT'), ('is', 'VBZ'), ('one', 'CD'), ('of', 'IN'), ('the', 'DT'), ('main', 'JJ'), ('differences', 'NNS'), ('between', 'IN'), ('us', 'PRP'), ('and', 'CC'), ('our', 'PRP$'), ('enemies', 'NNS'), ('.', '.')]\n",
      "[('They', 'PRP'), ('seek', 'VBP'), ('to', 'TO'), ('impose', 'VB'), ('and', 'CC'), ('expand', 'VB'), ('an', 'DT'), ('empire', 'NN'), ('of', 'IN'), ('oppression', 'NN'), (',', ','), ('in', 'IN'), ('which', 'WDT'), ('a', 'DT'), ('tiny', 'JJ'), ('group', 'NN'), ('of', 'IN'), ('brutal', 'NN'), (',', ','), ('self-appointed', 'JJ'), ('rulers', 'NNS'), ('control', 'NN'), ('every', 'DT'), ('aspect', 'NN'), ('of', 'IN'), ('every', 'DT'), ('life', 'NN'), ('.', '.')]\n",
      "[('Our', 'PRP$'), ('aim', 'NN'), ('is', 'VBZ'), ('to', 'TO'), ('build', 'VB'), ('and', 'CC'), ('preserve', 'VB'), ('a', 'DT'), ('community', 'NN'), ('of', 'IN'), ('free', 'JJ'), ('and', 'CC'), ('independent', 'JJ'), ('nations', 'NNS'), (',', ','), ('with', 'IN'), ('governments', 'NNS'), ('that', 'WDT'), ('answer', 'VBP'), ('to', 'TO'), ('their', 'PRP$'), ('citizens', 'NNS'), (',', ','), ('and', 'CC'), ('reflect', 'VBP'), ('their', 'PRP$'), ('own', 'JJ'), ('cultures', 'NNS'), ('.', '.')]\n",
      "[('And', 'CC'), ('because', 'IN'), ('democracies', 'NNS'), ('respect', 'VBP'), ('their', 'PRP$'), ('own', 'JJ'), ('people', 'NNS'), ('and', 'CC'), ('their', 'PRP$'), ('neighbors', 'NNS'), (',', ','), ('the', 'DT'), ('advance', 'NN'), ('of', 'IN'), ('freedom', 'NN'), ('will', 'MD'), ('lead', 'VB'), ('to', 'TO'), ('peace', 'NN'), ('.', '.')]\n",
      "[('(', '('), ('Applause', 'NNP'), ('.', '.'), (')', ')')]\n",
      "[('That', 'DT'), ('advance', 'NN'), ('has', 'VBZ'), ('great', 'JJ'), ('momentum', 'NN'), ('in', 'IN'), ('our', 'PRP$'), ('time', 'NN'), ('--', ':'), ('shown', 'VBN'), ('by', 'IN'), ('women', 'NNS'), ('voting', 'VBG'), ('in', 'IN'), ('Afghanistan', 'NNP'), (',', ','), ('and', 'CC'), ('Palestinians', 'NNPS'), ('choosing', 'VBG'), ('a', 'DT'), ('new', 'JJ'), ('direction', 'NN'), (',', ','), ('and', 'CC'), ('the', 'DT'), ('people', 'NNS'), ('of', 'IN'), ('Ukraine', 'NNP'), ('asserting', 'VBG'), ('their', 'PRP$'), ('democratic', 'JJ'), ('rights', 'NNS'), ('and', 'CC'), ('electing', 'VBG'), ('a', 'DT'), ('president', 'NN'), ('.', '.')]\n",
      "[('We', 'PRP'), ('are', 'VBP'), ('witnessing', 'VBG'), ('landmark', 'NN'), ('events', 'NNS'), ('in', 'IN'), ('the', 'DT'), ('history', 'NN'), ('of', 'IN'), ('liberty', 'NN'), ('.', '.')]\n",
      "[('And', 'CC'), ('in', 'IN'), ('the', 'DT'), ('coming', 'VBG'), ('years', 'NNS'), (',', ','), ('we', 'PRP'), ('will', 'MD'), ('add', 'VB'), ('to', 'TO'), ('that', 'DT'), ('story', 'NN'), ('.', '.')]\n",
      "[('(', '('), ('Applause', 'NNP'), ('.', '.'), (')', ')')]\n",
      "[('The', 'DT'), ('beginnings', 'NNS'), ('of', 'IN'), ('reform', 'NN'), ('and', 'CC'), ('democracy', 'NN'), ('in', 'IN'), ('the', 'DT'), ('Palestinian', 'JJ'), ('territories', 'NNS'), ('are', 'VBP'), ('now', 'RB'), ('showing', 'VBG'), ('the', 'DT'), ('power', 'NN'), ('of', 'IN'), ('freedom', 'NN'), ('to', 'TO'), ('break', 'VB'), ('old', 'JJ'), ('patterns', 'NNS'), ('of', 'IN'), ('violence', 'NN'), ('and', 'CC'), ('failure', 'NN'), ('.', '.')]\n",
      "[('Tomorrow', 'NN'), ('morning', 'NN'), (',', ','), ('Secretary', 'NNP'), ('of', 'IN'), ('State', 'NNP'), ('Rice', 'NNP'), ('departs', 'NNS'), ('on', 'IN'), ('a', 'DT'), ('trip', 'NN'), ('that', 'WDT'), ('will', 'MD'), ('take', 'VB'), ('her', 'PRP$'), ('to', 'TO'), ('Israel', 'NNP'), ('and', 'CC'), ('the', 'DT'), ('West', 'NNP'), ('Bank', 'NNP'), ('for', 'IN'), ('meetings', 'NNS'), ('with', 'IN'), ('Prime', 'NNP'), ('Minister', 'NNP'), ('Sharon', 'NNP'), ('and', 'CC'), ('President', 'NNP'), ('Abbas', 'NNP'), ('.', '.')]\n",
      "[('She', 'PRP'), ('will', 'MD'), ('discuss', 'VB'), ('with', 'IN'), ('them', 'PRP'), ('how', 'WRB'), ('we', 'PRP'), ('and', 'CC'), ('our', 'PRP$'), ('friends', 'NNS'), ('can', 'MD'), ('help', 'VB'), ('the', 'DT'), ('Palestinian', 'JJ'), ('people', 'NNS'), ('end', 'VBP'), ('terror', 'NN'), ('and', 'CC'), ('build', 'VB'), ('the', 'DT'), ('institutions', 'NNS'), ('of', 'IN'), ('a', 'DT'), ('peaceful', 'JJ'), (',', ','), ('independent', 'JJ'), (',', ','), ('democratic', 'JJ'), ('state', 'NN'), ('.', '.')]\n",
      "[('To', 'TO'), ('promote', 'VB'), ('this', 'DT'), ('democracy', 'NN'), (',', ','), ('I', 'PRP'), ('will', 'MD'), ('ask', 'VB'), ('Congress', 'NNP'), ('for', 'IN'), ('$', '$'), ('350', 'CD'), ('million', 'CD'), ('to', 'TO'), ('support', 'VB'), ('Palestinian', 'JJ'), ('political', 'JJ'), (',', ','), ('economic', 'JJ'), (',', ','), ('and', 'CC'), ('security', 'NN'), ('reforms', 'NNS'), ('.', '.')]\n",
      "[('The', 'DT'), ('goal', 'NN'), ('of', 'IN'), ('two', 'CD'), ('democratic', 'JJ'), ('states', 'NNS'), (',', ','), ('Israel', 'NNP'), ('and', 'CC'), ('Palestine', 'NNP'), (',', ','), ('living', 'VBG'), ('side', 'NN'), ('by', 'IN'), ('side', 'NN'), ('in', 'IN'), ('peace', 'NN'), (',', ','), ('is', 'VBZ'), ('within', 'IN'), ('reach', 'NN'), ('--', ':'), ('and', 'CC'), ('America', 'NNP'), ('will', 'MD'), ('help', 'VB'), ('them', 'PRP'), ('achieve', 'VB'), ('that', 'DT'), ('goal', 'NN'), ('.', '.')]\n",
      "[('(', '('), ('Applause', 'NNP'), ('.', '.'), (')', ')')]\n",
      "[('To', 'TO'), ('promote', 'VB'), ('peace', 'NN'), ('and', 'CC'), ('stability', 'NN'), ('in', 'IN'), ('the', 'DT'), ('broader', 'JJR'), ('Middle', 'NNP'), ('East', 'NNP'), (',', ','), ('the', 'DT'), ('United', 'NNP'), ('States', 'NNPS'), ('will', 'MD'), ('work', 'VB'), ('with', 'IN'), ('our', 'PRP$'), ('friends', 'NNS'), ('in', 'IN'), ('the', 'DT'), ('region', 'NN'), ('to', 'TO'), ('fight', 'VB'), ('the', 'DT'), ('common', 'JJ'), ('threat', 'NN'), ('of', 'IN'), ('terror', 'NN'), (',', ','), ('while', 'IN'), ('we', 'PRP'), ('encourage', 'VBP'), ('a', 'DT'), ('higher', 'JJR'), ('standard', 'NN'), ('of', 'IN'), ('freedom', 'NN'), ('.', '.')]\n",
      "[('Hopeful', 'JJ'), ('reform', 'NN'), ('is', 'VBZ'), ('already', 'RB'), ('taking', 'VBG'), ('hold', 'NN'), ('in', 'IN'), ('an', 'DT'), ('arc', 'NN'), ('from', 'IN'), ('Morocco', 'NNP'), ('to', 'TO'), ('Jordan', 'NNP'), ('to', 'TO'), ('Bahrain', 'NNP'), ('.', '.')]\n",
      "[('The', 'DT'), ('government', 'NN'), ('of', 'IN'), ('Saudi', 'NNP'), ('Arabia', 'NNP'), ('can', 'MD'), ('demonstrate', 'VB'), ('its', 'PRP$'), ('leadership', 'NN'), ('in', 'IN'), ('the', 'DT'), ('region', 'NN'), ('by', 'IN'), ('expanding', 'VBG'), ('the', 'DT'), ('role', 'NN'), ('of', 'IN'), ('its', 'PRP$'), ('people', 'NNS'), ('in', 'IN'), ('determining', 'VBG'), ('their', 'PRP$'), ('future', 'NN'), ('.', '.')]\n",
      "[('And', 'CC'), ('the', 'DT'), ('great', 'JJ'), ('and', 'CC'), ('proud', 'JJ'), ('nation', 'NN'), ('of', 'IN'), ('Egypt', 'NNP'), (',', ','), ('which', 'WDT'), ('showed', 'VBD'), ('the', 'DT'), ('way', 'NN'), ('toward', 'IN'), ('peace', 'NN'), ('in', 'IN'), ('the', 'DT'), ('Middle', 'NNP'), ('East', 'NNP'), (',', ','), ('can', 'MD'), ('now', 'RB'), ('show', 'VB'), ('the', 'DT'), ('way', 'NN'), ('toward', 'IN'), ('democracy', 'NN'), ('in', 'IN'), ('the', 'DT'), ('Middle', 'NNP'), ('East', 'NNP'), ('.', '.')]\n",
      "[('(', '('), ('Applause', 'NNP'), ('.', '.'), (')', ')')]\n",
      "[('To', 'TO'), ('promote', 'VB'), ('peace', 'NN'), ('in', 'IN'), ('the', 'DT'), ('broader', 'JJR'), ('Middle', 'NNP'), ('East', 'NNP'), (',', ','), ('we', 'PRP'), ('must', 'MD'), ('confront', 'VB'), ('regimes', 'NNS'), ('that', 'WDT'), ('continue', 'VBP'), ('to', 'TO'), ('harbor', 'VB'), ('terrorists', 'NNS'), ('and', 'CC'), ('pursue', 'NN'), ('weapons', 'NNS'), ('of', 'IN'), ('mass', 'NN'), ('murder', 'NN'), ('.', '.')]\n",
      "[('Syria', 'NNP'), ('still', 'RB'), ('allows', 'VBZ'), ('its', 'PRP$'), ('territory', 'NN'), (',', ','), ('and', 'CC'), ('parts', 'NNS'), ('of', 'IN'), ('Lebanon', 'NNP'), (',', ','), ('to', 'TO'), ('be', 'VB'), ('used', 'VBN'), ('by', 'IN'), ('terrorists', 'NNS'), ('who', 'WP'), ('seek', 'VBP'), ('to', 'TO'), ('destroy', 'VB'), ('every', 'DT'), ('chance', 'NN'), ('of', 'IN'), ('peace', 'NN'), ('in', 'IN'), ('the', 'DT'), ('region', 'NN'), ('.', '.')]\n",
      "[('You', 'PRP'), ('have', 'VBP'), ('passed', 'VBN'), (',', ','), ('and', 'CC'), ('we', 'PRP'), ('are', 'VBP'), ('applying', 'VBG'), (',', ','), ('the', 'DT'), ('Syrian', 'JJ'), ('Accountability', 'NNP'), ('Act', 'NNP'), ('--', ':'), ('and', 'CC'), ('we', 'PRP'), ('expect', 'VBP'), ('the', 'DT'), ('Syrian', 'JJ'), ('government', 'NN'), ('to', 'TO'), ('end', 'VB'), ('all', 'DT'), ('support', 'NN'), ('for', 'IN'), ('terror', 'NN'), ('and', 'CC'), ('open', 'VB'), ('the', 'DT'), ('door', 'NN'), ('to', 'TO'), ('freedom', 'NN'), ('.', '.')]\n",
      "[('(', '('), ('Applause', 'NNP'), ('.', '.'), (')', ')')]\n",
      "[('Today', 'NN'), (',', ','), ('Iran', 'NNP'), ('remains', 'VBZ'), ('the', 'DT'), ('world', 'NN'), (\"'s\", 'POS'), ('primary', 'JJ'), ('state', 'NN'), ('sponsor', 'NN'), ('of', 'IN'), ('terror', 'NN'), ('--', ':'), ('pursuing', 'VBG'), ('nuclear', 'JJ'), ('weapons', 'NNS'), ('while', 'IN'), ('depriving', 'VBG'), ('its', 'PRP$'), ('people', 'NNS'), ('of', 'IN'), ('the', 'DT'), ('freedom', 'NN'), ('they', 'PRP'), ('seek', 'VBP'), ('and', 'CC'), ('deserve', 'VBP'), ('.', '.')]\n",
      "[('We', 'PRP'), ('are', 'VBP'), ('working', 'VBG'), ('with', 'IN'), ('European', 'JJ'), ('allies', 'NNS'), ('to', 'TO'), ('make', 'VB'), ('clear', 'JJ'), ('to', 'TO'), ('the', 'DT'), ('Iranian', 'JJ'), ('regime', 'NN'), ('that', 'IN'), ('it', 'PRP'), ('must', 'MD'), ('give', 'VB'), ('up', 'RP'), ('its', 'PRP$'), ('uranium', 'JJ'), ('enrichment', 'JJ'), ('program', 'NN'), ('and', 'CC'), ('any', 'DT'), ('plutonium', 'NN'), ('reprocessing', 'NN'), (',', ','), ('and', 'CC'), ('end', 'VB'), ('its', 'PRP$'), ('support', 'NN'), ('for', 'IN'), ('terror', 'NN'), ('.', '.')]\n",
      "[('And', 'CC'), ('to', 'TO'), ('the', 'DT'), ('Iranian', 'JJ'), ('people', 'NNS'), (',', ','), ('I', 'PRP'), ('say', 'VBP'), ('tonight', 'JJ'), (':', ':'), ('As', 'IN'), ('you', 'PRP'), ('stand', 'VBP'), ('for', 'IN'), ('your', 'PRP$'), ('own', 'JJ'), ('liberty', 'NN'), (',', ','), ('America', 'NNP'), ('stands', 'VBZ'), ('with', 'IN'), ('you', 'PRP'), ('.', '.')]\n",
      "[('(', '('), ('Applause', 'NNP'), ('.', '.'), (')', ')')]\n",
      "[('Our', 'PRP$'), ('generational', 'JJ'), ('commitment', 'NN'), ('to', 'TO'), ('the', 'DT'), ('advance', 'NN'), ('of', 'IN'), ('freedom', 'NN'), (',', ','), ('especially', 'RB'), ('in', 'IN'), ('the', 'DT'), ('Middle', 'NNP'), ('East', 'NNP'), (',', ','), ('is', 'VBZ'), ('now', 'RB'), ('being', 'VBG'), ('tested', 'VBN'), ('and', 'CC'), ('honored', 'VBN'), ('in', 'IN'), ('Iraq', 'NNP'), ('.', '.')]\n",
      "[('That', 'DT'), ('country', 'NN'), ('is', 'VBZ'), ('a', 'DT'), ('vital', 'JJ'), ('front', 'NN'), ('in', 'IN'), ('the', 'DT'), ('war', 'NN'), ('on', 'IN'), ('terror', 'NN'), (',', ','), ('which', 'WDT'), ('is', 'VBZ'), ('why', 'WRB'), ('the', 'DT'), ('terrorists', 'NNS'), ('have', 'VBP'), ('chosen', 'VBN'), ('to', 'TO'), ('make', 'VB'), ('a', 'DT'), ('stand', 'NN'), ('there', 'RB'), ('.', '.')]\n",
      "[('Our', 'PRP$'), ('men', 'NNS'), ('and', 'CC'), ('women', 'NNS'), ('in', 'IN'), ('uniform', 'NN'), ('are', 'VBP'), ('fighting', 'VBG'), ('terrorists', 'NNS'), ('in', 'IN'), ('Iraq', 'NNP'), (',', ','), ('so', 'IN'), ('we', 'PRP'), ('do', 'VBP'), ('not', 'RB'), ('have', 'VB'), ('to', 'TO'), ('face', 'VB'), ('them', 'PRP'), ('here', 'RB'), ('at', 'IN'), ('home', 'NN'), ('.', '.')]\n",
      "[('(', '('), ('Applause', 'NNP'), ('.', '.'), (')', ')')]\n",
      "[('And', 'CC'), ('the', 'DT'), ('victory', 'NN'), ('of', 'IN'), ('freedom', 'NN'), ('in', 'IN'), ('Iraq', 'NNP'), ('will', 'MD'), ('strengthen', 'VB'), ('a', 'DT'), ('new', 'JJ'), ('ally', 'NN'), ('in', 'IN'), ('the', 'DT'), ('war', 'NN'), ('on', 'IN'), ('terror', 'NN'), (',', ','), ('inspire', 'VBP'), ('democratic', 'JJ'), ('reformers', 'NNS'), ('from', 'IN'), ('Damascus', 'NNP'), ('to', 'TO'), ('Tehran', 'NNP'), (',', ','), ('bring', 'VBG'), ('more', 'JJR'), ('hope', 'NN'), ('and', 'CC'), ('progress', 'NN'), ('to', 'TO'), ('a', 'DT'), ('troubled', 'JJ'), ('region', 'NN'), (',', ','), ('and', 'CC'), ('thereby', 'RB'), ('lift', 'VB'), ('a', 'DT'), ('terrible', 'JJ'), ('threat', 'NN'), ('from', 'IN'), ('the', 'DT'), ('lives', 'NNS'), ('of', 'IN'), ('our', 'PRP$'), ('children', 'NNS'), ('and', 'CC'), ('grandchildren', 'NNS'), ('.', '.')]\n",
      "[('We', 'PRP'), ('will', 'MD'), ('succeed', 'VB'), ('because', 'IN'), ('the', 'DT'), ('Iraqi', 'NNP'), ('people', 'NNS'), ('value', 'NN'), ('their', 'PRP$'), ('own', 'JJ'), ('liberty', 'NN'), ('--', ':'), ('as', 'IN'), ('they', 'PRP'), ('showed', 'VBD'), ('the', 'DT'), ('world', 'NN'), ('last', 'JJ'), ('Sunday', 'NNP'), ('.', '.')]\n",
      "[('(', '('), ('Applause', 'NNP'), ('.', '.'), (')', ')')]\n",
      "[('Across', 'IN'), ('Iraq', 'NNP'), (',', ','), ('often', 'RB'), ('at', 'IN'), ('great', 'JJ'), ('risk', 'NN'), (',', ','), ('millions', 'NNS'), ('of', 'IN'), ('citizens', 'NNS'), ('went', 'VBD'), ('to', 'TO'), ('the', 'DT'), ('polls', 'NNS'), ('and', 'CC'), ('elected', 'VBD'), ('275', 'CD'), ('men', 'NNS'), ('and', 'CC'), ('women', 'NNS'), ('to', 'TO'), ('represent', 'VB'), ('them', 'PRP'), ('in', 'IN'), ('a', 'DT'), ('new', 'JJ'), ('Transitional', 'NNP'), ('National', 'NNP'), ('Assembly', 'NNP'), ('.', '.')]\n",
      "[('A', 'DT'), ('young', 'JJ'), ('woman', 'NN'), ('in', 'IN'), ('Baghdad', 'NNP'), ('told', 'VBD'), ('of', 'IN'), ('waking', 'VBG'), ('to', 'TO'), ('the', 'DT'), ('sound', 'NN'), ('of', 'IN'), ('mortar', 'NN'), ('fire', 'NN'), ('on', 'IN'), ('election', 'NN'), ('day', 'NN'), (',', ','), ('and', 'CC'), ('wondering', 'VBG'), ('if', 'IN'), ('it', 'PRP'), ('might', 'MD'), ('be', 'VB'), ('too', 'RB'), ('dangerous', 'JJ'), ('to', 'TO'), ('vote', 'VB'), ('.', '.')]\n",
      "[('She', 'PRP'), ('said', 'VBD'), (',', ','), ('``', '``'), ('Hearing', 'VBG'), ('those', 'DT'), ('explosions', 'NNS'), (',', ','), ('it', 'PRP'), ('occurred', 'VBD'), ('to', 'TO'), ('me', 'PRP'), ('--', ':'), ('the', 'DT'), ('insurgents', 'NNS'), ('are', 'VBP'), ('weak', 'JJ'), (',', ','), ('they', 'PRP'), ('are', 'VBP'), ('afraid', 'JJ'), ('of', 'IN'), ('democracy', 'NN'), (',', ','), ('they', 'PRP'), ('are', 'VBP'), ('losing', 'VBG'), ('.', '.')]\n",
      "[('So', 'RB'), ('I', 'PRP'), ('got', 'VBD'), ('my', 'PRP$'), ('husband', 'NN'), (',', ','), ('and', 'CC'), ('I', 'PRP'), ('got', 'VBD'), ('my', 'PRP$'), ('parents', 'NNS'), (',', ','), ('and', 'CC'), ('we', 'PRP'), ('all', 'DT'), ('came', 'VBD'), ('out', 'RP'), ('and', 'CC'), ('voted', 'VBD'), ('together', 'RB'), ('.', '.'), (\"''\", \"''\")]\n",
      "[('Americans', 'NNPS'), ('recognize', 'VBP'), ('that', 'IN'), ('spirit', 'NN'), ('of', 'IN'), ('liberty', 'NN'), (',', ','), ('because', 'IN'), ('we', 'PRP'), ('share', 'NN'), ('it', 'PRP'), ('.', '.')]\n",
      "[('In', 'IN'), ('any', 'DT'), ('nation', 'NN'), (',', ','), ('casting', 'VBG'), ('your', 'PRP$'), ('vote', 'NN'), ('is', 'VBZ'), ('an', 'DT'), ('act', 'NN'), ('of', 'IN'), ('civic', 'JJ'), ('responsibility', 'NN'), (';', ':'), ('for', 'IN'), ('millions', 'NNS'), ('of', 'IN'), ('Iraqis', 'NNP'), (',', ','), ('it', 'PRP'), ('was', 'VBD'), ('also', 'RB'), ('an', 'DT'), ('act', 'NN'), ('of', 'IN'), ('personal', 'JJ'), ('courage', 'NN'), (',', ','), ('and', 'CC'), ('they', 'PRP'), ('have', 'VBP'), ('earned', 'VBN'), ('the', 'DT'), ('respect', 'NN'), ('of', 'IN'), ('us', 'PRP'), ('all', 'DT'), ('.', '.')]\n",
      "[('(', '('), ('Applause', 'NNP'), ('.', '.'), (')', ')')]\n",
      "[('One', 'CD'), ('of', 'IN'), ('Iraq', 'NNP'), (\"'s\", 'POS'), ('leading', 'JJ'), ('democracy', 'NN'), ('and', 'CC'), ('human', 'JJ'), ('rights', 'NNS'), ('advocates', 'NNS'), ('is', 'VBZ'), ('Safia', 'NNP'), ('Taleb', 'NNP'), ('al-Suhail', 'NN'), ('.', '.')]\n",
      "[('She', 'PRP'), ('says', 'VBZ'), ('of', 'IN'), ('her', 'PRP$'), ('country', 'NN'), (',', ','), ('``', '``'), ('We', 'PRP'), ('were', 'VBD'), ('occupied', 'VBN'), ('for', 'IN'), ('35', 'CD'), ('years', 'NNS'), ('by', 'IN'), ('Saddam', 'NNP'), ('Hussein', 'NNP'), ('.', '.')]\n",
      "[('That', 'DT'), ('was', 'VBD'), ('the', 'DT'), ('real', 'JJ'), ('occupation', 'NN'), ('.', '.')]\n",
      "[('Thank', 'NNP'), ('you', 'PRP'), ('to', 'TO'), ('the', 'DT'), ('American', 'JJ'), ('people', 'NNS'), ('who', 'WP'), ('paid', 'VBD'), ('the', 'DT'), ('cost', 'NN'), (',', ','), ('but', 'CC'), ('most', 'JJS'), ('of', 'IN'), ('all', 'DT'), (',', ','), ('to', 'TO'), ('the', 'DT'), ('soldiers', 'NNS'), ('.', '.'), (\"''\", \"''\")]\n",
      "[('Eleven', 'CD'), ('years', 'NNS'), ('ago', 'RB'), (',', ','), ('Safia', 'NNP'), (\"'s\", 'POS'), ('father', 'NN'), ('was', 'VBD'), ('assassinated', 'VBN'), ('by', 'IN'), ('Saddam', 'NNP'), (\"'s\", 'POS'), ('intelligence', 'NN'), ('service', 'NN'), ('.', '.')]\n",
      "[('Three', 'CD'), ('days', 'NNS'), ('ago', 'RB'), ('in', 'IN'), ('Baghdad', 'NNP'), (',', ','), ('Safia', 'NNP'), ('was', 'VBD'), ('finally', 'RB'), ('able', 'JJ'), ('to', 'TO'), ('vote', 'VB'), ('for', 'IN'), ('the', 'DT'), ('leaders', 'NNS'), ('of', 'IN'), ('her', 'PRP$'), ('country', 'NN'), ('--', ':'), ('and', 'CC'), ('we', 'PRP'), ('are', 'VBP'), ('honored', 'VBN'), ('that', 'IN'), ('she', 'PRP'), ('is', 'VBZ'), ('with', 'IN'), ('us', 'PRP'), ('tonight', 'NN'), ('.', '.')]\n",
      "[('(', '('), ('Applause', 'NNP'), ('.', '.'), (')', ')')]\n",
      "[('The', 'DT'), ('terrorists', 'NNS'), ('and', 'CC'), ('insurgents', 'NNS'), ('are', 'VBP'), ('violently', 'RB'), ('opposed', 'VBN'), ('to', 'TO'), ('democracy', 'NN'), (',', ','), ('and', 'CC'), ('will', 'MD'), ('continue', 'VB'), ('to', 'TO'), ('attack', 'VB'), ('it', 'PRP'), ('.', '.')]\n",
      "[('Yet', 'RB'), (',', ','), ('the', 'DT'), ('terrorists', 'NNS'), (\"'\", 'POS'), ('most', 'RBS'), ('powerful', 'JJ'), ('myth', 'NN'), ('is', 'VBZ'), ('being', 'VBG'), ('destroyed', 'VBN'), ('.', '.')]\n",
      "[('The', 'DT'), ('whole', 'JJ'), ('world', 'NN'), ('is', 'VBZ'), ('seeing', 'VBG'), ('that', 'IN'), ('the', 'DT'), ('car', 'NN'), ('bombers', 'NNS'), ('and', 'CC'), ('assassins', 'NNS'), ('are', 'VBP'), ('not', 'RB'), ('only', 'RB'), ('fighting', 'VBG'), ('coalition', 'NN'), ('forces', 'NNS'), (',', ','), ('they', 'PRP'), ('are', 'VBP'), ('trying', 'VBG'), ('to', 'TO'), ('destroy', 'VB'), ('the', 'DT'), ('hopes', 'NNS'), ('of', 'IN'), ('Iraqis', 'NNP'), (',', ','), ('expressed', 'VBD'), ('in', 'IN'), ('free', 'JJ'), ('elections', 'NNS'), ('.', '.')]\n",
      "[('And', 'CC'), ('the', 'DT'), ('whole', 'JJ'), ('world', 'NN'), ('now', 'RB'), ('knows', 'VBZ'), ('that', 'IN'), ('a', 'DT'), ('small', 'JJ'), ('group', 'NN'), ('of', 'IN'), ('extremists', 'NNS'), ('will', 'MD'), ('not', 'RB'), ('overturn', 'VB'), ('the', 'DT'), ('will', 'MD'), ('of', 'IN'), ('the', 'DT'), ('Iraqi', 'NNP'), ('people', 'NNS'), ('.', '.')]\n",
      "[('(', '('), ('Applause', 'NNP'), ('.', '.'), (')', ')')]\n",
      "[('We', 'PRP'), ('will', 'MD'), ('succeed', 'VB'), ('in', 'IN'), ('Iraq', 'NNP'), ('because', 'IN'), ('Iraqis', 'NNP'), ('are', 'VBP'), ('determined', 'VBN'), ('to', 'TO'), ('fight', 'VB'), ('for', 'IN'), ('their', 'PRP$'), ('own', 'JJ'), ('freedom', 'NN'), (',', ','), ('and', 'CC'), ('to', 'TO'), ('write', 'VB'), ('their', 'PRP$'), ('own', 'JJ'), ('history', 'NN'), ('.', '.')]\n",
      "[('As', 'IN'), ('Prime', 'NNP'), ('Minister', 'NNP'), ('Allawi', 'NNP'), ('said', 'VBD'), ('in', 'IN'), ('his', 'PRP$'), ('speech', 'NN'), ('to', 'TO'), ('Congress', 'NNP'), ('last', 'JJ'), ('September', 'NNP'), (',', ','), ('``', '``'), ('Ordinary', 'JJ'), ('Iraqis', 'NNP'), ('are', 'VBP'), ('anxious', 'JJ'), ('to', 'TO'), ('shoulder', 'VB'), ('all', 'PDT'), ('the', 'DT'), ('security', 'NN'), ('burdens', 'VBZ'), ('of', 'IN'), ('our', 'PRP$'), ('country', 'NN'), ('as', 'RB'), ('quickly', 'RB'), ('as', 'IN'), ('possible', 'JJ'), ('.', '.'), (\"''\", \"''\")]\n",
      "[('That', 'DT'), ('is', 'VBZ'), ('the', 'DT'), ('natural', 'JJ'), ('desire', 'NN'), ('of', 'IN'), ('an', 'DT'), ('independent', 'JJ'), ('nation', 'NN'), (',', ','), ('and', 'CC'), ('it', 'PRP'), ('is', 'VBZ'), ('also', 'RB'), ('the', 'DT'), ('stated', 'JJ'), ('mission', 'NN'), ('of', 'IN'), ('our', 'PRP$'), ('coalition', 'NN'), ('in', 'IN'), ('Iraq', 'NNP'), ('.', '.')]\n",
      "[('The', 'DT'), ('new', 'JJ'), ('political', 'JJ'), ('situation', 'NN'), ('in', 'IN'), ('Iraq', 'NNP'), ('opens', 'VBZ'), ('a', 'DT'), ('new', 'JJ'), ('phase', 'NN'), ('of', 'IN'), ('our', 'PRP$'), ('work', 'NN'), ('in', 'IN'), ('that', 'DT'), ('country', 'NN'), ('.', '.')]\n",
      "[('At', 'IN'), ('the', 'DT'), ('recommendation', 'NN'), ('of', 'IN'), ('our', 'PRP$'), ('commanders', 'NNS'), ('on', 'IN'), ('the', 'DT'), ('ground', 'NN'), (',', ','), ('and', 'CC'), ('in', 'IN'), ('consultation', 'NN'), ('with', 'IN'), ('the', 'DT'), ('Iraqi', 'NNP'), ('government', 'NN'), (',', ','), ('we', 'PRP'), ('will', 'MD'), ('increasingly', 'RB'), ('focus', 'VB'), ('our', 'PRP$'), ('efforts', 'NNS'), ('on', 'IN'), ('helping', 'VBG'), ('prepare', 'VB'), ('more', 'RBR'), ('capable', 'JJ'), ('Iraqi', 'NNP'), ('security', 'NN'), ('forces', 'NNS'), ('--', ':'), ('forces', 'NNS'), ('with', 'IN'), ('skilled', 'JJ'), ('officers', 'NNS'), ('and', 'CC'), ('an', 'DT'), ('effective', 'JJ'), ('command', 'NN'), ('structure', 'NN'), ('.', '.')]\n",
      "[('As', 'IN'), ('those', 'DT'), ('forces', 'NNS'), ('become', 'VBP'), ('more', 'JJR'), ('self-reliant', 'JJ'), ('and', 'CC'), ('take', 'VB'), ('on', 'IN'), ('greater', 'JJR'), ('security', 'NN'), ('responsibilities', 'NNS'), (',', ','), ('America', 'NNP'), ('and', 'CC'), ('its', 'PRP$'), ('coalition', 'NN'), ('partners', 'NNS'), ('will', 'MD'), ('increasingly', 'RB'), ('be', 'VB'), ('in', 'IN'), ('a', 'DT'), ('supporting', 'JJ'), ('role', 'NN'), ('.', '.')]\n",
      "[('In', 'IN'), ('the', 'DT'), ('end', 'NN'), (',', ','), ('Iraqis', 'NNP'), ('must', 'MD'), ('be', 'VB'), ('able', 'JJ'), ('to', 'TO'), ('defend', 'VB'), ('their', 'PRP$'), ('own', 'JJ'), ('country', 'NN'), ('--', ':'), ('and', 'CC'), ('we', 'PRP'), ('will', 'MD'), ('help', 'VB'), ('that', 'DT'), ('proud', 'NN'), (',', ','), ('new', 'JJ'), ('nation', 'NN'), ('secure', 'NN'), ('its', 'PRP$'), ('liberty', 'NN'), ('.', '.')]\n",
      "[('Recently', 'RB'), ('an', 'DT'), ('Iraqi', 'NNP'), ('interpreter', 'NN'), ('said', 'VBD'), ('to', 'TO'), ('a', 'DT'), ('reporter', 'NN'), (',', ','), ('``', '``'), ('Tell', 'NNP'), ('America', 'NNP'), ('not', 'RB'), ('to', 'TO'), ('abandon', 'VB'), ('us', 'PRP'), ('.', '.'), (\"''\", \"''\")]\n",
      "[('He', 'PRP'), ('and', 'CC'), ('all', 'DT'), ('Iraqis', 'NNP'), ('can', 'MD'), ('be', 'VB'), ('certain', 'JJ'), (':', ':'), ('While', 'IN'), ('our', 'PRP$'), ('military', 'JJ'), ('strategy', 'NN'), ('is', 'VBZ'), ('adapting', 'VBG'), ('to', 'TO'), ('circumstances', 'NNS'), (',', ','), ('our', 'PRP$'), ('commitment', 'NN'), ('remains', 'VBZ'), ('firm', 'JJ'), ('and', 'CC'), ('unchanging', 'JJ'), ('.', '.')]\n",
      "[('We', 'PRP'), ('are', 'VBP'), ('standing', 'VBG'), ('for', 'IN'), ('the', 'DT'), ('freedom', 'NN'), ('of', 'IN'), ('our', 'PRP$'), ('Iraqi', 'NNP'), ('friends', 'NNS'), (',', ','), ('and', 'CC'), ('freedom', 'NN'), ('in', 'IN'), ('Iraq', 'NNP'), ('will', 'MD'), ('make', 'VB'), ('America', 'NNP'), ('safer', 'NN'), ('for', 'IN'), ('generations', 'NNS'), ('to', 'TO'), ('come', 'VB'), ('.', '.')]\n",
      "[('(', '('), ('Applause', 'NNP'), ('.', '.'), (')', ')')]\n",
      "[('We', 'PRP'), ('will', 'MD'), ('not', 'RB'), ('set', 'VB'), ('an', 'DT'), ('artificial', 'JJ'), ('timetable', 'NN'), ('for', 'IN'), ('leaving', 'VBG'), ('Iraq', 'NNP'), (',', ','), ('because', 'IN'), ('that', 'DT'), ('would', 'MD'), ('embolden', 'VB'), ('the', 'DT'), ('terrorists', 'NNS'), ('and', 'CC'), ('make', 'VB'), ('them', 'PRP'), ('believe', 'VB'), ('they', 'PRP'), ('can', 'MD'), ('wait', 'VB'), ('us', 'PRP'), ('out', 'RP'), ('.', '.')]\n",
      "[('We', 'PRP'), ('are', 'VBP'), ('in', 'IN'), ('Iraq', 'NNP'), ('to', 'TO'), ('achieve', 'VB'), ('a', 'DT'), ('result', 'NN'), (':', ':'), ('A', 'DT'), ('country', 'NN'), ('that', 'WDT'), ('is', 'VBZ'), ('democratic', 'JJ'), (',', ','), ('representative', 'NN'), ('of', 'IN'), ('all', 'PDT'), ('its', 'PRP$'), ('people', 'NNS'), (',', ','), ('at', 'IN'), ('peace', 'NN'), ('with', 'IN'), ('its', 'PRP$'), ('neighbors', 'NNS'), (',', ','), ('and', 'CC'), ('able', 'JJ'), ('to', 'TO'), ('defend', 'VB'), ('itself', 'PRP'), ('.', '.')]\n",
      "[('And', 'CC'), ('when', 'WRB'), ('that', 'DT'), ('result', 'NN'), ('is', 'VBZ'), ('achieved', 'VBN'), (',', ','), ('our', 'PRP$'), ('men', 'NNS'), ('and', 'CC'), ('women', 'NNS'), ('serving', 'VBG'), ('in', 'IN'), ('Iraq', 'NNP'), ('will', 'MD'), ('return', 'VB'), ('home', 'NN'), ('with', 'IN'), ('the', 'DT'), ('honor', 'NN'), ('they', 'PRP'), ('have', 'VBP'), ('earned', 'VBN'), ('.', '.')]\n",
      "[('(', '('), ('Applause', 'NNP'), ('.', '.'), (')', ')')]\n",
      "[('Right', 'RB'), ('now', 'RB'), (',', ','), ('Americans', 'NNPS'), ('in', 'IN'), ('uniform', 'NN'), ('are', 'VBP'), ('serving', 'VBG'), ('at', 'IN'), ('posts', 'NNS'), ('across', 'IN'), ('the', 'DT'), ('world', 'NN'), (',', ','), ('often', 'RB'), ('taking', 'VBG'), ('great', 'JJ'), ('risks', 'NNS'), ('on', 'IN'), ('my', 'PRP$'), ('orders', 'NNS'), ('.', '.')]\n"
     ]
    },
    {
     "name": "stdout",
     "output_type": "stream",
     "text": [
      "[('We', 'PRP'), ('have', 'VBP'), ('given', 'VBN'), ('them', 'PRP'), ('training', 'VBG'), ('and', 'CC'), ('equipment', 'NN'), (';', ':'), ('and', 'CC'), ('they', 'PRP'), ('have', 'VBP'), ('given', 'VBN'), ('us', 'PRP'), ('an', 'DT'), ('example', 'NN'), ('of', 'IN'), ('idealism', 'NN'), ('and', 'CC'), ('character', 'NN'), ('that', 'WDT'), ('makes', 'VBZ'), ('every', 'DT'), ('American', 'JJ'), ('proud', 'NN'), ('.', '.')]\n",
      "[('(', '('), ('Applause', 'NNP'), ('.', '.'), (')', ')')]\n",
      "[('The', 'DT'), ('volunteers', 'NNS'), ('of', 'IN'), ('our', 'PRP$'), ('military', 'JJ'), ('are', 'VBP'), ('unrelenting', 'VBG'), ('in', 'IN'), ('battle', 'NN'), (',', ','), ('unwavering', 'VBG'), ('in', 'IN'), ('loyalty', 'NN'), (',', ','), ('unmatched', 'VBN'), ('in', 'IN'), ('honor', 'NN'), ('and', 'CC'), ('decency', 'NN'), (',', ','), ('and', 'CC'), ('every', 'DT'), ('day', 'NN'), ('they', 'PRP'), (\"'re\", 'VBP'), ('making', 'VBG'), ('our', 'PRP$'), ('nation', 'NN'), ('more', 'RBR'), ('secure', 'NN'), ('.', '.')]\n",
      "[('Some', 'DT'), ('of', 'IN'), ('our', 'PRP$'), ('servicemen', 'NNS'), ('and', 'CC'), ('women', 'NNS'), ('have', 'VBP'), ('survived', 'VBN'), ('terrible', 'JJ'), ('injuries', 'NNS'), (',', ','), ('and', 'CC'), ('this', 'DT'), ('grateful', 'JJ'), ('country', 'NN'), ('will', 'MD'), ('do', 'VB'), ('everything', 'NN'), ('we', 'PRP'), ('can', 'MD'), ('to', 'TO'), ('help', 'VB'), ('them', 'PRP'), ('recover', 'VB'), ('.', '.')]\n",
      "[('(', '('), ('Applause', 'NNP'), ('.', '.'), (')', ')')]\n",
      "[('And', 'CC'), ('we', 'PRP'), ('have', 'VBP'), ('said', 'VBD'), ('farewell', 'NN'), ('to', 'TO'), ('some', 'DT'), ('very', 'RB'), ('good', 'JJ'), ('men', 'NNS'), ('and', 'CC'), ('women', 'NNS'), (',', ','), ('who', 'WP'), ('died', 'VBD'), ('for', 'IN'), ('our', 'PRP$'), ('freedom', 'NN'), (',', ','), ('and', 'CC'), ('whose', 'WP$'), ('memory', 'NN'), ('this', 'DT'), ('nation', 'NN'), ('will', 'MD'), ('honor', 'VB'), ('forever', 'RB'), ('.', '.')]\n",
      "[('One', 'CD'), ('name', 'NN'), ('we', 'PRP'), ('honor', 'VBP'), ('is', 'VBZ'), ('Marine', 'NNP'), ('Corps', 'NNP'), ('Sergeant', 'NNP'), ('Byron', 'NNP'), ('Norwood', 'NNP'), ('of', 'IN'), ('Pflugerville', 'NNP'), (',', ','), ('Texas', 'NNP'), (',', ','), ('who', 'WP'), ('was', 'VBD'), ('killed', 'VBN'), ('during', 'IN'), ('the', 'DT'), ('assault', 'NN'), ('on', 'IN'), ('Fallujah', 'NNP'), ('.', '.')]\n",
      "[('His', 'PRP$'), ('mom', 'NN'), (',', ','), ('Janet', 'NNP'), (',', ','), ('sent', 'VBD'), ('me', 'PRP'), ('a', 'DT'), ('letter', 'NN'), ('and', 'CC'), ('told', 'VBD'), ('me', 'PRP'), ('how', 'WRB'), ('much', 'JJ'), ('Byron', 'NNP'), ('loved', 'VBD'), ('being', 'VBG'), ('a', 'DT'), ('Marine', 'NNP'), (',', ','), ('and', 'CC'), ('how', 'WRB'), ('proud', 'JJ'), ('he', 'PRP'), ('was', 'VBD'), ('to', 'TO'), ('be', 'VB'), ('on', 'IN'), ('the', 'DT'), ('front', 'JJ'), ('line', 'NN'), ('against', 'IN'), ('terror', 'NN'), ('.', '.')]\n",
      "[('She', 'PRP'), ('wrote', 'VBD'), (',', ','), ('``', '``'), ('When', 'WRB'), ('Byron', 'NNP'), ('was', 'VBD'), ('home', 'VBN'), ('the', 'DT'), ('last', 'JJ'), ('time', 'NN'), (',', ','), ('I', 'PRP'), ('said', 'VBD'), ('that', 'IN'), ('I', 'PRP'), ('wanted', 'VBD'), ('to', 'TO'), ('protect', 'VB'), ('him', 'PRP'), ('like', 'IN'), ('I', 'PRP'), ('had', 'VBD'), ('since', 'IN'), ('he', 'PRP'), ('was', 'VBD'), ('born', 'VBN'), ('.', '.')]\n",
      "[('He', 'PRP'), ('just', 'RB'), ('hugged', 'VBD'), ('me', 'PRP'), ('and', 'CC'), ('said', 'VBD'), (',', ','), (\"'You\", \"''\"), (\"'ve\", 'VBP'), ('done', 'VBN'), ('your', 'PRP$'), ('job', 'NN'), (',', ','), ('Mom', 'NNP'), ('.', '.')]\n",
      "[('Now', 'RB'), ('it', 'PRP'), ('is', 'VBZ'), ('my', 'PRP$'), ('turn', 'NN'), ('to', 'TO'), ('protect', 'VB'), ('you', 'PRP'), ('.', '.'), (\"'\", \"''\"), (\"''\", \"''\")]\n",
      "[('Ladies', 'NNS'), ('and', 'CC'), ('gentlemen', 'NNS'), (',', ','), ('with', 'IN'), ('grateful', 'JJ'), ('hearts', 'NNS'), (',', ','), ('we', 'PRP'), ('honor', 'VBP'), ('freedom', 'NN'), (\"'s\", 'POS'), ('defenders', 'NNS'), (',', ','), ('and', 'CC'), ('our', 'PRP$'), ('military', 'JJ'), ('families', 'NNS'), (',', ','), ('represented', 'VBN'), ('here', 'RB'), ('this', 'DT'), ('evening', 'NN'), ('by', 'IN'), ('Sergeant', 'NNP'), ('Norwood', 'NNP'), (\"'s\", 'POS'), ('mom', 'NN'), ('and', 'CC'), ('dad', 'NN'), (',', ','), ('Janet', 'NNP'), ('and', 'CC'), ('Bill', 'NNP'), ('Norwood', 'NNP'), ('.', '.')]\n",
      "[('(', '('), ('Applause', 'NNP'), ('.', '.'), (')', ')')]\n",
      "[('In', 'IN'), ('these', 'DT'), ('four', 'CD'), ('years', 'NNS'), (',', ','), ('Americans', 'NNPS'), ('have', 'VBP'), ('seen', 'VBN'), ('the', 'DT'), ('unfolding', 'NN'), ('of', 'IN'), ('large', 'JJ'), ('events', 'NNS'), ('.', '.')]\n",
      "[('We', 'PRP'), ('have', 'VBP'), ('known', 'VBN'), ('times', 'NNS'), ('of', 'IN'), ('sorrow', 'NN'), (',', ','), ('and', 'CC'), ('hours', 'NNS'), ('of', 'IN'), ('uncertainty', 'NN'), (',', ','), ('and', 'CC'), ('days', 'NNS'), ('of', 'IN'), ('victory', 'NN'), ('.', '.')]\n",
      "[('In', 'IN'), ('all', 'PDT'), ('this', 'DT'), ('history', 'NN'), (',', ','), ('even', 'RB'), ('when', 'WRB'), ('we', 'PRP'), ('have', 'VBP'), ('disagreed', 'VBN'), (',', ','), ('we', 'PRP'), ('have', 'VBP'), ('seen', 'VBN'), ('threads', 'NNS'), ('of', 'IN'), ('purpose', 'NN'), ('that', 'IN'), ('unite', 'JJ'), ('us', 'PRP'), ('.', '.')]\n",
      "[('The', 'DT'), ('attack', 'NN'), ('on', 'IN'), ('freedom', 'NN'), ('in', 'IN'), ('our', 'PRP$'), ('world', 'NN'), ('has', 'VBZ'), ('reaffirmed', 'VBN'), ('our', 'PRP$'), ('confidence', 'NN'), ('in', 'IN'), ('freedom', 'NN'), (\"'s\", 'POS'), ('power', 'NN'), ('to', 'TO'), ('change', 'VB'), ('the', 'DT'), ('world', 'NN'), ('.', '.')]\n",
      "[('We', 'PRP'), ('are', 'VBP'), ('all', 'DT'), ('part', 'NN'), ('of', 'IN'), ('a', 'DT'), ('great', 'JJ'), ('venture', 'NN'), (':', ':'), ('To', 'TO'), ('extend', 'VB'), ('the', 'DT'), ('promise', 'NN'), ('of', 'IN'), ('freedom', 'NN'), ('in', 'IN'), ('our', 'PRP$'), ('country', 'NN'), (',', ','), ('to', 'TO'), ('renew', 'VB'), ('the', 'DT'), ('values', 'NNS'), ('that', 'WDT'), ('sustain', 'VBP'), ('our', 'PRP$'), ('liberty', 'NN'), (',', ','), ('and', 'CC'), ('to', 'TO'), ('spread', 'VB'), ('the', 'DT'), ('peace', 'NN'), ('that', 'WDT'), ('freedom', 'NN'), ('brings', 'NNS'), ('.', '.')]\n",
      "[('As', 'IN'), ('Franklin', 'NNP'), ('Roosevelt', 'NNP'), ('once', 'RB'), ('reminded', 'VBD'), ('Americans', 'NNPS'), (',', ','), ('``', '``'), ('Each', 'DT'), ('age', 'NN'), ('is', 'VBZ'), ('a', 'DT'), ('dream', 'NN'), ('that', 'WDT'), ('is', 'VBZ'), ('dying', 'VBG'), (',', ','), ('or', 'CC'), ('one', 'CD'), ('that', 'WDT'), ('is', 'VBZ'), ('coming', 'VBG'), ('to', 'TO'), ('birth', 'NN'), ('.', '.'), (\"''\", \"''\")]\n",
      "[('And', 'CC'), ('we', 'PRP'), ('live', 'VBP'), ('in', 'IN'), ('the', 'DT'), ('country', 'NN'), ('where', 'WRB'), ('the', 'DT'), ('biggest', 'JJS'), ('dreams', 'NNS'), ('are', 'VBP'), ('born', 'VBN'), ('.', '.')]\n",
      "[('The', 'DT'), ('abolition', 'NN'), ('of', 'IN'), ('slavery', 'NN'), ('was', 'VBD'), ('only', 'RB'), ('a', 'DT'), ('dream', 'NN'), ('--', ':'), ('until', 'IN'), ('it', 'PRP'), ('was', 'VBD'), ('fulfilled', 'VBN'), ('.', '.')]\n",
      "[('The', 'DT'), ('liberation', 'NN'), ('of', 'IN'), ('Europe', 'NNP'), ('from', 'IN'), ('fascism', 'NN'), ('was', 'VBD'), ('only', 'RB'), ('a', 'DT'), ('dream', 'NN'), ('--', ':'), ('until', 'IN'), ('it', 'PRP'), ('was', 'VBD'), ('achieved', 'VBN'), ('.', '.')]\n",
      "[('The', 'DT'), ('fall', 'NN'), ('of', 'IN'), ('imperial', 'JJ'), ('communism', 'NN'), ('was', 'VBD'), ('only', 'RB'), ('a', 'DT'), ('dream', 'NN'), ('--', ':'), ('until', 'IN'), (',', ','), ('one', 'CD'), ('day', 'NN'), (',', ','), ('it', 'PRP'), ('was', 'VBD'), ('accomplished', 'VBN'), ('.', '.')]\n",
      "[('Our', 'PRP$'), ('generation', 'NN'), ('has', 'VBZ'), ('dreams', 'NNS'), ('of', 'IN'), ('its', 'PRP$'), ('own', 'JJ'), (',', ','), ('and', 'CC'), ('we', 'PRP'), ('also', 'RB'), ('go', 'VBP'), ('forward', 'RB'), ('with', 'IN'), ('confidence', 'NN'), ('.', '.')]\n",
      "[('The', 'DT'), ('road', 'NN'), ('of', 'IN'), ('Providence', 'NNP'), ('is', 'VBZ'), ('uneven', 'JJ'), ('and', 'CC'), ('unpredictable', 'JJ'), ('--', ':'), ('yet', 'RB'), ('we', 'PRP'), ('know', 'VBP'), ('where', 'WRB'), ('it', 'PRP'), ('leads', 'VBZ'), (':', ':'), ('It', 'PRP'), ('leads', 'VBZ'), ('to', 'TO'), ('freedom', 'VB'), ('.', '.')]\n",
      "[('Thank', 'NNP'), ('you', 'PRP'), (',', ','), ('and', 'CC'), ('may', 'MD'), ('God', 'NNP'), ('bless', 'NN'), ('America', 'NNP'), ('.', '.')]\n",
      "[('(', '('), ('Applause', 'NNP'), ('.', '.'), (')', ')')]\n",
      "[('END', 'NN'), ('10:03', 'CD'), ('P.M.', 'NNP'), ('EST', 'NNP')]\n"
     ]
    }
   ],
   "source": [
    "def process_content():\n",
    "    try:\n",
    "        for i in tokenized:\n",
    "            words=nltk.word_tokenize(i)\n",
    "            tagged=nltk.pos_tag(words)\n",
    "            print(tagged)\n",
    "    except Exception as e:\n",
    "        print(str(e))\n",
    "        \n",
    "\n",
    "process_content()"
   ]
  },
  {
   "cell_type": "raw",
   "metadata": {},
   "source": [
    "def process_contents():\n",
    "    try:\n",
    "        for i in tokenized:\n",
    "            words = nltk.word_tokenize(i)\n",
    "            tagged = nltk.pos_tag(words)\n",
    "            chunkGram = r\"\"\"Chunk: {<RB.?>*<VB.?>*<NNP>+<NN>?}\"\"\"\n",
    "            chunkParser = nltk.RegexpParser(chunkGram)\n",
    "            chunked = chunkParser.parse(tagged)\n",
    "            chunked.draw()     \n",
    "\n",
    "    except Exception as e:\n",
    "        print(str(e))\n",
    "\n",
    "process_contents()"
   ]
  },
  {
   "cell_type": "code",
   "execution_count": null,
   "metadata": {},
   "outputs": [],
   "source": [
    "import nltk\n",
    "from nltk.corpus import state_union\n",
    "from nltk.tokenize import PunktSentenceTokenizer\n",
    "\n",
    "train_text = state_union.raw(\"2005-GWBush.txt\")\n",
    "sample_text = state_union.raw(\"2006-GWBush.txt\")\n",
    "\n",
    "custom_sent_tokenizer = PunktSentenceTokenizer(train_text)\n",
    "\n",
    "tokenized = custom_sent_tokenizer.tokenize(sample_text)\n",
    "\n",
    "def process_content_chinking():\n",
    "    try:\n",
    "        for i in tokenized[5:]:\n",
    "            words = nltk.word_tokenize(i)\n",
    "            tagged = nltk.pos_tag(words)\n",
    "\n",
    "            chunkGram = r\"\"\"Chunk: {<.*>+}\n",
    "                                    }<VB.?|IN|DT|TO>+{\"\"\"\n",
    "\n",
    "            chunkParser = nltk.RegexpParser(chunkGram)\n",
    "            chunked = chunkParser.parse(tagged)\n",
    "\n",
    "            chunked.draw()\n",
    "\n",
    "    except Exception as e:\n",
    "        print(str(e))\n",
    "\n",
    "process_content_chinking()"
   ]
  },
  {
   "cell_type": "code",
   "execution_count": null,
   "metadata": {},
   "outputs": [],
   "source": [
    "import nltk\n",
    "from nltk.corpus import state_union\n",
    "from nltk.tokenize import PunktSentenceTokenizer\n",
    "\n",
    "train_text = state_union.raw(\"2005-GWBush.txt\")\n",
    "sample_text = state_union.raw(\"2006-GWBush.txt\")\n",
    "\n",
    "custom_sent_tokenizer = PunktSentenceTokenizer(train_text)\n",
    "\n",
    "tokenized = custom_sent_tokenizer.tokenize(sample_text)\n",
    "\n",
    "def naming_entity():\n",
    "    try:\n",
    "        for i in tokenized[5:]:\n",
    "            words = nltk.word_tokenize(i)\n",
    "            tagged = nltk.pos_tag(words)\n",
    "            namedEnt = nltk.ne_chunk(tagged, binary=True)\n",
    "            namedEnt.draw()\n",
    "    except Exception as e:\n",
    "        print(str(e))\n",
    "\n",
    "\n",
    "naming_entity()"
   ]
  },
  {
   "cell_type": "code",
   "execution_count": 1,
   "metadata": {},
   "outputs": [
    {
     "name": "stdout",
     "output_type": "stream",
     "text": [
      "cat\n",
      "cactus\n",
      "goose\n",
      "rock\n",
      "python\n",
      "good\n",
      "best\n",
      "run\n",
      "run\n"
     ]
    }
   ],
   "source": [
    "from nltk.stem import WordNetLemmatizer\n",
    "\n",
    "lemmatizer = WordNetLemmatizer()\n",
    "\n",
    "print(lemmatizer.lemmatize(\"cats\"))\n",
    "print(lemmatizer.lemmatize(\"cacti\"))\n",
    "print(lemmatizer.lemmatize(\"geese\"))\n",
    "print(lemmatizer.lemmatize(\"rocks\"))\n",
    "print(lemmatizer.lemmatize(\"python\"))\n",
    "print(lemmatizer.lemmatize(\"better\", pos=\"a\"))\n",
    "print(lemmatizer.lemmatize(\"best\", pos=\"a\"))\n",
    "print(lemmatizer.lemmatize(\"run\"))\n",
    "print(lemmatizer.lemmatize(\"run\",'v'))"
   ]
  },
  {
   "cell_type": "code",
   "execution_count": 2,
   "metadata": {},
   "outputs": [
    {
     "name": "stdout",
     "output_type": "stream",
     "text": [
      "['1:5 And God called the light Day, and the darkness he called Night.', 'And the evening and the morning were the first day.', '1:6 And God said, Let there be a firmament in the midst of the waters,\\nand let it divide the waters from the waters.', '1:7 And God made the firmament, and divided the waters which were\\nunder the firmament from the waters which were above the firmament:\\nand it was so.', '1:8 And God called the firmament Heaven.', 'And the evening and the\\nmorning were the second day.', '1:9 And God said, Let the waters under the heaven be gathered together\\nunto one place, and let the dry land appear: and it was so.', '1:10 And God called the dry land Earth; and the gathering together of\\nthe waters called he Seas: and God saw that it was good.', '1:11 And God said, Let the earth bring forth grass, the herb yielding\\nseed, and the fruit tree yielding fruit after his kind, whose seed is\\nin itself, upon the earth: and it was so.', '1:12 And the earth brought forth grass, and herb yielding seed after\\nhis kind, and the tree yielding fruit, whose seed was in itself, after\\nhis kind: and God saw that it was good.']\n"
     ]
    }
   ],
   "source": [
    "from nltk.corpus import gutenberg\n",
    "from nltk.tokenize import sent_tokenize\n",
    "\n",
    "sample=gutenberg.raw(\"bible-kjv.txt\")\n",
    "\n",
    "tok=sent_tokenize(sample)\n",
    "\n",
    "print(tok[5:15])"
   ]
  },
  {
   "cell_type": "code",
   "execution_count": 3,
   "metadata": {},
   "outputs": [
    {
     "name": "stdout",
     "output_type": "stream",
     "text": [
      "[The King James Bible]\n",
      "\n",
      "The Old Testament of the King James Bible\n",
      "\n",
      "The First Book of Moses:  Called Genesis\n",
      "\n",
      "\n",
      "1:1 In the beginning God created the heaven and the earth.\n",
      "1:2 And the earth was without form, and void; and darkness was upon\n",
      "the face of the deep.\n",
      "And the Spirit of God moved upon the face of the\n",
      "waters.\n",
      "1:3 And God said, Let there be light: and there was light.\n",
      "1:4 And God saw the light, that it was good: and God divided the light\n",
      "from the darkness.\n"
     ]
    }
   ],
   "source": [
    "for x in range(5):\n",
    "    print(tok[x])"
   ]
  },
  {
   "cell_type": "raw",
   "metadata": {},
   "source": [
    "                                                    WordNet"
   ]
  },
  {
   "cell_type": "code",
   "execution_count": 4,
   "metadata": {},
   "outputs": [
    {
     "name": "stdout",
     "output_type": "stream",
     "text": [
      "Synset('plan.n.01')\n"
     ]
    }
   ],
   "source": [
    "from nltk.corpus import wordnet\n",
    "syns=wordnet.synsets(\"program\")\n",
    "print(syns[0])"
   ]
  },
  {
   "cell_type": "code",
   "execution_count": 5,
   "metadata": {},
   "outputs": [
    {
     "name": "stdout",
     "output_type": "stream",
     "text": [
      "plan\n"
     ]
    }
   ],
   "source": [
    "print(syns[0].lemmas()[0].name())"
   ]
  },
  {
   "cell_type": "code",
   "execution_count": 6,
   "metadata": {},
   "outputs": [
    {
     "name": "stdout",
     "output_type": "stream",
     "text": [
      "a series of steps to be carried out or goals to be accomplished\n"
     ]
    }
   ],
   "source": [
    "#definiton of that first synset\n",
    "print(syns[0].definition())"
   ]
  },
  {
   "cell_type": "code",
   "execution_count": 7,
   "metadata": {},
   "outputs": [
    {
     "name": "stdout",
     "output_type": "stream",
     "text": [
      "['they drew up a six-step plan', 'they discussed plans for a new bond issue']\n"
     ]
    }
   ],
   "source": [
    "#Examples of the word in use:\n",
    "print(syns[0].examples())"
   ]
  },
  {
   "cell_type": "code",
   "execution_count": 8,
   "metadata": {},
   "outputs": [
    {
     "name": "stdout",
     "output_type": "stream",
     "text": [
      "synonyms\n",
      "{'undecomposed', 'respectable', 'secure', 'commodity', 'dear', 'trade_good', 'full', 'effective', 'upright', 'soundly', 'safe', 'proficient', 'estimable', 'sound', 'thoroughly', 'salutary', 'just', 'practiced', 'dependable', 'near', 'unspoilt', 'honorable', 'goodness', 'skilful', 'right', 'in_force', 'unspoiled', 'ripe', 'in_effect', 'good', 'honest', 'beneficial', 'expert', 'well', 'adept', 'skillful', 'serious'}\n",
      "antonyms\n",
      "{'undecomposed', 'respectable', 'secure', 'commodity', 'dear', 'trade_good', 'full', 'effective', 'upright', 'soundly', 'safe', 'proficient', 'estimable', 'sound', 'thoroughly', 'salutary', 'just', 'practiced', 'dependable', 'near', 'unspoilt', 'honorable', 'goodness', 'skilful', 'right', 'in_force', 'unspoiled', 'ripe', 'in_effect', 'good', 'honest', 'beneficial', 'expert', 'well', 'adept', 'skillful', 'serious'}\n"
     ]
    }
   ],
   "source": [
    "synonyms=[]\n",
    "antonyms=[]\n",
    "\n",
    "for syn in wordnet.synsets(\"good\"):\n",
    "    for l in syn.lemmas():\n",
    "        synonyms.append(l.name())\n",
    "        if l.antonyms():\n",
    "            antonyms.append(l.antonyms()[0].name())\n",
    "            \n",
    "print(\"synonyms\")\n",
    "print(set(synonyms))\n",
    "print(\"antonyms\")\n",
    "print(set(synonyms))"
   ]
  },
  {
   "cell_type": "code",
   "execution_count": 9,
   "metadata": {},
   "outputs": [
    {
     "name": "stdout",
     "output_type": "stream",
     "text": [
      "0.9090909090909091\n"
     ]
    }
   ],
   "source": [
    "w1 = wordnet.synset('ship.n.01')\n",
    "w2 = wordnet.synset('boat.n.01')\n",
    "print(w1.wup_similarity(w2))"
   ]
  },
  {
   "cell_type": "code",
   "execution_count": 10,
   "metadata": {},
   "outputs": [
    {
     "name": "stdout",
     "output_type": "stream",
     "text": [
      "0.6956521739130435\n"
     ]
    }
   ],
   "source": [
    "w1 = wordnet.synset('ship.n.01')\n",
    "w2 = wordnet.synset('truck.n.01')\n",
    "print(w1.wup_similarity(w2))"
   ]
  },
  {
   "cell_type": "code",
   "execution_count": 11,
   "metadata": {},
   "outputs": [
    {
     "name": "stdout",
     "output_type": "stream",
     "text": [
      "0.32\n"
     ]
    }
   ],
   "source": [
    "w1 = wordnet.synset('ship.n.01')\n",
    "w2 = wordnet.synset('crow.n.01')\n",
    "print(w1.wup_similarity(w2))"
   ]
  },
  {
   "cell_type": "raw",
   "metadata": {},
   "source": [
    "                                                    Texting"
   ]
  },
  {
   "cell_type": "code",
   "execution_count": 12,
   "metadata": {},
   "outputs": [],
   "source": [
    "import nltk\n",
    "import random\n",
    "from nltk.corpus import movie_reviews\n",
    "import pickle\n",
    "\n",
    "documents=[ (list(movie_reviews.words(fileid)), category) for category in movie_reviews.categories() for fileid in movie_reviews.fileids(category)]"
   ]
  },
  {
   "cell_type": "raw",
   "metadata": {},
   "source": [
    "#Alternate for documents\n",
    "\n",
    "documents=[]\n",
    "for category in movie_reviews.categories():\n",
    "      for fileid in movie_reviews.fileids(category):\n",
    "           documents.append(list(movie_reviews.words(fileid), category))"
   ]
  },
  {
   "cell_type": "code",
   "execution_count": 13,
   "metadata": {},
   "outputs": [],
   "source": [
    "from nltk.classify.scikitlearn import SklearnClassifier\n",
    "from sklearn.naive_bayes import MultinomialNB, GaussianNB, BernoulliNB"
   ]
  },
  {
   "cell_type": "code",
   "execution_count": 14,
   "metadata": {},
   "outputs": [],
   "source": [
    "from sklearn.linear_model import LogisticRegression, SGDClassifier\n",
    "from sklearn.svm import SVC, LinearSVC, NuSVC"
   ]
  },
  {
   "cell_type": "code",
   "execution_count": 15,
   "metadata": {},
   "outputs": [],
   "source": [
    "from nltk.classify import ClassifierI\n",
    "from statistics import mode"
   ]
  },
  {
   "cell_type": "code",
   "execution_count": 16,
   "metadata": {},
   "outputs": [],
   "source": [
    "class VoteClassifier(ClassifierI):\n",
    "    def __init__(self, *classifiers):\n",
    "        self._classifiers = classifiers\n",
    "        \n",
    "    def classify(self, features):\n",
    "        votes = []\n",
    "        for c in self._classifiers:\n",
    "            v = c.classify(features)\n",
    "            votes.append(v)\n",
    "        return mode(votes)\n",
    "    \n",
    "    def confidence(self, features):\n",
    "        votes = []\n",
    "        for c in self._classifiers:\n",
    "            v = c.classify(features)\n",
    "            votes.append(v)\n",
    "\n",
    "        choice_votes = votes.count(mode(votes))\n",
    "        conf = choice_votes / len(votes)\n",
    "        return conf\n",
    "\n"
   ]
  },
  {
   "cell_type": "code",
   "execution_count": 17,
   "metadata": {},
   "outputs": [],
   "source": [
    "random.shuffle(documents)"
   ]
  },
  {
   "cell_type": "code",
   "execution_count": 18,
   "metadata": {},
   "outputs": [
    {
     "name": "stdout",
     "output_type": "stream",
     "text": [
      "(['\"', 'virus', '\"', 'is', 'the', 'type', 'of', 'cliched', ',', 'vacuous', 'film', 'that', 'has', 'been', 'recylcled', 'so', 'many', 'times', 'before', 'that', 'you', 'wonder', 'why', 'anyone', 'would', 'even', 'bother', 'putting', 'work', 'into', 'making', 'it', '.', 'strangely', 'enough', ',', 'on', 'the', 'same', 'mid', '-', 'january', 'weekend', 'last', 'year', ',', 'another', 'film', 'was', 'released', 'like', 'this', ',', '\"', 'deep', 'rising', ',', '\"', 'about', 'an', 'ugly', 'monster', 'on', 'a', 'cruise', 'liner', '.', 'prior', 'movies', 'with', 'the', 'almost', 'exact', 'same', 'storyline', 'include', '1989', \"'\", 's', '\"', 'leviathan', ',', '\"', '1989', \"'\", 's', '\"', 'deep', 'star', 'six', ',', '\"', 'and', 'all', 'four', '\"', 'alien', '\"', 'pictures', '.', '\"', 'virus', ',', '\"', 'in', 'comparison', ',', 'is', 'a', 'servicable', 'thriller', ',', 'well', '-', 'made', 'and', 'produced', ',', 'but', 'since', 'it', 'doesn', \"'\", 't', 'include', 'one', 'moment', 'of', 'even', 'remote', 'originality', 'or', 'intelligence', ',', 'it', 'sinks', 'under', 'the', 'weight', 'of', 'the', 'water', 'that', 'the', 'film', 'was', 'shot', 'on', '.', 'based', 'on', 'a', 'series', 'of', 'comic', 'books', ',', '\"', 'virus', '\"', 'concerns', 'the', 'crew', 'of', 'an', 'ocean', 'salvage', 'tugboat', ',', 'which', 'becomes', 'extremely', 'damaged', 'during', 'a', 'violent', 'typhoon', '.', 'after', 'discovering', 'that', 'the', 'boat', 'is', 'slowly', 'sinking', ',', '(', 'un', ')', 'lucky', 'for', 'them', ',', 'a', 'huge', 'ocean', 'vessel', 'that', 'appears', 'to', 'be', 'dead', 'in', 'the', 'water', 'turns', 'up', 'within', 'the', 'confines', 'of', 'their', 'radar', 'screen', '.', 'once', 'the', 'team', 'reaches', 'the', 'russian', 'ship', ',', 'they', 'go', 'on', 'board', 'to', 'find', 'that', 'the', 'place', 'is', 'seemingly', 'deserted', '.', 'after', 'turning', 'the', 'power', 'back', 'on', ',', 'however', ',', 'there', 'gradually', 'are', 'signs', 'that', 'something', 'else', 'is', 'on', 'the', 'ship', ',', 'and', 'the', 'electrical', 'equipment', 'is', 'oddly', 'working', 'by', 'itself', '.', 'one', 'survivor', 'finally', 'does', 'turn', 'up', ',', 'nadia', '(', 'joanna', 'pacula', ')', ',', 'who', 'informs', 'the', 'suicidal', 'and', 'stern', 'captain', '(', 'donald', 'sutherland', ')', 'and', 'one', 'of', 'the', 'crew', ',', 'kit', 'foster', '(', 'jamie', 'lee', 'curtis', ')', ',', 'that', 'a', 'mysterious', 'alien', 'life', 'form', 'hit', 'the', 'santi', 'mir', 'space', 'station', 'which', 'then', 'was', 'transported', 'down', 'to', 'the', 'ship', ',', 'taking', 'over', 'the', 'minds', 'of', 'all', 'of', 'the', 'electrical', 'machines', 'and', 'thinking', 'that', 'humans', 'are', 'viruses', 'that', 'should', 'be', 'completely', 'wiped', 'out', '.', 'if', '\"', 'virus', '\"', 'sounds', 'like', 'all', 'of', 'the', 'previously', 'mentioned', 'movies', ',', 'you', \"'\", 're', 'correct', '.', 'although', 'the', 'technical', 'artistry', 'is', 'fairly', 'impressive', 'to', 'bring', 'the', 'mechanical', 'creature', 'to', 'life', ',', 'the', 'film', 'itself', 'doesn', \"'\", 't', 'appear', 'to', 'have', 'a', 'brain', 'in', 'its', 'head', '.', 'the', 'film', 'sticks', 'so', 'close', 'to', 'the', 'worn', '-', 'out', 'conventions', 'of', 'the', '\"', 'creature', '\"', 'genre', 'that', 'it', 'is', 'amazing', 'anyone', 'would', 'spend', 'the', 'money', 'and', 'time', 'filming', 'it', 'when', 'they', 'could', 'be', 'making', 'an', 'original', 'film', '.', 'the', 'actors', 'are', 'all', 'very', 'good', 'and', 'have', 'all', 'proven', 'their', 'acting', 'abilities', 'in', 'the', 'past', ',', 'but', 'they', 'are', 'sorely', 'wasted', 'here', 'and', 'do', 'not', 'really', 'even', 'have', 'characters', 'to', 'play', '.', 'in', 'her', 'second', 'return', 'to', 'horror', 'in', 'the', 'last', 'year', ',', 'jamie', 'lee', 'curtis', 'once', 'again', 'proves', 'to', 'be', 'a', 'strong', 'and', 'resourceful', 'heroine', ',', 'but', 'that', 'is', 'about', 'it', '.', 'although', '1998', \"'\", 's', '\"', 'halloween', ':', 'h20', '\"', 'was', 'also', 'a', 'disappointment', ',', 'at', 'least', 'she', 'was', 'given', 'a', 'few', 'scenes', 'to', 'develop', 'a', 'character', ',', 'unlike', 'here', '.', 'donald', 'sutherland', 'has', 'fallen', 'on', 'hard', 'times', 'recently', 'by', 'starring', 'in', 'thoroughly', 'disposable', 'films', ',', 'such', 'as', '1994', \"'\", 's', '\"', 'the', 'puppet', 'masters', ',', '\"', 'although', 'i', 'just', 'watched', 'him', 'in', 'the', 'superb', '1978', 'sci', '-', 'fi', 'classic', '\"', 'invasion', 'of', 'the', 'body', 'snatchers', ',', '\"', 'where', 'he', 'was', 'fabulous', '.', 'the', 'last', 'of', 'the', 'three', 'top', '-', 'billers', 'is', 'william', 'baldwin', ',', 'but', 'it', 'is', 'fairly', 'hard', 'to', 'say', 'if', 'he', 'is', 'good', 'or', 'not', 'in', 'the', 'picture', ',', 'since', 'he', 'has', 'nothing', 'to', 'do', '.', 'basically', ',', '\"', 'virus', '\"', 'is', 'another', 'one', 'of', 'those', 'films', 'where', 'a', 'group', 'of', 'people', 'walk', 'around', 'and', 'investigate', 'a', 'space', 'ship', '/', 'ocean', 'liner', '/', 'haunted', 'house', 'until', 'the', 'deadly', 'and', 'equally', 'grotesque', 'and', 'slimy', 'creature', 'pops', 'up', 'and', 'kills', 'them', 'one', '-', 'by', '-', 'one', '.', 'it', 'is', 'not', 'the', 'worst', 'of', 'its', 'type', ',', 'but', 'it', 'is', 'far', 'from', 'one', 'of', 'the', 'best', ',', 'and', 'when', 'exactly', 'are', 'studios', 'going', 'to', 'give', 'up', 'recycling', 'such', 'shameless', 'and', 'overdone', 'plot', 'gimmicks', 'such', 'as', 'this', '?', 'as', 'long', 'as', 'some', 'of', 'them', 'keep', 'making', 'money', ',', 'i', 'suspect', 'the', 'answer', 'is', 'never', '.'], 'neg')\n"
     ]
    }
   ],
   "source": [
    "print(documents[1])"
   ]
  },
  {
   "cell_type": "code",
   "execution_count": 19,
   "metadata": {},
   "outputs": [],
   "source": [
    "all_words=[]\n",
    "for w in movie_reviews.words():\n",
    "    all_words.append(w.lower())\n",
    "    \n",
    "all_words =nltk.FreqDist(all_words)\n"
   ]
  },
  {
   "cell_type": "code",
   "execution_count": 20,
   "metadata": {},
   "outputs": [
    {
     "name": "stdout",
     "output_type": "stream",
     "text": [
      "[(',', 77717), ('the', 76529), ('.', 65876), ('a', 38106), ('and', 35576), ('of', 34123), ('to', 31937), (\"'\", 30585), ('is', 25195), ('in', 21822), ('s', 18513), ('\"', 17612), ('it', 16107), ('that', 15924), ('-', 15595)]\n"
     ]
    }
   ],
   "source": [
    "print(all_words.most_common(15))"
   ]
  },
  {
   "cell_type": "code",
   "execution_count": 21,
   "metadata": {},
   "outputs": [
    {
     "name": "stdout",
     "output_type": "stream",
     "text": [
      "184\n"
     ]
    }
   ],
   "source": [
    "print(all_words[\"amazing\"])"
   ]
  },
  {
   "cell_type": "code",
   "execution_count": 22,
   "metadata": {},
   "outputs": [],
   "source": [
    "word_features=list(all_words.keys())[:3000]"
   ]
  },
  {
   "cell_type": "code",
   "execution_count": 23,
   "metadata": {},
   "outputs": [
    {
     "name": "stdout",
     "output_type": "stream",
     "text": [
      "{'plot': True, ':': True, 'two': True, 'teen': True, 'couples': True, 'go': True, 'to': True, 'a': True, 'church': True, 'party': True, ',': True, 'drink': True, 'and': True, 'then': True, 'drive': True, '.': True, 'they': True, 'get': True, 'into': True, 'an': True, 'accident': True, 'one': True, 'of': True, 'the': True, 'guys': True, 'dies': True, 'but': True, 'his': True, 'girlfriend': True, 'continues': True, 'see': True, 'him': True, 'in': True, 'her': True, 'life': True, 'has': True, 'nightmares': True, 'what': True, \"'\": True, 's': True, 'deal': True, '?': True, 'watch': True, 'movie': True, '\"': True, 'sorta': True, 'find': True, 'out': True, 'critique': True, 'mind': True, '-': True, 'fuck': True, 'for': True, 'generation': True, 'that': True, 'touches': True, 'on': True, 'very': True, 'cool': True, 'idea': True, 'presents': True, 'it': True, 'bad': True, 'package': True, 'which': True, 'is': True, 'makes': True, 'this': True, 'review': True, 'even': True, 'harder': True, 'write': True, 'since': True, 'i': True, 'generally': True, 'applaud': True, 'films': True, 'attempt': True, 'break': True, 'mold': True, 'mess': True, 'with': True, 'your': True, 'head': True, 'such': True, '(': True, 'lost': True, 'highway': True, '&': True, 'memento': True, ')': True, 'there': True, 'are': True, 'good': True, 'ways': True, 'making': True, 'all': True, 'types': True, 'these': True, 'folks': True, 'just': True, 'didn': True, 't': True, 'snag': True, 'correctly': True, 'seem': True, 'have': True, 'taken': True, 'pretty': True, 'neat': True, 'concept': True, 'executed': True, 'terribly': True, 'so': True, 'problems': True, 'well': True, 'its': True, 'main': True, 'problem': True, 'simply': True, 'too': True, 'jumbled': True, 'starts': True, 'off': True, 'normal': True, 'downshifts': True, 'fantasy': True, 'world': True, 'you': True, 'as': True, 'audience': True, 'member': True, 'no': True, 'going': True, 'dreams': True, 'characters': True, 'coming': True, 'back': True, 'from': True, 'dead': True, 'others': True, 'who': True, 'look': True, 'like': True, 'strange': True, 'apparitions': True, 'disappearances': True, 'looooot': True, 'chase': True, 'scenes': True, 'tons': True, 'weird': True, 'things': True, 'happen': True, 'most': True, 'not': True, 'explained': True, 'now': True, 'personally': True, 'don': True, 'trying': True, 'unravel': True, 'film': True, 'every': True, 'when': True, 'does': True, 'give': True, 'me': True, 'same': True, 'clue': True, 'over': True, 'again': True, 'kind': True, 'fed': True, 'up': True, 'after': True, 'while': True, 'biggest': True, 'obviously': True, 'got': True, 'big': True, 'secret': True, 'hide': True, 'seems': True, 'want': True, 'completely': True, 'until': True, 'final': True, 'five': True, 'minutes': True, 'do': True, 'make': True, 'entertaining': True, 'thrilling': True, 'or': True, 'engaging': True, 'meantime': True, 'really': True, 'sad': True, 'part': True, 'arrow': True, 'both': True, 'dig': True, 'flicks': True, 'we': True, 'actually': True, 'figured': True, 'by': True, 'half': True, 'way': True, 'point': True, 'strangeness': True, 'did': True, 'start': True, 'little': True, 'bit': True, 'sense': True, 'still': True, 'more': True, 'guess': True, 'bottom': True, 'line': True, 'movies': True, 'should': True, 'always': True, 'sure': True, 'before': True, 'given': True, 'password': True, 'enter': True, 'understanding': True, 'mean': True, 'showing': True, 'melissa': True, 'sagemiller': True, 'running': True, 'away': True, 'visions': True, 'about': True, '20': True, 'throughout': True, 'plain': True, 'lazy': True, '!': True, 'okay': True, 'people': True, 'chasing': True, 'know': True, 'need': True, 'how': True, 'giving': True, 'us': True, 'different': True, 'offering': True, 'further': True, 'insight': True, 'down': True, 'apparently': True, 'studio': True, 'took': True, 'director': True, 'chopped': True, 'themselves': True, 'shows': True, 'might': True, 've': True, 'been': True, 'decent': True, 'here': True, 'somewhere': True, 'suits': True, 'decided': True, 'turning': True, 'music': True, 'video': True, 'edge': True, 'would': True, 'actors': True, 'although': True, 'wes': True, 'bentley': True, 'seemed': True, 'be': True, 'playing': True, 'exact': True, 'character': True, 'he': True, 'american': True, 'beauty': True, 'only': True, 'new': True, 'neighborhood': True, 'my': True, 'kudos': True, 'holds': True, 'own': True, 'entire': True, 'feeling': True, 'unraveling': True, 'overall': True, 'doesn': True, 'stick': True, 'because': True, 'entertain': True, 'confusing': True, 'rarely': True, 'excites': True, 'feels': True, 'redundant': True, 'runtime': True, 'despite': True, 'ending': True, 'explanation': True, 'craziness': True, 'came': True, 'oh': True, 'horror': True, 'slasher': True, 'flick': True, 'packaged': True, 'someone': True, 'assuming': True, 'genre': True, 'hot': True, 'kids': True, 'also': True, 'wrapped': True, 'production': True, 'years': True, 'ago': True, 'sitting': True, 'shelves': True, 'ever': True, 'whatever': True, 'skip': True, 'where': True, 'joblo': True, 'nightmare': True, 'elm': True, 'street': True, '3': True, '7': True, '/': True, '10': True, 'blair': True, 'witch': True, '2': True, 'crow': True, '9': True, 'salvation': True, '4': True, 'stir': True, 'echoes': True, '8': True, 'happy': False, 'bastard': False, 'quick': False, 'damn': False, 'y2k': False, 'bug': False, 'starring': False, 'jamie': False, 'lee': False, 'curtis': False, 'another': False, 'baldwin': False, 'brother': False, 'william': False, 'time': False, 'story': False, 'regarding': False, 'crew': False, 'tugboat': False, 'comes': False, 'across': False, 'deserted': False, 'russian': False, 'tech': False, 'ship': False, 'kick': False, 'power': False, 'within': False, 'gore': False, 'bringing': False, 'few': False, 'action': False, 'sequences': False, 'virus': False, 'empty': False, 'flash': False, 'substance': False, 'why': False, 'was': False, 'middle': False, 'nowhere': False, 'origin': False, 'pink': False, 'flashy': False, 'thing': False, 'hit': False, 'mir': False, 'course': False, 'donald': False, 'sutherland': False, 'stumbling': False, 'around': False, 'drunkenly': False, 'hey': False, 'let': False, 'some': False, 'robots': False, 'acting': False, 'below': False, 'average': False, 'likes': False, 're': False, 'likely': False, 'work': False, 'halloween': False, 'h20': False, 'wasted': False, 'real': False, 'star': False, 'stan': False, 'winston': False, 'robot': False, 'design': False, 'schnazzy': False, 'cgi': False, 'occasional': False, 'shot': False, 'picking': False, 'brain': False, 'if': False, 'body': False, 'parts': False, 'turn': False, 'otherwise': False, 'much': False, 'sunken': False, 'jaded': False, 'viewer': False, 'thankful': False, 'invention': False, 'timex': False, 'indiglo': False, 'based': False, 'late': False, '1960': False, 'television': False, 'show': False, 'name': False, 'mod': False, 'squad': False, 'tells': False, 'tale': False, 'three': False, 'reformed': False, 'criminals': False, 'under': False, 'employ': False, 'police': False, 'undercover': False, 'however': False, 'wrong': False, 'evidence': False, 'gets': False, 'stolen': False, 'immediately': False, 'suspicion': False, 'ads': False, 'cuts': False, 'claire': False, 'dane': False, 'nice': False, 'hair': False, 'cute': False, 'outfits': False, 'car': False, 'chases': False, 'stuff': False, 'blowing': False, 'sounds': False, 'first': False, 'fifteen': False, 'quickly': False, 'becomes': False, 'apparent': False, 'certainly': False, 'slick': False, 'looking': False, 'complete': False, 'costumes': False, 'isn': False, 'enough': False, 'best': False, 'described': False, 'cross': False, 'between': False, 'hour': False, 'long': False, 'cop': False, 'stretched': False, 'span': False, 'single': False, 'clich': False, 'matter': False, 'elements': False, 'recycled': False, 'everything': False, 'already': False, 'seen': False, 'nothing': False, 'spectacular': False, 'sometimes': False, 'bordering': False, 'wooden': False, 'danes': False, 'omar': False, 'epps': False, 'deliver': False, 'their': False, 'lines': False, 'bored': False, 'transfers': False, 'onto': False, 'escape': False, 'relatively': False, 'unscathed': False, 'giovanni': False, 'ribisi': False, 'plays': False, 'resident': False, 'crazy': False, 'man': False, 'ultimately': False, 'being': False, 'worth': False, 'watching': False, 'unfortunately': False, 'save': False, 'convoluted': False, 'apart': False, 'occupying': False, 'screen': False, 'young': False, 'cast': False, 'clothes': False, 'hip': False, 'soundtrack': False, 'appears': False, 'geared': False, 'towards': False, 'teenage': False, 'mindset': False, 'r': False, 'rating': False, 'content': False, 'justify': False, 'juvenile': False, 'older': False, 'information': False, 'literally': False, 'spoon': False, 'hard': False, 'instead': False, 'telling': False, 'dialogue': False, 'poorly': False, 'written': False, 'extremely': False, 'predictable': False, 'progresses': False, 'won': False, 'care': False, 'heroes': False, 'any': False, 'jeopardy': False, 'll': False, 'aren': False, 'basing': False, 'nobody': False, 'remembers': False, 'questionable': False, 'wisdom': False, 'especially': False, 'considers': False, 'target': False, 'fact': False, 'number': False, 'memorable': False, 'can': False, 'counted': False, 'hand': False, 'missing': False, 'finger': False, 'times': False, 'checked': False, 'six': False, 'clear': False, 'indication': False, 'them': False, 'than': False, 'cash': False, 'spending': False, 'dollar': False, 'judging': False, 'rash': False, 'awful': False, 'seeing': False, 'avoid': False, 'at': False, 'costs': False, 'quest': False, 'camelot': False, 'warner': False, 'bros': False, 'feature': False, 'length': False, 'fully': False, 'animated': False, 'steal': False, 'clout': False, 'disney': False, 'cartoon': False, 'empire': False, 'mouse': False, 'reason': False, 'worried': False, 'other': False, 'recent': False, 'challenger': False, 'throne': False, 'last': False, 'fall': False, 'promising': False, 'flawed': False, '20th': False, 'century': False, 'fox': False, 'anastasia': False, 'hercules': False, 'lively': False, 'colorful': False, 'palate': False, 'had': False, 'beat': False, 'hands': False, 'crown': False, '1997': False, 'piece': False, 'animation': False, 'year': False, 'contest': False, 'arrival': False, 'magic': False, 'kingdom': False, 'mediocre': False, '--': False, 'd': False, 'pocahontas': False, 'those': False, 'keeping': False, 'score': False, 'nearly': False, 'dull': False, 'revolves': False, 'adventures': False, 'free': False, 'spirited': False, 'kayley': False, 'voiced': False, 'jessalyn': False, 'gilsig': False, 'early': False, 'daughter': False, 'belated': False, 'knight': False, 'king': False, 'arthur': False, 'round': False, 'table': False, 'dream': False, 'follow': False, 'father': False, 'footsteps': False, 'she': False, 'chance': False, 'evil': False, 'warlord': False, 'ruber': False, 'gary': False, 'oldman': False, 'ex': False, 'gone': False, 'steals': False, 'magical': False, 'sword': False, 'excalibur': False, 'accidentally': False, 'loses': False, 'dangerous': False, 'booby': False, 'trapped': False, 'forest': False, 'help': False, 'hunky': False, 'blind': False, 'timberland': False, 'dweller': False, 'garrett': False, 'carey': False, 'elwes': False, 'headed': False, 'dragon': False, 'eric': False, 'idle': False, 'rickles': False, 'arguing': False, 'itself': False, 'able': False, 'medieval': False, 'sexist': False, 'prove': False, 'fighter': False, 'side': False, 'pure': False, 'showmanship': False, 'essential': False, 'element': False, 'expected': False, 'climb': False, 'high': False, 'ranks': False, 'differentiates': False, 'something': False, 'saturday': False, 'morning': False, 'subpar': False, 'instantly': False, 'forgettable': False, 'songs': False, 'integrated': False, 'computerized': False, 'footage': False, 'compare': False, 'run': False, 'angry': False, 'ogre': False, 'herc': False, 'battle': False, 'hydra': False, 'rest': False, 'case': False, 'stink': False, 'none': False, 'remotely': False, 'interesting': False, 'race': False, 'bland': False, 'end': False, 'tie': False, 'win': False, 'comedy': False, 'shtick': False, 'awfully': False, 'cloying': False, 'least': False, 'signs': False, 'pulse': False, 'fans': False, \"-'\": False, '90s': False, 'tgif': False, 'will': False, 'thrilled': False, 'jaleel': False, 'urkel': False, 'white': False, 'bronson': False, 'balki': False, 'pinchot': False, 'sharing': False, 'nicely': False, 'realized': False, 'though': False, 'm': False, 'loss': False, 'recall': False, 'specific': False, 'providing': False, 'voice': False, 'talent': False, 'enthusiastic': False, 'paired': False, 'singers': False, 'sound': False, 'musical': False, 'moments': False, 'jane': False, 'seymour': False, 'celine': False, 'dion': False, 'must': False, 'strain': False, 'through': False, 'aside': False, 'children': False, 'probably': False, 'adults': False, 'grievous': False, 'error': False, 'lack': False, 'personality': False, 'learn': False, 'goes': False, 'synopsis': False, 'mentally': False, 'unstable': False, 'undergoing': False, 'psychotherapy': False, 'saves': False, 'boy': False, 'potentially': False, 'fatal': False, 'falls': False, 'love': False, 'mother': False, 'fledgling': False, 'restauranteur': False, 'unsuccessfully': False, 'attempting': False, 'gain': False, 'woman': False, 'favor': False, 'takes': False, 'pictures': False, 'kills': False, 'comments': False, 'stalked': False, 'yet': False, 'seemingly': False, 'endless': False, 'string': False, 'spurned': False, 'psychos': False, 'getting': False, 'revenge': False, 'type': False, 'stable': False, 'category': False, '1990s': False, 'industry': False, 'theatrical': False, 'direct': False, 'proliferation': False, 'may': False, 'due': False, 'typically': False, 'inexpensive': False, 'produce': False, 'special': False, 'effects': False, 'stars': False, 'serve': False, 'vehicles': False, 'nudity': False, 'allowing': False, 'frequent': False, 'night': False, 'cable': False, 'wavers': False, 'slightly': False, 'norm': False, 'respect': False, 'psycho': False, 'never': False, 'affair': False, ';': False, 'contrary': False, 'rejected': False, 'rather': False, 'lover': False, 'wife': False, 'husband': False, 'entry': False, 'doomed': False, 'collect': False, 'dust': False, 'viewed': False, 'midnight': False, 'provide': False, 'suspense': False, 'sets': False, 'interspersed': False, 'opening': False, 'credits': False, 'instance': False, 'serious': False, 'sounding': False, 'narrator': False, 'spouts': False, 'statistics': False, 'stalkers': False, 'ponders': False, 'cause': False, 'stalk': False, 'implicitly': False, 'implied': False, 'men': False, 'shown': False, 'snapshot': False, 'actor': False, 'jay': False, 'underwood': False, 'states': False, 'daryl': False, 'gleason': False, 'stalker': False, 'brooke': False, 'daniels': False, 'meant': False, 'called': False, 'guesswork': False, 'required': False, 'proceeds': False, 'begins': False, 'obvious': False, 'sequence': False, 'contrived': False, 'quite': False, 'brings': False, 'victim': False, 'together': False, 'obsesses': False, 'follows': False, 'tries': False, 'woo': False, 'plans': False, 'become': False, 'desperate': False, 'elaborate': False, 'include': False, 'cliche': False, 'murdered': False, 'pet': False, 'require': False, 'found': False, 'exception': False, 'cat': False, 'shower': False, 'events': False, 'lead': False, 'inevitable': False, 'showdown': False, 'survives': False, 'invariably': False, 'conclusion': False, 'turkey': False, 'uniformly': False, 'adequate': False, 'anything': False, 'home': False, 'either': False, 'turns': False, 'toward': False, 'melodrama': False, 'overdoes': False, 'words': False, 'manages': False, 'creepy': False, 'pass': False, 'demands': False, 'maryam': False, 'abo': False, 'close': False, 'played': False, 'bond': False, 'chick': False, 'living': False, 'daylights': False, 'equally': False, 'title': False, 'ditzy': False, 'strong': False, 'independent': False, 'business': False, 'owner': False, 'needs': False, 'proceed': False, 'example': False, 'suspicions': False, 'ensure': False, 'use': False, 'excuse': False, 'decides': False, 'return': False, 'toolbox': False, 'left': False, 'place': False, 'house': False, 'leave': False, 'door': False, 'answers': False, 'opens': False, 'wanders': False, 'returns': False, 'enters': False, 'our': False, 'heroine': False, 'danger': False, 'somehow': False, 'parked': False, 'front': False, 'right': False, 'oblivious': False, 'presence': False, 'inside': False, 'whole': False, 'episode': False, 'places': False, 'incredible': False, 'suspension': False, 'disbelief': False, 'questions': False, 'validity': False, 'intelligence': False, 'receives': False, 'highly': False, 'derivative': False, 'somewhat': False, 'boring': False, 'cannot': False, 'watched': False, 'rated': False, 'mostly': False, 'several': False, 'murder': False, 'brief': False, 'strip': False, 'bar': False, 'offensive': False, 'many': False, 'thrillers': False, 'mood': False, 'stake': False, 'else': False, 'capsule': False, '2176': False, 'planet': False, 'mars': False, 'taking': False, 'custody': False, 'accused': False, 'murderer': False, 'face': False, 'menace': False, 'lot': False, 'fighting': False, 'john': False, 'carpenter': False, 'reprises': False, 'ideas': False, 'previous': False, 'assault': False, 'precinct': False, '13': False, 'homage': False, 'himself': False, '0': False, '+': False, 'believes': False, 'fight': False, 'horrible': False, 'writer': False, 'supposedly': False, 'expert': False, 'mistake': False, 'ghosts': False, 'drawn': False, 'humans': False, 'surprisingly': False, 'low': False, 'powered': False, 'alien': False, 'addition': False, 'anybody': False, 'made': False, 'grounds': False, 'sue': False, 'chock': False, 'full': False, 'pieces': False, 'prince': False, 'darkness': False, 'surprising': False, 'managed': False, 'fit': False, 'admittedly': False, 'novel': False, 'science': False, 'fiction': False, 'experience': False, 'terraformed': False, 'walk': False, 'surface': False, 'without': False, 'breathing': False, 'gear': False, 'budget': False, 'mentioned': False, 'gravity': False, 'increased': False, 'earth': False, 'easier': False, 'society': False, 'changed': False, 'advanced': False, 'culture': False, 'women': False, 'positions': False, 'control': False, 'view': False, 'stagnated': False, 'female': False, 'beyond': False, 'minor': False, 'technological': False, 'advances': False, 'less': False, '175': False, 'expect': False, 'change': False, 'ten': False, 'basic': False, 'common': False, 'except': False, 'yes': False, 'replaced': False, 'tacky': False, 'rundown': False, 'martian': False, 'mining': False, 'colony': False, 'having': False, 'criminal': False, 'napolean': False, 'wilson': False, 'desolation': False, 'williams': False, 'facing': False, 'hoodlums': False, 'automatic': False, 'weapons': False, 'nature': False, 'behave': False, 'manner': False, 'essentially': False, 'human': False, 'savages': False, 'lapse': False, 'imagination': False, 'told': False, 'flashback': False, 'entirely': False, 'filmed': False, 'almost': False, 'tones': False, 'red': False, 'yellow': False, 'black': False, 'powerful': False, 'scene': False, 'train': False, 'rushing': False, 'heavy': False, 'sadly': False, 'buildup': False, 'terror': False, 'creates': False, 'looks': False, 'fugitive': False, 'wannabes': False, 'rock': False, 'band': False, 'kiss': False, 'building': False, 'bunch': False, 'sudden': False, 'jump': False, 'sucker': False, 'thinking': False, 'scary': False, 'happening': False, 'standard': False, 'haunted': False, 'shock': False, 'great': False, 'newer': False, 'unimpressive': False, 'digital': False, 'decapitations': False, 'fights': False, 'short': False, 'stretch': False, 'release': False, 'mission': False, 'panned': False, 'reviewers': False, 'better': False, 'rate': False, 'scale': False, 'following': False, 'showed': False, 'liked': False, 'moderately': False, 'classic': False, 'comment': False, 'twice': False, 'ask': False, 'yourself': False, '8mm': False, 'eight': False, 'millimeter': False, 'wholesome': False, 'surveillance': False, 'sight': False, 'values': False, 'becoming': False, 'enmeshed': False, 'seedy': False, 'sleazy': False, 'underworld': False, 'hardcore': False, 'pornography': False, 'bubbling': False, 'beneath': False, 'town': False, 'americana': False, 'sordid': False, 'sick': False, 'depraved': False, 'necessarily': False, 'stop': False, 'order': False, 'satisfy': False, 'twisted': False, 'desires': False, 'position': False, 'influence': False, 'kinds': False, 'demented': False, 'talking': False, 'snuff': False, 'supposed': False, 'documentaries': False, 'victims': False, 'brutalized': False, 'killed': False, 'camera': False, 'joel': False, 'schumacher': False, 'credit': False, 'batman': False, 'robin': False, 'kill': False, 'forever': False, 'client': False, 'thirds': False, 'unwind': False, 'fairly': False, 'conventional': False, 'persons': False, 'drama': False, 'albeit': False, 'particularly': False, 'unsavory': False, 'core': False, 'threatening': False, 'along': False, 'explodes': False, 'violence': False, 'think': False, 'finally': False, 'tags': False, 'ridiculous': False, 'self': False, 'righteous': False, 'finale': False, 'drags': False, 'unpleasant': False, 'trust': False, 'waste': False, 'hours': False, 'nicolas': False, 'snake': False, 'eyes': False, 'cage': False, 'private': False, 'investigator': False, 'tom': False, 'welles': False, 'hired': False, 'wealthy': False, 'philadelphia': False, 'widow': False, 'determine': False, 'whether': False, 'reel': False, 'safe': False, 'documents': False, 'girl': False, 'assignment': False, 'factly': False, 'puzzle': False, 'neatly': False, 'specialized': False, 'skills': False, 'training': False, 'easy': False, 'cops': False, 'toilet': False, 'tanks': False, 'clues': False, 'deeper': False, 'digs': False, 'investigation': False, 'obsessed': False, 'george': False, 'c': False, 'scott': False, 'paul': False, 'schrader': False, 'occasionally': False, 'flickering': False, 'whirs': False, 'sprockets': False, 'winding': False, 'projector': False, 'reminding': False, 'task': False, 'hints': False, 'toll': False, 'lovely': False, 'catherine': False, 'keener': False, 'frustrated': False, 'cleveland': False, 'ugly': False, 'split': False, 'level': False, 'harrisburg': False, 'pa': False, 'condemn': False, 'condone': False, 'subject': False, 'exploits': False, 'irony': False, 'seven': False, 'scribe': False, 'andrew': False, 'kevin': False, 'walker': False, 'vision': False, 'lane': False, 'limited': False, 'hollywood': False, 'product': False, 'snippets': False, 'covering': False, 'later': False, 'joaquin': False, 'phoenix': False, 'far': False, 'adult': False, 'bookstore': False, 'flunky': False, 'max': False, 'california': False, 'cover': False, 'horrid': False, 'screened': False, 'familiar': False, 'revelation': False, 'sexual': False, 'deviants': False, 'indeed': False, 'monsters': False, 'everyday': False, 'neither': False, 'super': False, 'nor': False, 'shocking': False, 'banality': False, 'exactly': False, 'felt': False, 'weren': False, 'nine': False, 'laughs': False, 'months': False, 'terrible': False, 'mr': False, 'hugh': False, 'grant': False, 'huge': False, 'dork': False, 'oral': False, 'sex': False, 'prostitution': False, 'referring': False, 'bugs': False, 'annoying': False, 'adam': False, 'sandler': False, 'jim': False, 'carrey': False, 'eye': False, 'flutters': False, 'nervous': False, 'smiles': False, 'slapstick': False, 'fistfight': False, 'delivery': False, 'room': False, 'culminating': False, 'joan': False, 'cusack': False, 'lap': False, 'paid': False, '$': False, '60': False, 'included': False, 'obscene': False, 'double': False, 'entendres': False, 'obstetrician': False, 'pregnant': False, 'pussy': False, 'size': False, 'hairs': False, 'coat': False, 'nonetheless': False, 'exchange': False, 'cookie': False, 'cutter': False, 'originality': False, 'humor': False, 'successful': False, 'child': False, 'psychiatrist': False, 'psychologist': False, 'scriptwriters': False, 'could': False, 'inject': False, 'unfunny': False, 'kid': False, 'dad': False, 'asshole': False, 'eyelashes': False, 'offers': False, 'smile': False, 'responds': False, 'english': False, 'accent': False, 'attitude': False, 'possibly': False, '_huge_': False, 'beside': False, 'includes': False, 'needlessly': False, 'stupid': False, 'jokes': False, 'olds': False, 'everyone': False, 'shakes': False, 'anyway': False, 'finds': False, 'usual': False, 'reaction': False, 'fluttered': False, 'paves': False, 'possible': False, 'pregnancy': False, 'birth': False, 'gag': False, 'book': False, 'friend': False, 'arnold': False, 'provides': False, 'cacophonous': False, 'funny': False, 'beats': False, 'costumed': False, 'arnie': False, 'dinosaur': False, 'draw': False, 'parallels': False, 'toy': False, 'store': False, 'jeff': False, 'goldblum': False, 'hid': False, 'dreadful': False, 'hideaway': False, 'artist': False, 'fear': False, 'simultaneous': False, 'longing': False, 'commitment': False, 'doctor': False, 'recently': False, 'switch': False, 'veterinary': False, 'medicine': False, 'obstetrics': False, 'joke': False, 'old': False, 'foreign': False, 'guy': False, 'mispronounces': False, 'stereotype': False, 'say': False, 'yakov': False, 'smirnov': False, 'favorite': False, 'vodka': False, 'hence': False, 'take': False, 'volvo': False, 'nasty': False, 'unamusing': False, 'heads': False, 'simultaneously': False, 'groan': False, 'failure': False, 'loud': False, 'failed': False, 'uninspired': False, 'lunacy': False, 'sunset': False, 'boulevard': False, 'arrest': False, 'please': False, 'caught': False, 'pants': False, 'bring': False, 'theaters': False, 'faces': False, '90': False, 'forced': False, 'unauthentic': False, 'anyone': False, 'q': False, '80': False, 'sorry': False, 'money': False, 'unfulfilled': False, 'desire': False, 'spend': False, 'bucks': False, 'call': False, 'road': False, 'trip': False, 'walking': False, 'wounded': False, 'stellan': False, 'skarsg': False, 'rd': False, 'convincingly': False, 'zombified': False, 'drunken': False, 'loser': False, 'difficult': False, 'smelly': False, 'boozed': False, 'reliable': False, 'swedish': False, 'adds': False, 'depth': False, 'significance': False, 'plodding': False, 'aberdeen': False, 'sentimental': False, 'painfully': False, 'mundane': False, 'european': False, 'playwright': False, 'august': False, 'strindberg': False, 'built': False, 'career': False, 'families': False, 'relationships': False, 'paralyzed': False, 'secrets': False, 'unable': False, 'express': False, 'longings': False, 'accurate': False, 'reflection': False, 'strives': False, 'focusing': False, 'pairing': False, 'alcoholic': False, 'tomas': False, 'alienated': False, 'openly': False, 'hostile': False, 'yuppie': False, 'kaisa': False, 'lena': False, 'headey': False, 'gossip': False, 'haven': False, 'spoken': False, 'wouldn': False, 'norway': False, 'scotland': False, 'automobile': False, 'charlotte': False, 'rampling': False, 'sand': False, 'rotting': False, 'hospital': False, 'bed': False, 'cancer': False, 'soap': False, 'opera': False, 'twist': False, 'days': False, 'live': False, 'blitzed': False, 'step': False, 'foot': False, 'plane': False, 'hits': False, 'open': False, 'loathing': False, 'each': False, 'periodic': False, 'stops': False, 'puke': False, 'dashboard': False, 'whenever': False, 'muttering': False, 'rotten': False, 'turned': False, 'sloshed': False, 'viewpoint': False, 'recognizes': False, 'apple': False, 'hasn': False, 'fallen': False, 'tree': False, 'nosebleeds': False, 'snorting': False, 'coke': False, 'sabotages': False, 'personal': False, 'indifference': False, 'restrain': False, 'vindictive': False, 'temper': False, 'ain': False, 'pair': False, 'true': False, 'notes': False, 'unspoken': False, 'familial': False, 'empathy': False, 'note': False, 'repetitively': False, 'bitchy': False, 'screenwriters': False, 'kristin': False, 'amundsen': False, 'hans': False, 'petter': False, 'moland': False, 'fabricate': False, 'series': False, 'contrivances': False, 'propel': False, 'forward': False, 'roving': False, 'hooligans': False, 'drunks': False, 'nosy': False, 'flat': False, 'tires': False, 'figure': False, 'schematic': False, 'convenient': False, 'narrative': False, 'reach': False, 'unveil': False, 'dark': False, 'past': False, 'simplistic': False, 'devices': False, 'trivialize': False, 'conflict': False, 'mainstays': False, 'wannabe': False, 'exists': False, 'purely': False, 'sake': False, 'weak': False, 'unimaginative': False, 'casting': False, 'thwarts': False, 'pivotal': False, 'role': False, 'were': False, 'stronger': False, 'actress': False, 'perhaps': False, 'coast': False, 'performances': False, 'moody': False, 'haunting': False, 'cinematography': False, 'rendering': False, 'pastoral': False, 'ghost': False, 'reference': False, 'certain': False, 'superior': False, 'indie': False, 'intentional': False, 'busy': False, 'using': False, 'furrowed': False, 'brow': False, 'convey': False, 'twitch': False, 'insouciance': False, 'paying': False, 'attention': False, 'maybe': False, 'doing': False, 'reveal': False, 'worthwhile': False, 'earlier': False, 'released': False, '2001': False, 'jonathan': False, 'nossiter': False, 'captivating': False, 'wonders': False, 'disturbed': False, 'parental': False, 'figures': False, 'bound': False, 'ceremonial': False, 'wedlock': False, 'differences': False, 'presented': False, 'significant': False, 'luminous': False, 'diva': False, 'preening': False, 'static': False, 'solid': False, 'performance': False, 'pathetic': False, 'drunk': False, 'emote': False, 'besides': False, 'catatonic': False, 'sorrow': False, 'genuine': False, 'ferocity': False, 'sexually': False, 'charged': False, 'frisson': False, 'during': False, 'understated': False, 'confrontations': False, 'suggest': False, 'gray': False, 'zone': False, 'complications': False, 'accompany': False, 'torn': False, 'romance': False, 'stifled': False, 'curiosity': False, 'thoroughly': False, 'explores': False, 'neurotic': False, 'territory': False, 'delving': False, 'americanization': False, 'greece': False, 'mysticism': False, 'illusion': False, 'deflect': False, 'pain': False, 'overloaded': False, 'willing': False, 'come': False, 'traditional': False, 'ambitious': False, 'sleepwalk': False, 'rhythms': False, 'timing': False, 'driven': False, 'stories': False, 'complexities': False, 'depressing': False, 'answer': False, 'lawrence': False, 'kasdan': False, 'trite': False, 'useful': False, 'grand': False, 'canyon': False, 'steve': False, 'martin': False, 'mogul': False, 'pronounces': False, 'riddles': False, 'answered': False, 'advice': False, 'heart': False, 'french': False, 'sees': False, 'parents': False, 'tim': False, 'roth': False, 'oops': False, 'vows': False, 'taught': False, 'musketeer': False, 'dude': False, 'used': False, 'fourteen': False, 'arrgh': False, 'swish': False, 'zzzzzzz': False, 'original': False, 'lacks': False, 'energy': False, 'next': False, 'hmmmm': False, 'justin': False, 'chambers': False, 'basically': False, 'uncharismatic': False, 'version': False, 'chris': False, 'o': False, 'donnell': False, 'range': False, 'mena': False, 'suvari': False, 'thora': False, 'birch': False, 'dungeons': False, 'dragons': False, 'miscast': False, 'deliveries': False, 'piss': False, 'poor': False, 'ms': False, 'fault': False, 'definitely': False, 'higher': False, 'semi': False, 'saving': False, 'grace': False, 'wise': False, 'irrepressible': False, 'once': False, 'thousand': False, 'god': False, 'beg': False, 'agent': False, 'marketplace': False, 'modern': False, 'day': False, 'roles': False, 'romantic': False, 'gunk': False, 'alright': False, 'yeah': False, 'yikes': False, 'notches': False, 'fellas': False, 'blares': False, 'ear': False, 'accentuate': False, 'annoy': False, 'important': False, 'behind': False, 'recognize': False, 'epic': False, 'fluffy': False, 'rehashed': False, 'cake': False, 'created': False, 'shrewd': False, 'advantage': False, 'kung': False, 'fu': False, 'phenomenon': False, 'test': False, 'dudes': False, 'keep': False, 'reading': False, 'editing': False, 'shoddy': False, 'banal': False, 'stilted': False, 'plentiful': False, 'top': False, 'horse': False, 'carriage': False, 'stand': False, 'opponent': False, 'scampering': False, 'cut': False, 'mouseketeer': False, 'rope': False, 'tower': False, 'jumping': False, 'chords': False, 'hanging': False, 'says': False, '14': False, 'shirt': False, 'strayed': False, 'championing': False, 'fun': False, 'stretches': False, 'atrocious': False, 'lake': False, 'reminded': False, 'school': False, 'cringe': False, 'musketeers': False, 'fat': False, 'raison': False, 'etre': False, 'numbers': False, 'hoping': False, 'packed': False, 'stuntwork': False, 'promoted': False, 'trailer': False, 'major': False, 'swashbuckling': False, 'beginning': False, 'finishes': False, 'juggling': False, 'ladders': False, 'ladder': False, 'definite': False, 'keeper': False, 'regurgitated': False, 'crap': False, 'tell': False, 'deneuve': False, 'placed': False, 'hullo': False, 'barely': False, 'ugh': False, 'small': False, 'annoyed': False, 'trash': False, 'gang': False, 'vow': False, 'stay': False, 'thank': False, 'outlaws': False, '5': False, 'crouching': False, 'tiger': False, 'hidden': False, 'matrix': False, 'replacement': False, 'killers': False, '6': False, 'romeo': False, 'die': False, 'shanghai': False, 'noon': False, 'remembered': False, 'dr': False, 'hannibal': False, 'lecter': False, 'michael': False, 'mann': False, 'forensics': False, 'thriller': False, 'manhunter': False, 'scottish': False, 'brian': False, 'cox': False, 'works': False, 'usually': False, 'schlock': False, 'halfway': False, 'goodnight': False, 'meaty': False, 'substantial': False, 'brilliant': False, 'check': False, 'dogged': False, 'inspector': False, 'opposite': False, 'frances': False, 'mcdormand': False, 'ken': False, 'loach': False, 'agenda': False, 'harrigan': False, 'disturbing': False, 'l': False, 'e': False, '47': False, 'picked': False, 'sundance': False, 'distributors': False, 'scared': False, 'budge': False, 'dares': False, 'speak': False, 'expresses': False, 'seeking': False, 'adolescents': False, 'pad': False, 'bothered': False, 'members': False, 'presentation': False, 'oddly': False, 'empathetic': False, 'light': False, 'tempered': False, 'robust': False, 'listens': False, 'opposed': False, 'friends': False, 'wire': False, 'act': False, 'confused': False, 'lives': False, 'pay': False, 'courtship': False, 'charming': False, 'temptations': False, 'grown': False, 'stands': False, 'island': False, 'expressway': False, 'slices': False, 'malls': False, 'class': False, 'homes': False, 'suburbia': False, 'filmmaker': False, 'cuesta': False, 'uses': False, 'transparent': False, 'metaphor': False, '15': False, 'protagonist': False, 'howie': False, 'franklin': False, 'dano': False, 'reveals': False, 'morbid': False, 'preoccupation': False, 'death': False, 'citing': False, 'deaths': False, 'alan': False, 'j': False, 'pakula': False, 'songwriter': False, 'harry': False, 'chapin': False, 'exit': False, '52': False, 'fascinated': False, 'feelings': False, 'projected': False, 'bright': False, 'move': False, 'force': False, 'complex': False, 'molesters': False, 'beast': False, 'ashamed': False, 'worked': False, 'ill': False, 'advised': False, 'foray': False, 'unnecessary': False, 'padding': False, 'miserable': False, 'bruce': False, 'altman': False, 'seat': False, 'collar': False, 'crime': False, 'degenerate': False, 'youngsters': False, 'kicks': False, 'robbing': False, 'houses': False, 'homoerotic': False, 'shenanigans': False, 'ass': False, 'terrio': False, 'billy': False, 'kay': False, 'handsome': False, 'artful': False, 'dodger': False, 'add': False, 'themes': False, 'suburban': False, 'ennui': False, 'needed': False, 'awkward': False, 'subplots': False, 'concurrently': False, 'relationship': False, 'evenly': False, 'paced': False, 'exceptionally': False, 'acted': False, 'sporting': False, 'baseball': False, 'cap': False, 'faded': False, 'marine': False, 'tattoo': False, 'bluff': False, 'bluster': False, 'quiet': False, 'glance': False, 'withdrawn': False, 'whose': False, 'dramatic': False, 'choices': False, 'broad': False, 'calling': False, 'haley': False, 'restraint': False, 'admirable': False, 'screenplay': False, 'material': False, 'reads': False, 'walt': False, 'whitman': False, 'poem': False, 'moment': False, 'precious': False, 'lingers': False, 'ecstatic': False, 'hearing': False, 'glenn': False, 'gould': False, 'performing': False, 'bach': False, 'goldberg': False, 'variations': False, 'involving': False, 'walter': False, 'masterson': False, 'jealous': False, 'newbie': False, 'thread': False, 'predictably': False, 'leads': False, 'observational': False, 'portrait': False, 'alienation': False, 'royally': False, 'screwed': False, 'terry': False, 'zwigoff': False, 'superb': False, 'confidence': False, 'ambivalent': False, 'typical': False, 'cinema': False, 'wrap': False, 'bullet': False, 'sparing': False, 'writers': False, 'philosophical': False, 'regard': False, 'countless': False, 'share': False, 'blockbuster': False, 'solved': False, 'obstacle': False, 'removed': False, 'often': False, 'extend': False, 'question': False, 'striving': False, 'realism': False, 'destroy': False, 'janeane': False, 'garofalo': False, 'couple': False, 'truth': False, 'cats': False, 'dogs': False, 'excruciating': False, 'matchmaker': False, 'books': False, 'plods': False, 'predestined': False, 'surprises': False, 'jumps': False, 'popular': False, 'political': False, 'satire': False, 'bandwagon': False, 'campaign': False, 'aide': False, 'massacusetts': False, 'senator': False, 'sanders': False, 'reelection': False, 'denis': False, 'leary': False, 'stereotypical': False, 'strategist': False, 'ethics': False, 'scandal': False, 'plagued': False, 'play': False, 'irish': False, 'roots': False, 'boston': False, 'roman': False, 'catholic': False, 'democrat': False, 'contingent': False, 'kennedy': False, 'family': False, 'orders': False, 'ireland': False, 'relatives': False, 'exploit': False, 'soon': False, 'learns': False, 'said': False, 'done': False, 'mantra': False, 'tiny': False, 'misses': False, 'bus': False, 'hotel': False, 'ends': False, 'smallest': False, 'trashiest': False, 'dog': False, 'luggage': False, 'roger': False, 'ebert': False, 'calls': False, 'meet': False, 'happens': False, 'unconventional': False, 'cinematic': False, 'walks': False, 'bathroom': False, 'nude': False, 'sean': False, 'david': False, 'hara': False, 'bathtub': False, 'points': False, 'guessing': False, 'water': False, 'hates': False, 'instant': False, 'saw': False, 'irishman': False, 'hate': False, 'awhile': False, 'succumb': False, 'charms': False, 'happily': False, 'superficial': False, 'detail': False, 'throw': False, 'turmoil': False, 'reconcile': False, 'tune': False, 'annual': False, 'matchmaking': False, 'festival': False, 'lonely': False, 'county': False, 'future': False, 'bliss': False, 'milo': False, 'shea': False, 'snyder': False, 'pops': False, 'onscreen': False, 'spew': False, 'souls': False, 'assured': False, 'match': False, 'utter': False, 'predictability': False, 'message': False, 'respectable': False, 'person': False, 'comedic': False, 'distinction': False, 'sell': False, 'script': False, 'excited': False, 'stays': False, 'stateside': False, 'yelling': False, 'phone': False, 'undoes': False, 'microphone': False, 'speech': False, 'known': False, 'flying': False, 'hong': False, 'kong': False, 'style': False, 'filmmaking': False, 'classics': False, 'nod': False, 'asia': False, 'france': False, 'lukewarm': False, 'dumas': False, 'asian': False, 'stunt': False, 'coordinator': False, 'xing': False, 'xiong': False, 'prior': False, 'attempts': False, 'choreography': False, 'laughable': False, 'van': False, 'damme': False, 'vehicle': False, 'team': False, 'dennis': False, 'rodman': False, 'simon': False, 'sez': False, 'thrown': False, 'air': False, 'result': False, 'tepid': False, 'adventure': False, 'rip': False, 'stinks': False, 'indiana': False, 'jones': False, 'simple': False, 'grandmother': False, 'adapted': False, 'artagnan': False, 'vengeful': False, 'son': False, 'slain': False, 'travels': False, 'paris': False, 'join': False, 'royal': False, 'meets': False, 'cunning': False, 'cardinal': False, 'richelieu': False, 'stephen': False, 'rea': False, 'overthrow': False, 'associate': False, 'febre': False, 'killer': False, 'disbanded': False, 'rounds': False, 'aramis': False, 'nick': False, 'moran': False, 'athos': False, 'jan': False, 'gregor': False, 'kremp': False, 'porthos': False, 'steven': False, 'spiers': False, 'wrongfully': False, 'imprisoned': False, 'leader': False, 'treville': False, 'prison': False, 'frisky': False, 'interest': False, 'chambermaid': False, 'francesca': False, 'footsy': False, 'coo': False, 'hunts': False, 'queen': False, 'captured': False, 'menancing': False, 'forcing': False, 'regroup': False, 'leading': False, 'charge': False, 'peter': False, 'hyams': False, 'wanted': False, 'blend': False, 'eastern': False, 'western': False, 'styles': False, 'disaster': False, 'reality': False, 'ones': False, 'jet': False, 'li': False, 'risk': False, 'ironically': False, 'swordplay': False, 'spread': False, 'carry': False, 'bulk': False, '30': False, 'minute': False, 'picture': False, 'weighs': False, 'monotonous': False, 'gene': False, 'quintano': False, 'prosaic': False, 'wedding': False, 'planner': False, 'mousy': False, 'artangnan': False, 'hyam': False, 'candles': False, 'torches': False, 'grime': False, 'filth': False, '17th': False, 'noted': False, 'standout': False, 'mortal': False, 'kombat': False, 'annihilation': False, 'reviewed': False, 'multiple': False, 'levels': False, 'rampant': False, 'usage': False, 'randian': False, 'subtext': False, 'pervades': False, 'occasionaly': False, 'ironic': False, 'depreciating': False, 'remark': False, 'tosses': False, 'clearly': False, 'marxist': False, 'imagery': False, 'kidding': False, 'seriousness': False, 'fair': False, '*': False, 'necessary': False, 'viewpoints': False, 'watcher': False, 'unfamiliar': False, 'marginally': False, 'fan': False, 'games': False, '1995': False, 'concerned': False, 'martial': False, 'arts': False, 'tournament': False, 'decide': False, 'fate': False, 'billion': False, 'inhabitants': False, 'mortals': False, 'theory': False, 'prevented': False, 'emperor': False, 'shao': False, 'khan': False, 'arriving': False, 'ready': False, 'assumed': False, 'stance': False, 'extraordinarily': False, 'myself': False, 'game': False, 'enjoyed': False, 'directors': False, 'knew': False, 'limitations': False, 'try': False, 'overachieve': False, 'accompanying': False, 'intersperesed': False, 'distracting': False, 'non': False, 'intrusive': False, 'bits': False, 'fluff': False, 'passing': False, 'smashing': False, 'success': False, 'box': False, 'office': False, 'picks': False, 'precisely': False, 'introductory': False, 'exposition': False, 'anyways': False, 'hell': False, 'silly': False, 'rule': False, 'winning': False, 'thereafter': False, 'approximately': False, '85': False, 'alternates': False, 'general': False, 'impression': False, 'producers': False, 'thought': False, 'formula': False, 'volumes': False, 'truly': False, 'sandra': False, 'hess': False, 'sonya': False, 'blade': False, 'execrable': False, 'convince': False, 'loved': False, 'johnny': False, 'greased': False, 'worst': False, 'mis': False, 'james': False, 'remar': False, 'raiden': False, 'thunder': False, 'christopher': False, 'lambert': False, 'japanese': False, 'revered': False, 'chinese': False, 'mystics': False, 'against': False, 'lister': False, 'jr': False, 'president': False, 'u': False, 'fifth': False, 'utility': False, 'totally': False, 'luxury': False, 'amused': False, 'awareness': False, 'introduced': False, 'meaningless': False, 'sidetracks': False, 'including': False, 'muddled': False, 'liu': False, 'kang': False, 'shou': False, 'seeks': False, 'nightwolf': False, 'litefoot': False, 'mystical': False, 'hallucination': False, 'jade': False, 'irina': False, 'pantaeva': False, 'reasons': False, 'unless': False, 'critiques': False, 'apply': False, 'worse': False, 'bridgette': False, 'convincing': False, 'looked': False, 'mimicing': False, 'movements': False, 'choreographer': False, 'knows': False, 'puts': False, 'believable': False, 'jax': False, 'earthquake': False, 'animality': False, 'bonus': False, 'similar': False, 'moves': False, 'mistakenly': False, 'hang': False, 'lamest': False, 'involved': False, 'mud': False, 'wrestling': False, 'lame': False, 'politically': False, 'incorrect': False, 'noticed': False, 'remarked': False, 'upon': False, 'emporer': False, 'perform': False, 'animalities': False, 'motaro': False, 'sheeva': False, 'lifelike': False, 'goro': False, 'enjoy': False, 'femme': False, 'la': False, 'nikita': False, 'backdraft': False, 'sliver': False, 'cindy': False, 'crawford': False, 'anne': False, 'parillaud': False, 'conspire': False, 'shattered': False, 'image': False, 'hooey': False, 'stallone': False, 'stone': False, 'specialist': False, 'poses': False, 'recurring': False, 'assassin': False, 'honeymooning': False, 'jamaica': False, 'believe': False, 'runs': False, 'painful': False, 'pedestrian': False, 'siouxsie': False, 'sioux': False, 'wig': False, 'emotionless': False, 'leather': False, 'clothing': False, 'seattle': False, 'moping': False, 'karen': False, 'endlessly': False, 'complicated': False, 'plots': False, 'helps': False, 'crisp': False, 'modicum': False, 'shakespearean': False, 'begin': False, 'saddled': False, 'leaden': False, 'zero': False, 'breaking': False, 'cardboard': False, 'confines': False, 'insist': False, 'couldn': False, 'huh': False, 'wonderful': False, 'interchange': False, 'charm': False, 'faster': False, 'learned': False, 'cereal': False, 'crybaby': False, 'imagines': False, 'stranger': False, 'sends': False, 'flowers': False, 'chromium': False, 'tough': False, 'nails': False, 'crack': False, 'killing': False, 'machine': False, 'shoots': False, 'mirrors': False, 'stock': False, 'interested': False, 'nest': False, 'egg': False, 'pave': False, 'paradise': False, 'put': False, 'parking': False, 'graham': False, 'greene': False, 'barbet': False, 'schroeder': False, 'reversal': False, 'fortune': False, 'co': False, 'produced': False, 'agonizingly': False, 'b': False, 'york': False, 'vampires': False, 'latest': False, 'opus': False, 'bent': False, 'outing': False, 'aptly': False, 'titled': False, 'suppose': False, 'went': False, 'prefixed': False, 'possessive': False, 'unashamed': False, 'punctuated': False, 'above': False, 'storyline': False, 'borders': False, 'idiotic': False, 'chaotic': False, 'dormant': False, 'martians': False, 'swirling': False, 'gases': False, 'awakened': False, 'meddling': False, 'possess': False, 'hapless': False, 'colonists': False, 'testy': False, 'marilyn': False, 'manson': False, 'lookalikes': False, 'pooh': False, 'bah': False, 'counsel': False, 'official': False, 'melanie': False, 'ballard': False, 'natasha': False, 'henstridge': False, 'sub': False, 'species': False, 'returnee': False, 'officer': False, 'incarcerated': False, 'felon': False, 'second': False, 'blonde': False, 'pulled': False, 'tightly': False, 'awkwardly': False, 'ponytail': False, 'ice': False, 'cube': False, 'appropriately': False, 'named': False, 'pam': False, 'grier': False, 'briefly': False, 'whom': False, 'wonder': False, 'host': False, 'extras': False, 'therefore': False, 'bird': False, 'shots': False, 'sprawling': False, 'metropolis': False, 'reddish': False, 'state': False, 'art': False, 'trademark': False, 'finding': False, 'department': False, 'lock': False, 'laughing': False, 'barrel': False, 'fare': False, 'dingy': False, 'interiors': False, 'cluttered': False, 'exteriors': False, 'inane': False, 'lots': False, 'scarred': False, 'crazed': False, 'aliens': False, 'weaponry': False, 'warfare': False, 'warning': False, 'spontaneously': False, 'stupidly': False, 'villains': False, 'border': False, 'conflicts': False, 'shootouts': False, 'minus': False, 'hissing': False, 'plissken': False, 'miss': False, 'dubbed': False, 'minimalist': False, 'soundtracks': False, 'graduated': False, 'effective': False, 'scoring': False, 'highlighting': False, 'screeching': False, 'guitar': False, 'fortunately': False, 'drowns': False, 'er': False, 'audible': False, 'priceless': False, 'proven': False, 'infertile': False, 'breeding': False, 'ground': False, 'stillborn': False, 'val': False, 'kilmer': False, 'disappointing': False, 'weekend': False, 'overshadowed': False, 'sequels': False, 'among': False, 'pie': False, 'rush': False, 'absent': False, 'references': False, 'set': False, 'perth': False, 'amboys': False, 'closest': False, 'neighbor': False, 'slap': False, 'upside': False, '1': False, 'keeps': False, 'miraculously': False, 'pretend': False, 'means': False, 'intelligent': False, 'grade': False, 'sci': False, 'fi': False, 'singularly': False, 'luck': False, 'starting': False, 'alicia': False, 'silverstone': False, 'beautiful': False, 'creatures': False, 'green': False, 'critic': False, 'large': False, 'choosing': False, 'strikes': False, 'crush': False, 'slow': False, 'moving': False, 'horrific': False, 'adaptation': False, 'clueless': False, 'mailed': False, 'saying': False, 'theater': False, 'expecting': False, 'preview': False, 'crazymadinlove': False, 'whiny': False, 'unlikable': False, 'wasn': False, 'yelled': False, 'f': False, '$&#': False, 'laugh': False, 'agreement': False, 'walked': False, 'babysitter': False, 'inner': False, 'compulsion': False, 'understand': False, 'rent': False, 'regret': False, 'paragraph': False, 'competition': False, 'criticizing': False, 'thin': False, 'shred': False, 'slower': False, 'glacier': False, 'writing': False, 'appeal': False, 'whatsoever': False, 'pointlessly': False, 'concluded': False, 'violent': False, 'plus': False, 'equals': False, 'spends': False, 'twenty': False, 'bubble': False, 'bath': False, 'joined': False, 'four': False, 'features': False, 'settle': False, 'friday': False, 'cocktail': False, 'automatically': False, 'nights': False, 'trods': False, 'discover': False, 'silent': False, 'object': False, 'male': False, 'fantasies': False, 'thinks': False, 'recapture': False, 'youth': False, 'boyfriend': False, 'lets': False, 'wild': False, 'spying': False, 'outside': False, 'prepubescent': False, 'keyhole': False, 'aged': False, 'counterpart': False, 'asked': False, '200': False, 'pound': False, 'silk': False, 'teddy': False, 'fanatasies': False, 'realm': False, 'pg': False, 'imagine': False, 'cinemax': False, 'staple': False, 'absolutely': False, 'pointed': False, 'classify': False, 'mix': False, 'various': False, 'encounters': False, 'third': False, 'space': False, 'odyssey': False, 'apollo': False, 'contact': False, 'hope': False, 'melange': False, 'considering': False, 'disastrous': False, 'results': False, 'sucks': False, 'rescue': False, 'astronauts': False, 'sent': False, '2020': False, 'unknown': False, 'aviators': False, 'visit': False, 'underwhelming': False, 'describe': False, 'uneven': False, 'promise': False, 'buzz': False, 'neutral': False, 'cherry': False, 'colored': False, 'nerdies': False, 'techie': False}\n"
     ]
    }
   ],
   "source": [
    "def find_features(document):\n",
    "    words= set(document)\n",
    "    features={}\n",
    "    for w in word_features:\n",
    "        features[w]=(w in words)\n",
    "        \n",
    "    return features\n",
    "\n",
    "print((find_features(movie_reviews.words('neg/cv000_29416.txt'))))\n",
    "\n"
   ]
  },
  {
   "cell_type": "code",
   "execution_count": 24,
   "metadata": {},
   "outputs": [],
   "source": [
    "featuresets=[(find_features(rev), category) for (rev, category) in documents]\n"
   ]
  },
  {
   "cell_type": "code",
   "execution_count": 25,
   "metadata": {},
   "outputs": [],
   "source": [
    "training_set= featuresets[:1900]\n",
    "testing_set= featuresets[1900:]"
   ]
  },
  {
   "cell_type": "code",
   "execution_count": 26,
   "metadata": {
    "scrolled": true
   },
   "outputs": [
    {
     "name": "stdout",
     "output_type": "stream",
     "text": [
      "Naive Bayes Algo accuracy percent: 85.0\n",
      "Most Informative Features\n",
      "                   sucks = True              neg : pos    =      9.2 : 1.0\n",
      "                  annual = True              pos : neg    =      9.2 : 1.0\n",
      "                 frances = True              pos : neg    =      9.2 : 1.0\n",
      "           unimaginative = True              neg : pos    =      8.2 : 1.0\n",
      "                 idiotic = True              neg : pos    =      7.1 : 1.0\n",
      "                  shoddy = True              neg : pos    =      6.9 : 1.0\n",
      "             silverstone = True              neg : pos    =      6.9 : 1.0\n",
      "               atrocious = True              neg : pos    =      6.9 : 1.0\n",
      "              schumacher = True              neg : pos    =      6.9 : 1.0\n",
      "                  turkey = True              neg : pos    =      6.6 : 1.0\n",
      "                 singers = True              pos : neg    =      6.5 : 1.0\n",
      "                  regard = True              pos : neg    =      6.3 : 1.0\n",
      "                 kidding = True              neg : pos    =      6.2 : 1.0\n",
      "                  wasted = True              neg : pos    =      5.9 : 1.0\n",
      "                obstacle = True              pos : neg    =      5.8 : 1.0\n"
     ]
    }
   ],
   "source": [
    "classifier=nltk.NaiveBayesClassifier.train(training_set)\n",
    "print(\"Naive Bayes Algo accuracy percent:\", (nltk.classify.accuracy(classifier, testing_set))*100)\n",
    "classifier.show_most_informative_features(15)"
   ]
  },
  {
   "cell_type": "code",
   "execution_count": 27,
   "metadata": {},
   "outputs": [],
   "source": [
    "save_classifier=open(\"naivebayes.pickle\",\"wb\")\n",
    "pickle.dump(classifier, save_classifier)\n",
    "save_classifier.close()"
   ]
  },
  {
   "cell_type": "code",
   "execution_count": 28,
   "metadata": {},
   "outputs": [],
   "source": [
    "classifier_f=open(\"naivebayes.pickle\",\"rb\")\n",
    "classifier=pickle.load(classifier_f)\n",
    "classifier_f.close()"
   ]
  },
  {
   "cell_type": "code",
   "execution_count": 29,
   "metadata": {
    "scrolled": true
   },
   "outputs": [
    {
     "name": "stdout",
     "output_type": "stream",
     "text": [
      "Naive Bayes Algo accuracy percent: 85.0\n",
      "Most Informative Features\n",
      "                   sucks = True              neg : pos    =      9.2 : 1.0\n",
      "                  annual = True              pos : neg    =      9.2 : 1.0\n",
      "                 frances = True              pos : neg    =      9.2 : 1.0\n",
      "           unimaginative = True              neg : pos    =      8.2 : 1.0\n",
      "                 idiotic = True              neg : pos    =      7.1 : 1.0\n",
      "                  shoddy = True              neg : pos    =      6.9 : 1.0\n",
      "             silverstone = True              neg : pos    =      6.9 : 1.0\n",
      "               atrocious = True              neg : pos    =      6.9 : 1.0\n",
      "              schumacher = True              neg : pos    =      6.9 : 1.0\n",
      "                  turkey = True              neg : pos    =      6.6 : 1.0\n",
      "                 singers = True              pos : neg    =      6.5 : 1.0\n",
      "                  regard = True              pos : neg    =      6.3 : 1.0\n",
      "                 kidding = True              neg : pos    =      6.2 : 1.0\n",
      "                  wasted = True              neg : pos    =      5.9 : 1.0\n",
      "                obstacle = True              pos : neg    =      5.8 : 1.0\n"
     ]
    }
   ],
   "source": [
    "print(\"Naive Bayes Algo accuracy percent:\", (nltk.classify.accuracy(classifier, testing_set))*100)\n",
    "classifier.show_most_informative_features(15)"
   ]
  },
  {
   "cell_type": "raw",
   "metadata": {},
   "source": [
    "Scikit-Learn incorporation - Natural Language Processing with Python and NLTK"
   ]
  },
  {
   "cell_type": "code",
   "execution_count": 30,
   "metadata": {},
   "outputs": [
    {
     "name": "stdout",
     "output_type": "stream",
     "text": [
      "MNB_classifier accuracy percent: 84.0\n"
     ]
    }
   ],
   "source": [
    "MNB_classifier= SklearnClassifier(MultinomialNB())\n",
    "MNB_classifier.train(training_set)\n",
    "print(\"MNB_classifier accuracy percent:\", (nltk.classify.accuracy(MNB_classifier, testing_set))*100)"
   ]
  },
  {
   "cell_type": "raw",
   "metadata": {},
   "source": [
    "GaussianNB_classifier= SklearnClassifier(GaussianNB())\n",
    "GaussianNB_classifier.train(training_set)\n",
    "print(\"GaussianNB_classifier accuracy percent:\", (nltk.classify.accuracy(GaussianNB_classifier, testing_set))*100)\n",
    "\n",
    "# you have to do same for the bernoulli in this code some error was coming"
   ]
  },
  {
   "cell_type": "code",
   "execution_count": 31,
   "metadata": {},
   "outputs": [
    {
     "name": "stdout",
     "output_type": "stream",
     "text": [
      "BernoulliNB_classifier accuracy percent: 85.0\n"
     ]
    }
   ],
   "source": [
    "BernoulliNB_classifier= SklearnClassifier(BernoulliNB())\n",
    "BernoulliNB_classifier.train(training_set)\n",
    "print(\"BernoulliNB_classifier accuracy percent:\", (nltk.classify.accuracy(BernoulliNB_classifier, testing_set))*100)"
   ]
  },
  {
   "cell_type": "raw",
   "metadata": {},
   "source": [
    "LogisticRegression, SGDClassifier\n",
    "SVC, LinearSVC, NuSVC"
   ]
  },
  {
   "cell_type": "code",
   "execution_count": 32,
   "metadata": {},
   "outputs": [
    {
     "name": "stdout",
     "output_type": "stream",
     "text": [
      "LogisticRegression_classifier accuracy percent: 86.0\n"
     ]
    },
    {
     "name": "stderr",
     "output_type": "stream",
     "text": [
      "/Users/mudassaraliansari/opt/anaconda3/lib/python3.8/site-packages/sklearn/linear_model/_logistic.py:762: ConvergenceWarning: lbfgs failed to converge (status=1):\n",
      "STOP: TOTAL NO. of ITERATIONS REACHED LIMIT.\n",
      "\n",
      "Increase the number of iterations (max_iter) or scale the data as shown in:\n",
      "    https://scikit-learn.org/stable/modules/preprocessing.html\n",
      "Please also refer to the documentation for alternative solver options:\n",
      "    https://scikit-learn.org/stable/modules/linear_model.html#logistic-regression\n",
      "  n_iter_i = _check_optimize_result(\n"
     ]
    }
   ],
   "source": [
    "LogisticRegression_classifier= SklearnClassifier(LogisticRegression())\n",
    "LogisticRegression_classifier.train(training_set)\n",
    "print(\"LogisticRegression_classifier accuracy percent:\", (nltk.classify.accuracy(LogisticRegression_classifier, testing_set))*100)"
   ]
  },
  {
   "cell_type": "code",
   "execution_count": 33,
   "metadata": {},
   "outputs": [
    {
     "name": "stdout",
     "output_type": "stream",
     "text": [
      "SGDClassifier accuracy percent: 88.0\n"
     ]
    }
   ],
   "source": [
    "SGDClassifier_classifier= SklearnClassifier(SGDClassifier())\n",
    "SGDClassifier_classifier.train(training_set)\n",
    "print(\"SGDClassifier accuracy percent:\", (nltk.classify.accuracy(SGDClassifier_classifier, testing_set))*100)"
   ]
  },
  {
   "cell_type": "code",
   "execution_count": 36,
   "metadata": {},
   "outputs": [
    {
     "name": "stdout",
     "output_type": "stream",
     "text": [
      "SVC_classifier accuracy percent: 86.0\n"
     ]
    }
   ],
   "source": [
    "SVC_classifier= SklearnClassifier(SVC())\n",
    "SVC_classifier.train(training_set)\n",
    "print(\"SVC_classifier accuracy percent:\", (nltk.classify.accuracy(SVC_classifier, testing_set))*100)"
   ]
  },
  {
   "cell_type": "code",
   "execution_count": 37,
   "metadata": {},
   "outputs": [
    {
     "name": "stdout",
     "output_type": "stream",
     "text": [
      "LinearSVC_classifier accuracy percent: 85.0\n"
     ]
    }
   ],
   "source": [
    "LinearSVC_classifier= SklearnClassifier(LinearSVC())\n",
    "LinearSVC_classifier.train(training_set)\n",
    "print(\"LinearSVC_classifier accuracy percent:\", (nltk.classify.accuracy(LinearSVC_classifier, testing_set))*100)"
   ]
  },
  {
   "cell_type": "code",
   "execution_count": 38,
   "metadata": {},
   "outputs": [
    {
     "name": "stdout",
     "output_type": "stream",
     "text": [
      "NuSVC_classifier accuracy percent: 85.0\n"
     ]
    }
   ],
   "source": [
    "NuSVC_classifier= SklearnClassifier(NuSVC())\n",
    "NuSVC_classifier.train(training_set)\n",
    "print(\"NuSVC_classifier accuracy percent:\", (nltk.classify.accuracy(NuSVC_classifier, testing_set))*100)"
   ]
  },
  {
   "cell_type": "code",
   "execution_count": 39,
   "metadata": {
    "scrolled": true
   },
   "outputs": [
    {
     "name": "stdout",
     "output_type": "stream",
     "text": [
      "voted_classifier accuracy percent: 88.0\n",
      "Classification: pos Confidence %: 100.0\n",
      "Classification: pos Confidence %: 100.0\n",
      "Classification: pos Confidence %: 100.0\n",
      "Classification: neg Confidence %: 100.0\n",
      "Classification: pos Confidence %: 100.0\n",
      "Classification: neg Confidence %: 100.0\n"
     ]
    }
   ],
   "source": [
    "voted_classifier = VoteClassifier(classifier,\n",
    "                                  NuSVC_classifier,\n",
    "                                  LinearSVC_classifier,\n",
    "                                  SGDClassifier_classifier,\n",
    "                                  MNB_classifier,\n",
    "                                  BernoulliNB_classifier,\n",
    "                                  LogisticRegression_classifier)\n",
    "\n",
    "print(\"voted_classifier accuracy percent:\", (nltk.classify.accuracy(voted_classifier, testing_set))*100)\n",
    "\n",
    "print(\"Classification:\", voted_classifier.classify(testing_set[0][0]), \"Confidence %:\",voted_classifier.confidence(testing_set[0][0])*100)\n",
    "print(\"Classification:\", voted_classifier.classify(testing_set[1][0]), \"Confidence %:\",voted_classifier.confidence(testing_set[1][0])*100)\n",
    "print(\"Classification:\", voted_classifier.classify(testing_set[2][0]), \"Confidence %:\",voted_classifier.confidence(testing_set[2][0])*100)\n",
    "print(\"Classification:\", voted_classifier.classify(testing_set[3][0]), \"Confidence %:\",voted_classifier.confidence(testing_set[3][0])*100)\n",
    "print(\"Classification:\", voted_classifier.classify(testing_set[4][0]), \"Confidence %:\",voted_classifier.confidence(testing_set[4][0])*100)\n",
    "print(\"Classification:\", voted_classifier.classify(testing_set[5][0]), \"Confidence %:\",voted_classifier.confidence(testing_set[5][0])*100)"
   ]
  },
  {
   "cell_type": "raw",
   "metadata": {},
   "source": [
    "Improving Traing Data for Sentiment Analysis"
   ]
  },
  {
   "cell_type": "raw",
   "metadata": {},
   "source": [
    "import nltk\n",
    "import random\n",
    "from nltk.corpus import movie_reviews\n",
    "from nltk.classify.scikitlearn import SklearnClassifier\n",
    "import pickle\n",
    "\n",
    "from sklearn.naive_bayes import MultinomialNB, BernoulliNB\n",
    "from sklearn.linear_model import LogisticRegression, SGDClassifier\n",
    "from sklearn.svm import SVC, LinearSVC, NuSVC\n",
    "\n",
    "from nltk.classify import ClassifierI\n",
    "from statistics import mode\n",
    "\n",
    "from nltk.tokenize import word_tokenize\n",
    "\n",
    "\n",
    "class VoteClassifier(ClassifierI):\n",
    "    def __init__(self, *classifiers):\n",
    "        self._classifiers = classifiers\n",
    "\n",
    "    def classify(self, features):\n",
    "        votes = []\n",
    "        for c in self._classifiers:\n",
    "            v = c.classify(features)\n",
    "            votes.append(v)\n",
    "        return mode(votes)\n",
    "\n",
    "    def confidence(self, features):\n",
    "        votes = []\n",
    "        for c in self._classifiers:\n",
    "            v = c.classify(features)\n",
    "            votes.append(v)\n",
    "\n",
    "        choice_votes = votes.count(mode(votes))\n",
    "        conf = choice_votes / len(votes)\n",
    "        return conf\n",
    "        \n",
    "short_pos = open(\"short_reviews/positive.txt\",\"r\").read()\n",
    "short_neg = open(\"short_reviews/negative.txt\",\"r\").read()\n",
    "\n",
    "documents = []\n",
    "\n",
    "for r in short_pos.split('\\n'):\n",
    "    documents.append( (r, \"pos\") )\n",
    "\n",
    "for r in short_neg.split('\\n'):\n",
    "    documents.append( (r, \"neg\") )\n",
    "\n",
    "\n",
    "all_words = []\n",
    "\n",
    "short_pos_words = word_tokenize(short_pos)\n",
    "short_neg_words = word_tokenize(short_neg)\n",
    "\n",
    "for w in short_pos_words:\n",
    "    all_words.append(w.lower())\n",
    "\n",
    "for w in short_neg_words:\n",
    "    all_words.append(w.lower())\n",
    "\n",
    "all_words = nltk.FreqDist(all_words)\n",
    "\n",
    "word_features = list(all_words.keys())[:5000]\n",
    "\n",
    "def find_features(document):\n",
    "    words = word_tokenize(document)\n",
    "    features = {}\n",
    "    for w in word_features:\n",
    "        features[w] = (w in words)\n",
    "\n",
    "    return features\n",
    "\n",
    "#print((find_features(movie_reviews.words('neg/cv000_29416.txt'))))\n",
    "\n",
    "featuresets = [(find_features(rev), category) for (rev, category) in documents]\n",
    "\n",
    "random.shuffle(featuresets)\n",
    "\n",
    "# positive data example:      \n",
    "training_set = featuresets[:10000]\n",
    "testing_set =  featuresets[10000:]\n",
    "\n",
    "##\n",
    "### negative data example:      \n",
    "##training_set = featuresets[100:]\n",
    "##testing_set =  featuresets[:100]\n",
    "\n",
    "\n",
    "classifier = nltk.NaiveBayesClassifier.train(training_set)\n",
    "print(\"Original Naive Bayes Algo accuracy percent:\", (nltk.classify.accuracy(classifier, testing_set))*100)\n",
    "classifier.show_most_informative_features(15)\n",
    "\n",
    "MNB_classifier = SklearnClassifier(MultinomialNB())\n",
    "MNB_classifier.train(training_set)\n",
    "print(\"MNB_classifier accuracy percent:\", (nltk.classify.accuracy(MNB_classifier, testing_set))*100)\n",
    "\n",
    "BernoulliNB_classifier = SklearnClassifier(BernoulliNB())\n",
    "BernoulliNB_classifier.train(training_set)\n",
    "print(\"BernoulliNB_classifier accuracy percent:\", (nltk.classify.accuracy(BernoulliNB_classifier, testing_set))*100)\n",
    "\n",
    "LogisticRegression_classifier = SklearnClassifier(LogisticRegression())\n",
    "LogisticRegression_classifier.train(training_set)\n",
    "print(\"LogisticRegression_classifier accuracy percent:\", (nltk.classify.accuracy(LogisticRegression_classifier, testing_set))*100)\n",
    "\n",
    "SGDClassifier_classifier = SklearnClassifier(SGDClassifier())\n",
    "SGDClassifier_classifier.train(training_set)\n",
    "print(\"SGDClassifier_classifier accuracy percent:\", (nltk.classify.accuracy(SGDClassifier_classifier, testing_set))*100)\n",
    "\n",
    "##SVC_classifier = SklearnClassifier(SVC())\n",
    "##SVC_classifier.train(training_set)\n",
    "##print(\"SVC_classifier accuracy percent:\", (nltk.classify.accuracy(SVC_classifier, testing_set))*100)\n",
    "\n",
    "LinearSVC_classifier = SklearnClassifier(LinearSVC())\n",
    "LinearSVC_classifier.train(training_set)\n",
    "print(\"LinearSVC_classifier accuracy percent:\", (nltk.classify.accuracy(LinearSVC_classifier, testing_set))*100)\n",
    "\n",
    "NuSVC_classifier = SklearnClassifier(NuSVC())\n",
    "NuSVC_classifier.train(training_set)\n",
    "print(\"NuSVC_classifier accuracy percent:\", (nltk.classify.accuracy(NuSVC_classifier, testing_set))*100)\n",
    "\n",
    "\n",
    "voted_classifier = VoteClassifier(\n",
    "                                  NuSVC_classifier,\n",
    "                                  LinearSVC_classifier,\n",
    "                                  MNB_classifier,\n",
    "                                  BernoulliNB_classifier,\n",
    "                                  LogisticRegression_classifier)\n",
    "\n",
    "print(\"voted_classifier accuracy percent:\", (nltk.classify.accuracy(voted_classifier, testing_set))*100)"
   ]
  },
  {
   "cell_type": "raw",
   "metadata": {},
   "source": [
    "OUTPUT"
   ]
  },
  {
   "cell_type": "raw",
   "metadata": {},
   "source": [
    "Original Naive Bayes Algo accuracy percent: 66.26506024096386\n",
    "Most Informative Features\n",
    "              refreshing = True              pos : neg    =     13.6 : 1.0\n",
    "                captures = True              pos : neg    =     11.3 : 1.0\n",
    "                  stupid = True              neg : pos    =     10.7 : 1.0\n",
    "                  tender = True              pos : neg    =      9.6 : 1.0\n",
    "              meandering = True              neg : pos    =      9.1 : 1.0\n",
    "                      tv = True              neg : pos    =      8.6 : 1.0\n",
    "                 low-key = True              pos : neg    =      8.3 : 1.0\n",
    "              thoughtful = True              pos : neg    =      8.1 : 1.0\n",
    "                   banal = True              neg : pos    =      7.7 : 1.0\n",
    "              amateurish = True              neg : pos    =      7.7 : 1.0\n",
    "                terrific = True              pos : neg    =      7.6 : 1.0\n",
    "                  record = True              pos : neg    =      7.6 : 1.0\n",
    "             captivating = True              pos : neg    =      7.6 : 1.0\n",
    "                portrait = True              pos : neg    =      7.4 : 1.0\n",
    "                 culture = True              pos : neg    =      7.3 : 1.0\n",
    "MNB_classifier accuracy percent: 65.8132530120482\n",
    "BernoulliNB_classifier accuracy percent: 66.71686746987952\n",
    "LogisticRegression_classifier accuracy percent: 67.16867469879519\n",
    "SGDClassifier_classifier accuracy percent: 65.8132530120482\n",
    "LinearSVC_classifier accuracy percent: 66.71686746987952\n",
    "NuSVC_classifier accuracy percent: 60.09036144578314\n",
    "voted_classifier accuracy percent: 65.66265060240963\n"
   ]
  },
  {
   "cell_type": "raw",
   "metadata": {},
   "source": [
    "Creating a Module for Sentiment Analysis left"
   ]
  }
 ],
 "metadata": {
  "kernelspec": {
   "display_name": "Python 3",
   "language": "python",
   "name": "python3"
  },
  "language_info": {
   "codemirror_mode": {
    "name": "ipython",
    "version": 3
   },
   "file_extension": ".py",
   "mimetype": "text/x-python",
   "name": "python",
   "nbconvert_exporter": "python",
   "pygments_lexer": "ipython3",
   "version": "3.8.5"
  }
 },
 "nbformat": 4,
 "nbformat_minor": 4
}
